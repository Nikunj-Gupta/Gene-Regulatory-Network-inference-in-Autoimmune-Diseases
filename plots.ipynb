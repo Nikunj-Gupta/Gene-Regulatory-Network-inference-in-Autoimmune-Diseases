{
 "cells": [
  {
   "cell_type": "code",
   "execution_count": 5,
   "id": "67035adf",
   "metadata": {},
   "outputs": [],
   "source": [
    "import pandas as pd \n",
    "import numpy as np \n",
    "\n",
    "import matplotlib.pyplot as plt\n",
    "plt.rcParams['figure.figsize'] = [15, 10] "
   ]
  },
  {
   "cell_type": "code",
   "execution_count": 2,
   "id": "f57f860e",
   "metadata": {},
   "outputs": [
    {
     "data": {
      "text/html": [
       "<div>\n",
       "<style scoped>\n",
       "    .dataframe tbody tr th:only-of-type {\n",
       "        vertical-align: middle;\n",
       "    }\n",
       "\n",
       "    .dataframe tbody tr th {\n",
       "        vertical-align: top;\n",
       "    }\n",
       "\n",
       "    .dataframe thead th {\n",
       "        text-align: right;\n",
       "    }\n",
       "</style>\n",
       "<table border=\"1\" class=\"dataframe\">\n",
       "  <thead>\n",
       "    <tr style=\"text-align: right;\">\n",
       "      <th></th>\n",
       "      <th>Unnamed: 0</th>\n",
       "      <th>GSM3428310</th>\n",
       "      <th>GSM3428311</th>\n",
       "      <th>GSM3428312</th>\n",
       "      <th>GSM3428313</th>\n",
       "      <th>GSM3428314</th>\n",
       "      <th>GSM3428315</th>\n",
       "      <th>GSM3428316</th>\n",
       "      <th>GSM3428317</th>\n",
       "      <th>GSM3428318</th>\n",
       "      <th>...</th>\n",
       "      <th>GSM3428612</th>\n",
       "      <th>GSM3428613</th>\n",
       "      <th>GSM3428614</th>\n",
       "      <th>GSM3428615</th>\n",
       "      <th>GSM3428616</th>\n",
       "      <th>GSM3428617</th>\n",
       "      <th>GSM3428618</th>\n",
       "      <th>GSM3428619</th>\n",
       "      <th>GSM3428620</th>\n",
       "      <th>GSM3428621</th>\n",
       "    </tr>\n",
       "  </thead>\n",
       "  <tbody>\n",
       "    <tr>\n",
       "      <th>0</th>\n",
       "      <td>1007_PM_s_at</td>\n",
       "      <td>4.955257</td>\n",
       "      <td>4.870351</td>\n",
       "      <td>4.889382</td>\n",
       "      <td>4.956931</td>\n",
       "      <td>4.518659</td>\n",
       "      <td>4.039076</td>\n",
       "      <td>4.363994</td>\n",
       "      <td>4.474612</td>\n",
       "      <td>4.109501</td>\n",
       "      <td>...</td>\n",
       "      <td>4.143518</td>\n",
       "      <td>4.163726</td>\n",
       "      <td>3.552997</td>\n",
       "      <td>4.688624</td>\n",
       "      <td>4.101748</td>\n",
       "      <td>3.987773</td>\n",
       "      <td>4.674258</td>\n",
       "      <td>4.855265</td>\n",
       "      <td>5.227129</td>\n",
       "      <td>5.702039</td>\n",
       "    </tr>\n",
       "    <tr>\n",
       "      <th>1</th>\n",
       "      <td>1053_PM_at</td>\n",
       "      <td>5.984784</td>\n",
       "      <td>6.119432</td>\n",
       "      <td>5.914195</td>\n",
       "      <td>5.887814</td>\n",
       "      <td>5.962590</td>\n",
       "      <td>6.213503</td>\n",
       "      <td>6.523682</td>\n",
       "      <td>6.630676</td>\n",
       "      <td>6.424815</td>\n",
       "      <td>...</td>\n",
       "      <td>5.601486</td>\n",
       "      <td>5.307239</td>\n",
       "      <td>5.585876</td>\n",
       "      <td>6.538760</td>\n",
       "      <td>6.420332</td>\n",
       "      <td>5.949633</td>\n",
       "      <td>5.587069</td>\n",
       "      <td>6.032248</td>\n",
       "      <td>6.317659</td>\n",
       "      <td>6.449117</td>\n",
       "    </tr>\n",
       "    <tr>\n",
       "      <th>2</th>\n",
       "      <td>117_PM_at</td>\n",
       "      <td>9.477945</td>\n",
       "      <td>9.828793</td>\n",
       "      <td>9.719707</td>\n",
       "      <td>9.148228</td>\n",
       "      <td>9.378308</td>\n",
       "      <td>9.688581</td>\n",
       "      <td>8.985668</td>\n",
       "      <td>10.329326</td>\n",
       "      <td>8.890190</td>\n",
       "      <td>...</td>\n",
       "      <td>9.077410</td>\n",
       "      <td>9.349135</td>\n",
       "      <td>9.554533</td>\n",
       "      <td>9.941707</td>\n",
       "      <td>10.278584</td>\n",
       "      <td>9.672171</td>\n",
       "      <td>8.650779</td>\n",
       "      <td>9.264324</td>\n",
       "      <td>9.430051</td>\n",
       "      <td>9.660996</td>\n",
       "    </tr>\n",
       "    <tr>\n",
       "      <th>3</th>\n",
       "      <td>121_PM_at</td>\n",
       "      <td>4.553229</td>\n",
       "      <td>4.487615</td>\n",
       "      <td>4.645168</td>\n",
       "      <td>4.681996</td>\n",
       "      <td>4.990632</td>\n",
       "      <td>4.762670</td>\n",
       "      <td>4.528352</td>\n",
       "      <td>4.693206</td>\n",
       "      <td>3.875943</td>\n",
       "      <td>...</td>\n",
       "      <td>5.177162</td>\n",
       "      <td>4.961182</td>\n",
       "      <td>5.267552</td>\n",
       "      <td>4.404966</td>\n",
       "      <td>4.013917</td>\n",
       "      <td>4.234865</td>\n",
       "      <td>4.418242</td>\n",
       "      <td>4.269110</td>\n",
       "      <td>4.115500</td>\n",
       "      <td>4.135403</td>\n",
       "    </tr>\n",
       "    <tr>\n",
       "      <th>4</th>\n",
       "      <td>1255_PM_g_at</td>\n",
       "      <td>1.921190</td>\n",
       "      <td>2.169639</td>\n",
       "      <td>2.410481</td>\n",
       "      <td>1.885852</td>\n",
       "      <td>1.987256</td>\n",
       "      <td>2.029976</td>\n",
       "      <td>2.110129</td>\n",
       "      <td>2.136902</td>\n",
       "      <td>2.169476</td>\n",
       "      <td>...</td>\n",
       "      <td>2.224418</td>\n",
       "      <td>2.158327</td>\n",
       "      <td>2.316911</td>\n",
       "      <td>1.942149</td>\n",
       "      <td>1.929420</td>\n",
       "      <td>1.862300</td>\n",
       "      <td>1.842566</td>\n",
       "      <td>2.258901</td>\n",
       "      <td>1.951895</td>\n",
       "      <td>1.896087</td>\n",
       "    </tr>\n",
       "    <tr>\n",
       "      <th>...</th>\n",
       "      <td>...</td>\n",
       "      <td>...</td>\n",
       "      <td>...</td>\n",
       "      <td>...</td>\n",
       "      <td>...</td>\n",
       "      <td>...</td>\n",
       "      <td>...</td>\n",
       "      <td>...</td>\n",
       "      <td>...</td>\n",
       "      <td>...</td>\n",
       "      <td>...</td>\n",
       "      <td>...</td>\n",
       "      <td>...</td>\n",
       "      <td>...</td>\n",
       "      <td>...</td>\n",
       "      <td>...</td>\n",
       "      <td>...</td>\n",
       "      <td>...</td>\n",
       "      <td>...</td>\n",
       "      <td>...</td>\n",
       "      <td>...</td>\n",
       "    </tr>\n",
       "    <tr>\n",
       "      <th>54710</th>\n",
       "      <td>AFFX-ThrX-5_at</td>\n",
       "      <td>2.365662</td>\n",
       "      <td>2.344025</td>\n",
       "      <td>2.537787</td>\n",
       "      <td>2.140112</td>\n",
       "      <td>2.381164</td>\n",
       "      <td>8.440270</td>\n",
       "      <td>8.646316</td>\n",
       "      <td>8.013230</td>\n",
       "      <td>8.402119</td>\n",
       "      <td>...</td>\n",
       "      <td>2.192767</td>\n",
       "      <td>2.476008</td>\n",
       "      <td>2.580959</td>\n",
       "      <td>2.440795</td>\n",
       "      <td>2.469701</td>\n",
       "      <td>2.252614</td>\n",
       "      <td>3.157310</td>\n",
       "      <td>2.106090</td>\n",
       "      <td>2.005743</td>\n",
       "      <td>2.026090</td>\n",
       "    </tr>\n",
       "    <tr>\n",
       "      <th>54711</th>\n",
       "      <td>AFFX-ThrX-M_at</td>\n",
       "      <td>2.277690</td>\n",
       "      <td>2.480338</td>\n",
       "      <td>2.475397</td>\n",
       "      <td>2.749770</td>\n",
       "      <td>2.593526</td>\n",
       "      <td>9.183744</td>\n",
       "      <td>9.454726</td>\n",
       "      <td>8.446197</td>\n",
       "      <td>9.143964</td>\n",
       "      <td>...</td>\n",
       "      <td>2.639253</td>\n",
       "      <td>2.443756</td>\n",
       "      <td>2.271883</td>\n",
       "      <td>2.293643</td>\n",
       "      <td>2.424896</td>\n",
       "      <td>2.411526</td>\n",
       "      <td>2.435952</td>\n",
       "      <td>2.237814</td>\n",
       "      <td>2.377712</td>\n",
       "      <td>2.230381</td>\n",
       "    </tr>\n",
       "    <tr>\n",
       "      <th>54712</th>\n",
       "      <td>AFFX-TrpnX-3_at</td>\n",
       "      <td>1.897895</td>\n",
       "      <td>1.632143</td>\n",
       "      <td>1.534480</td>\n",
       "      <td>1.484037</td>\n",
       "      <td>1.949685</td>\n",
       "      <td>1.589518</td>\n",
       "      <td>1.552478</td>\n",
       "      <td>1.641031</td>\n",
       "      <td>1.505580</td>\n",
       "      <td>...</td>\n",
       "      <td>1.738948</td>\n",
       "      <td>1.855197</td>\n",
       "      <td>1.884866</td>\n",
       "      <td>1.881311</td>\n",
       "      <td>1.598604</td>\n",
       "      <td>1.661921</td>\n",
       "      <td>1.836948</td>\n",
       "      <td>1.777169</td>\n",
       "      <td>1.550851</td>\n",
       "      <td>1.626575</td>\n",
       "    </tr>\n",
       "    <tr>\n",
       "      <th>54713</th>\n",
       "      <td>AFFX-TrpnX-5_at</td>\n",
       "      <td>2.335483</td>\n",
       "      <td>2.280212</td>\n",
       "      <td>2.479271</td>\n",
       "      <td>2.404451</td>\n",
       "      <td>2.560628</td>\n",
       "      <td>2.382748</td>\n",
       "      <td>2.314126</td>\n",
       "      <td>2.433191</td>\n",
       "      <td>2.334751</td>\n",
       "      <td>...</td>\n",
       "      <td>2.822136</td>\n",
       "      <td>2.517637</td>\n",
       "      <td>2.529161</td>\n",
       "      <td>2.802461</td>\n",
       "      <td>2.411997</td>\n",
       "      <td>2.470162</td>\n",
       "      <td>2.490672</td>\n",
       "      <td>2.299285</td>\n",
       "      <td>2.253745</td>\n",
       "      <td>2.420385</td>\n",
       "    </tr>\n",
       "    <tr>\n",
       "      <th>54714</th>\n",
       "      <td>AFFX-TrpnX-M_at</td>\n",
       "      <td>2.208698</td>\n",
       "      <td>2.123957</td>\n",
       "      <td>2.022023</td>\n",
       "      <td>2.013830</td>\n",
       "      <td>2.012157</td>\n",
       "      <td>2.110307</td>\n",
       "      <td>1.914807</td>\n",
       "      <td>2.024607</td>\n",
       "      <td>1.898835</td>\n",
       "      <td>...</td>\n",
       "      <td>2.238586</td>\n",
       "      <td>2.424238</td>\n",
       "      <td>2.465861</td>\n",
       "      <td>2.251417</td>\n",
       "      <td>2.045580</td>\n",
       "      <td>2.132129</td>\n",
       "      <td>2.029212</td>\n",
       "      <td>2.355240</td>\n",
       "      <td>2.040009</td>\n",
       "      <td>1.981722</td>\n",
       "    </tr>\n",
       "  </tbody>\n",
       "</table>\n",
       "<p>54715 rows × 313 columns</p>\n",
       "</div>"
      ],
      "text/plain": [
       "            Unnamed: 0  GSM3428310  GSM3428311  GSM3428312  GSM3428313  \\\n",
       "0         1007_PM_s_at    4.955257    4.870351    4.889382    4.956931   \n",
       "1           1053_PM_at    5.984784    6.119432    5.914195    5.887814   \n",
       "2            117_PM_at    9.477945    9.828793    9.719707    9.148228   \n",
       "3            121_PM_at    4.553229    4.487615    4.645168    4.681996   \n",
       "4         1255_PM_g_at    1.921190    2.169639    2.410481    1.885852   \n",
       "...                ...         ...         ...         ...         ...   \n",
       "54710   AFFX-ThrX-5_at    2.365662    2.344025    2.537787    2.140112   \n",
       "54711   AFFX-ThrX-M_at    2.277690    2.480338    2.475397    2.749770   \n",
       "54712  AFFX-TrpnX-3_at    1.897895    1.632143    1.534480    1.484037   \n",
       "54713  AFFX-TrpnX-5_at    2.335483    2.280212    2.479271    2.404451   \n",
       "54714  AFFX-TrpnX-M_at    2.208698    2.123957    2.022023    2.013830   \n",
       "\n",
       "       GSM3428314  GSM3428315  GSM3428316  GSM3428317  GSM3428318  ...  \\\n",
       "0        4.518659    4.039076    4.363994    4.474612    4.109501  ...   \n",
       "1        5.962590    6.213503    6.523682    6.630676    6.424815  ...   \n",
       "2        9.378308    9.688581    8.985668   10.329326    8.890190  ...   \n",
       "3        4.990632    4.762670    4.528352    4.693206    3.875943  ...   \n",
       "4        1.987256    2.029976    2.110129    2.136902    2.169476  ...   \n",
       "...           ...         ...         ...         ...         ...  ...   \n",
       "54710    2.381164    8.440270    8.646316    8.013230    8.402119  ...   \n",
       "54711    2.593526    9.183744    9.454726    8.446197    9.143964  ...   \n",
       "54712    1.949685    1.589518    1.552478    1.641031    1.505580  ...   \n",
       "54713    2.560628    2.382748    2.314126    2.433191    2.334751  ...   \n",
       "54714    2.012157    2.110307    1.914807    2.024607    1.898835  ...   \n",
       "\n",
       "       GSM3428612  GSM3428613  GSM3428614  GSM3428615  GSM3428616  GSM3428617  \\\n",
       "0        4.143518    4.163726    3.552997    4.688624    4.101748    3.987773   \n",
       "1        5.601486    5.307239    5.585876    6.538760    6.420332    5.949633   \n",
       "2        9.077410    9.349135    9.554533    9.941707   10.278584    9.672171   \n",
       "3        5.177162    4.961182    5.267552    4.404966    4.013917    4.234865   \n",
       "4        2.224418    2.158327    2.316911    1.942149    1.929420    1.862300   \n",
       "...           ...         ...         ...         ...         ...         ...   \n",
       "54710    2.192767    2.476008    2.580959    2.440795    2.469701    2.252614   \n",
       "54711    2.639253    2.443756    2.271883    2.293643    2.424896    2.411526   \n",
       "54712    1.738948    1.855197    1.884866    1.881311    1.598604    1.661921   \n",
       "54713    2.822136    2.517637    2.529161    2.802461    2.411997    2.470162   \n",
       "54714    2.238586    2.424238    2.465861    2.251417    2.045580    2.132129   \n",
       "\n",
       "       GSM3428618  GSM3428619  GSM3428620  GSM3428621  \n",
       "0        4.674258    4.855265    5.227129    5.702039  \n",
       "1        5.587069    6.032248    6.317659    6.449117  \n",
       "2        8.650779    9.264324    9.430051    9.660996  \n",
       "3        4.418242    4.269110    4.115500    4.135403  \n",
       "4        1.842566    2.258901    1.951895    1.896087  \n",
       "...           ...         ...         ...         ...  \n",
       "54710    3.157310    2.106090    2.005743    2.026090  \n",
       "54711    2.435952    2.237814    2.377712    2.230381  \n",
       "54712    1.836948    1.777169    1.550851    1.626575  \n",
       "54713    2.490672    2.299285    2.253745    2.420385  \n",
       "54714    2.029212    2.355240    2.040009    1.981722  \n",
       "\n",
       "[54715 rows x 313 columns]"
      ]
     },
     "execution_count": 2,
     "metadata": {},
     "output_type": "execute_result"
    }
   ],
   "source": [
    "raw_expre = pd.read_csv('datasets/GSE121239/GSE121239/raw_expre.csv', sep=\",\")  \n",
    "raw_expre "
   ]
  },
  {
   "cell_type": "code",
   "execution_count": 3,
   "id": "9ce9473d",
   "metadata": {},
   "outputs": [],
   "source": [
    "\"\"\"\n",
    "Mapping IDs for ELF1 / IRF1 / SYNGR1  \n",
    "\"\"\"\n",
    "\n",
    "id_refs = {'GSE121239_family.soft.gz': \n",
    "           {'ELF1': ['212418_PM_at', '212420_PM_at'],\n",
    "            'IRF1': ['202531_PM_at', '238725_PM_at'], \n",
    "            'SYNGR1': ['204287_PM_at', '213854_PM_at', '210613_PM_s_at'] \n",
    "           }\n",
    "          } \n",
    "elf1 = id_refs['GSE121239_family.soft.gz']['ELF1'][0] \n",
    "irf1 = id_refs['GSE121239_family.soft.gz']['IRF1'][0] \n",
    "syngr1 = id_refs['GSE121239_family.soft.gz']['SYNGR1'][0] "
   ]
  },
  {
   "cell_type": "markdown",
   "id": "341a0cb6",
   "metadata": {},
   "source": [
    "## Gene Plots (for ELF1 / IRF1 / SYNGR1)"
   ]
  },
  {
   "cell_type": "code",
   "execution_count": 6,
   "id": "228db362",
   "metadata": {},
   "outputs": [
    {
     "data": {
      "text/plain": [
       "<AxesSubplot:xlabel='new_col', ylabel='21723'>"
      ]
     },
     "execution_count": 6,
     "metadata": {},
     "output_type": "execute_result"
    },
    {
     "data": {
      "image/png": "[encoded data removed]",
      "text/plain": [
       "<Figure size 1080x720 with 1 Axes>"
      ]
     },
     "metadata": {
      "needs_background": "light"
     },
     "output_type": "display_data"
    }
   ],
   "source": [
    "\"\"\"\n",
    "ELF1 \n",
    "\"\"\" \n",
    "\n",
    "df = raw_expre[raw_expre['Unnamed: 0']==elf1].T.drop(['Unnamed: 0']) \n",
    "df['new_col'] = range(1, len(df) + 1)\n",
    "df.plot.scatter(x='new_col', y=21723) "
   ]
  },
  {
   "cell_type": "code",
   "execution_count": 7,
   "id": "b6277503",
   "metadata": {},
   "outputs": [
    {
     "data": {
      "text/plain": [
       "<AxesSubplot:xlabel='new_col', ylabel='11979'>"
      ]
     },
     "execution_count": 7,
     "metadata": {},
     "output_type": "execute_result"
    },
    {
     "data": {
      "image/png": "[encoded data removed]",
      "text/plain": [
       "<Figure size 1080x720 with 1 Axes>"
      ]
     },
     "metadata": {
      "needs_background": "light"
     },
     "output_type": "display_data"
    }
   ],
   "source": [
    "\"\"\"\n",
    "IRF1 \n",
    "\"\"\" \n",
    "\n",
    "df = raw_expre[raw_expre['Unnamed: 0']==irf1].T.drop(['Unnamed: 0']) \n",
    "df['new_col'] = range(1, len(df) + 1)\n",
    "df.plot.scatter(x='new_col', y=11979) "
   ]
  },
  {
   "cell_type": "code",
   "execution_count": 8,
   "id": "209abb9c",
   "metadata": {},
   "outputs": [
    {
     "data": {
      "text/plain": [
       "<AxesSubplot:xlabel='new_col', ylabel='13734'>"
      ]
     },
     "execution_count": 8,
     "metadata": {},
     "output_type": "execute_result"
    },
    {
     "data": {
      "image/png": "[encoded data removed]",
      "text/plain": [
       "<Figure size 1080x720 with 1 Axes>"
      ]
     },
     "metadata": {
      "needs_background": "light"
     },
     "output_type": "display_data"
    }
   ],
   "source": [
    "\"\"\"\n",
    "SYNGR1 \n",
    "\"\"\" \n",
    "\n",
    "df = raw_expre[raw_expre['Unnamed: 0']==syngr1].T.drop(['Unnamed: 0']) \n",
    "df['new_col'] = range(1, len(df) + 1)\n",
    "df.plot.scatter(x='new_col', y=13734) "
   ]
  },
  {
   "cell_type": "code",
   "execution_count": 9,
   "id": "4cf07769",
   "metadata": {
    "scrolled": false
   },
   "outputs": [
    {
     "data": {
      "text/plain": [
       "<AxesSubplot:>"
      ]
     },
     "execution_count": 9,
     "metadata": {},
     "output_type": "execute_result"
    },
    {
     "data": {
      "image/png": "[encoded data removed]",
      "text/plain": [
       "<Figure size 1080x720 with 1 Axes>"
      ]
     },
     "metadata": {
      "needs_background": "light"
     },
     "output_type": "display_data"
    }
   ],
   "source": [
    "\"\"\" \n",
    "Box plot \n",
    "\"\"\"\n",
    "\n",
    "df = raw_expre[(raw_expre['Unnamed: 0']==syngr1) | (raw_expre['Unnamed: 0']==elf1) | (raw_expre['Unnamed: 0']==irf1)] \n",
    "df = df.T.drop(['Unnamed: 0']) \n",
    "df=df.astype(float) \n",
    "df.boxplot(column=[11979, 13734, 21723]) "
   ]
  },
  {
   "cell_type": "markdown",
   "id": "fc5e6c7c",
   "metadata": {},
   "source": [
    "## Distribution of Data \n",
    "\n",
    "#### Means of genes vs number of genes with that mean. Or a histogram of means of genes for all samples. "
   ]
  },
  {
   "cell_type": "code",
   "execution_count": 10,
   "id": "26efb1bc",
   "metadata": {},
   "outputs": [
    {
     "data": {
      "text/plain": [
       "<AxesSubplot:>"
      ]
     },
     "execution_count": 10,
     "metadata": {},
     "output_type": "execute_result"
    },
    {
     "data": {
      "image/png": "[encoded data removed]",
      "text/plain": [
       "<Figure size 1080x720 with 1 Axes>"
      ]
     },
     "metadata": {
      "needs_background": "light"
     },
     "output_type": "display_data"
    }
   ],
   "source": [
    "raw_expre.T.drop(['Unnamed: 0']).T.mean().hist(bins=50) "
   ]
  },
  {
   "cell_type": "markdown",
   "id": "8d81e0f1",
   "metadata": {},
   "source": [
    "## Coefficient of variation Plot "
   ]
  },
  {
   "cell_type": "code",
   "execution_count": 11,
   "id": "0463bc79",
   "metadata": {},
   "outputs": [],
   "source": [
    "cv = lambda x: np.std(x, ddof=1) / np.mean(x) \n",
    "raw_expre['CV'] = raw_expre.apply(lambda row : cv(row.T.drop(['Unnamed: 0'])), axis = 1) "
   ]
  },
  {
   "cell_type": "code",
   "execution_count": 12,
   "id": "81a0c5ca",
   "metadata": {},
   "outputs": [
    {
     "data": {
      "text/plain": [
       "<AxesSubplot:>"
      ]
     },
     "execution_count": 12,
     "metadata": {},
     "output_type": "execute_result"
    },
    {
     "data": {
      "image/png": "[encoded data removed]",
      "text/plain": [
       "<Figure size 1080x720 with 1 Axes>"
      ]
     },
     "metadata": {
      "needs_background": "light"
     },
     "output_type": "display_data"
    }
   ],
   "source": [
    "raw_expre['CV'].plot()"
   ]
  },
  {
   "cell_type": "markdown",
   "id": "34693e0c",
   "metadata": {},
   "source": [
    "#### Min coefficient of variation "
   ]
  },
  {
   "cell_type": "code",
   "execution_count": 13,
   "id": "55619356",
   "metadata": {},
   "outputs": [
    {
     "data": {
      "text/plain": [
       "0.006700409311555023"
      ]
     },
     "execution_count": 13,
     "metadata": {},
     "output_type": "execute_result"
    }
   ],
   "source": [
    "raw_expre['CV'].min()"
   ]
  },
  {
   "cell_type": "markdown",
   "id": "324a7cac",
   "metadata": {},
   "source": [
    "#### Max coefficient of variation "
   ]
  },
  {
   "cell_type": "code",
   "execution_count": 14,
   "id": "e7802220",
   "metadata": {},
   "outputs": [
    {
     "data": {
      "text/plain": [
       "1.0136865186910569"
      ]
     },
     "execution_count": 14,
     "metadata": {},
     "output_type": "execute_result"
    }
   ],
   "source": [
    "raw_expre['CV'].max()"
   ]
  },
  {
   "cell_type": "markdown",
   "id": "ab9aaa17",
   "metadata": {},
   "source": [
    "#### Coefficient of variation less than 1 "
   ]
  },
  {
   "cell_type": "code",
   "execution_count": 15,
   "id": "00b61aff",
   "metadata": {
    "scrolled": false
   },
   "outputs": [
    {
     "data": {
      "text/html": [
       "<div>\n",
       "<style scoped>\n",
       "    .dataframe tbody tr th:only-of-type {\n",
       "        vertical-align: middle;\n",
       "    }\n",
       "\n",
       "    .dataframe tbody tr th {\n",
       "        vertical-align: top;\n",
       "    }\n",
       "\n",
       "    .dataframe thead th {\n",
       "        text-align: right;\n",
       "    }\n",
       "</style>\n",
       "<table border=\"1\" class=\"dataframe\">\n",
       "  <thead>\n",
       "    <tr style=\"text-align: right;\">\n",
       "      <th></th>\n",
       "      <th>Unnamed: 0</th>\n",
       "      <th>GSM3428310</th>\n",
       "      <th>GSM3428311</th>\n",
       "      <th>GSM3428312</th>\n",
       "      <th>GSM3428313</th>\n",
       "      <th>GSM3428314</th>\n",
       "      <th>GSM3428315</th>\n",
       "      <th>GSM3428316</th>\n",
       "      <th>GSM3428317</th>\n",
       "      <th>GSM3428318</th>\n",
       "      <th>...</th>\n",
       "      <th>GSM3428613</th>\n",
       "      <th>GSM3428614</th>\n",
       "      <th>GSM3428615</th>\n",
       "      <th>GSM3428616</th>\n",
       "      <th>GSM3428617</th>\n",
       "      <th>GSM3428618</th>\n",
       "      <th>GSM3428619</th>\n",
       "      <th>GSM3428620</th>\n",
       "      <th>GSM3428621</th>\n",
       "      <th>CV</th>\n",
       "    </tr>\n",
       "  </thead>\n",
       "  <tbody>\n",
       "    <tr>\n",
       "      <th>5</th>\n",
       "      <td>1294_PM_at</td>\n",
       "      <td>8.164253</td>\n",
       "      <td>7.886918</td>\n",
       "      <td>7.890372</td>\n",
       "      <td>8.006514</td>\n",
       "      <td>8.223370</td>\n",
       "      <td>7.615219</td>\n",
       "      <td>7.518055</td>\n",
       "      <td>7.593616</td>\n",
       "      <td>7.756518</td>\n",
       "      <td>...</td>\n",
       "      <td>7.722717</td>\n",
       "      <td>7.902521</td>\n",
       "      <td>7.554671</td>\n",
       "      <td>8.580205</td>\n",
       "      <td>7.906560</td>\n",
       "      <td>7.470552</td>\n",
       "      <td>7.490315</td>\n",
       "      <td>8.448537</td>\n",
       "      <td>8.114021</td>\n",
       "      <td>0.048666</td>\n",
       "    </tr>\n",
       "    <tr>\n",
       "      <th>11</th>\n",
       "      <td>1487_PM_at</td>\n",
       "      <td>6.513786</td>\n",
       "      <td>6.376531</td>\n",
       "      <td>6.335507</td>\n",
       "      <td>6.017157</td>\n",
       "      <td>6.445223</td>\n",
       "      <td>6.550342</td>\n",
       "      <td>6.334670</td>\n",
       "      <td>6.703720</td>\n",
       "      <td>6.584556</td>\n",
       "      <td>...</td>\n",
       "      <td>6.640387</td>\n",
       "      <td>6.187064</td>\n",
       "      <td>6.067207</td>\n",
       "      <td>6.313449</td>\n",
       "      <td>6.351740</td>\n",
       "      <td>6.339993</td>\n",
       "      <td>6.020172</td>\n",
       "      <td>6.326821</td>\n",
       "      <td>6.128183</td>\n",
       "      <td>0.038333</td>\n",
       "    </tr>\n",
       "    <tr>\n",
       "      <th>125</th>\n",
       "      <td>1552426_PM_a_at</td>\n",
       "      <td>9.273507</td>\n",
       "      <td>9.346920</td>\n",
       "      <td>9.345921</td>\n",
       "      <td>9.276374</td>\n",
       "      <td>9.220451</td>\n",
       "      <td>8.957553</td>\n",
       "      <td>9.122299</td>\n",
       "      <td>9.178099</td>\n",
       "      <td>8.857551</td>\n",
       "      <td>...</td>\n",
       "      <td>9.513392</td>\n",
       "      <td>9.378041</td>\n",
       "      <td>9.392441</td>\n",
       "      <td>9.044383</td>\n",
       "      <td>9.338739</td>\n",
       "      <td>9.562527</td>\n",
       "      <td>9.383626</td>\n",
       "      <td>8.943554</td>\n",
       "      <td>9.199235</td>\n",
       "      <td>0.032146</td>\n",
       "    </tr>\n",
       "    <tr>\n",
       "      <th>230</th>\n",
       "      <td>1552584_PM_at</td>\n",
       "      <td>9.450264</td>\n",
       "      <td>9.631534</td>\n",
       "      <td>9.527671</td>\n",
       "      <td>9.679938</td>\n",
       "      <td>9.542558</td>\n",
       "      <td>9.771282</td>\n",
       "      <td>9.754457</td>\n",
       "      <td>9.958564</td>\n",
       "      <td>9.634735</td>\n",
       "      <td>...</td>\n",
       "      <td>9.701337</td>\n",
       "      <td>9.108327</td>\n",
       "      <td>9.926022</td>\n",
       "      <td>9.823461</td>\n",
       "      <td>9.986750</td>\n",
       "      <td>10.175068</td>\n",
       "      <td>10.193342</td>\n",
       "      <td>10.462910</td>\n",
       "      <td>10.381160</td>\n",
       "      <td>0.032974</td>\n",
       "    </tr>\n",
       "    <tr>\n",
       "      <th>250</th>\n",
       "      <td>1552613_PM_s_at</td>\n",
       "      <td>7.828109</td>\n",
       "      <td>7.780918</td>\n",
       "      <td>7.799043</td>\n",
       "      <td>7.876414</td>\n",
       "      <td>7.614225</td>\n",
       "      <td>8.682949</td>\n",
       "      <td>8.592141</td>\n",
       "      <td>8.797315</td>\n",
       "      <td>8.719742</td>\n",
       "      <td>...</td>\n",
       "      <td>7.303400</td>\n",
       "      <td>7.090454</td>\n",
       "      <td>8.265162</td>\n",
       "      <td>7.748609</td>\n",
       "      <td>8.027825</td>\n",
       "      <td>8.074449</td>\n",
       "      <td>8.156261</td>\n",
       "      <td>8.191898</td>\n",
       "      <td>8.596294</td>\n",
       "      <td>0.046153</td>\n",
       "    </tr>\n",
       "    <tr>\n",
       "      <th>...</th>\n",
       "      <td>...</td>\n",
       "      <td>...</td>\n",
       "      <td>...</td>\n",
       "      <td>...</td>\n",
       "      <td>...</td>\n",
       "      <td>...</td>\n",
       "      <td>...</td>\n",
       "      <td>...</td>\n",
       "      <td>...</td>\n",
       "      <td>...</td>\n",
       "      <td>...</td>\n",
       "      <td>...</td>\n",
       "      <td>...</td>\n",
       "      <td>...</td>\n",
       "      <td>...</td>\n",
       "      <td>...</td>\n",
       "      <td>...</td>\n",
       "      <td>...</td>\n",
       "      <td>...</td>\n",
       "      <td>...</td>\n",
       "      <td>...</td>\n",
       "    </tr>\n",
       "    <tr>\n",
       "      <th>54687</th>\n",
       "      <td>AFFX-r2-Ec-bioC-5_at</td>\n",
       "      <td>10.534891</td>\n",
       "      <td>10.615954</td>\n",
       "      <td>10.520124</td>\n",
       "      <td>10.122136</td>\n",
       "      <td>10.784272</td>\n",
       "      <td>9.973542</td>\n",
       "      <td>9.581456</td>\n",
       "      <td>9.490723</td>\n",
       "      <td>9.668271</td>\n",
       "      <td>...</td>\n",
       "      <td>10.208796</td>\n",
       "      <td>10.582990</td>\n",
       "      <td>10.819449</td>\n",
       "      <td>10.000433</td>\n",
       "      <td>9.990244</td>\n",
       "      <td>9.790873</td>\n",
       "      <td>10.775514</td>\n",
       "      <td>9.955033</td>\n",
       "      <td>10.061096</td>\n",
       "      <td>0.036321</td>\n",
       "    </tr>\n",
       "    <tr>\n",
       "      <th>54688</th>\n",
       "      <td>AFFX-r2-Ec-bioD-3_at</td>\n",
       "      <td>11.797240</td>\n",
       "      <td>11.758842</td>\n",
       "      <td>11.654328</td>\n",
       "      <td>11.465373</td>\n",
       "      <td>11.944136</td>\n",
       "      <td>11.396449</td>\n",
       "      <td>11.309968</td>\n",
       "      <td>11.262880</td>\n",
       "      <td>11.248955</td>\n",
       "      <td>...</td>\n",
       "      <td>11.634656</td>\n",
       "      <td>12.144116</td>\n",
       "      <td>12.258171</td>\n",
       "      <td>11.899173</td>\n",
       "      <td>11.909470</td>\n",
       "      <td>11.528059</td>\n",
       "      <td>12.704621</td>\n",
       "      <td>11.732537</td>\n",
       "      <td>11.809097</td>\n",
       "      <td>0.027470</td>\n",
       "    </tr>\n",
       "    <tr>\n",
       "      <th>54689</th>\n",
       "      <td>AFFX-r2-Ec-bioD-5_at</td>\n",
       "      <td>11.877063</td>\n",
       "      <td>11.941846</td>\n",
       "      <td>11.692179</td>\n",
       "      <td>11.540996</td>\n",
       "      <td>12.059905</td>\n",
       "      <td>11.543620</td>\n",
       "      <td>11.521529</td>\n",
       "      <td>11.449839</td>\n",
       "      <td>11.335706</td>\n",
       "      <td>...</td>\n",
       "      <td>11.576494</td>\n",
       "      <td>11.986796</td>\n",
       "      <td>12.478607</td>\n",
       "      <td>11.981583</td>\n",
       "      <td>11.988134</td>\n",
       "      <td>11.566799</td>\n",
       "      <td>12.417920</td>\n",
       "      <td>11.968478</td>\n",
       "      <td>11.979043</td>\n",
       "      <td>0.023517</td>\n",
       "    </tr>\n",
       "    <tr>\n",
       "      <th>54690</th>\n",
       "      <td>AFFX-r2-P1-cre-3_at</td>\n",
       "      <td>13.175805</td>\n",
       "      <td>13.200250</td>\n",
       "      <td>13.062476</td>\n",
       "      <td>13.065238</td>\n",
       "      <td>13.240244</td>\n",
       "      <td>13.043459</td>\n",
       "      <td>13.025171</td>\n",
       "      <td>12.939117</td>\n",
       "      <td>12.897555</td>\n",
       "      <td>...</td>\n",
       "      <td>13.500318</td>\n",
       "      <td>13.508400</td>\n",
       "      <td>13.778893</td>\n",
       "      <td>13.359825</td>\n",
       "      <td>13.448374</td>\n",
       "      <td>13.369460</td>\n",
       "      <td>13.678963</td>\n",
       "      <td>13.108090</td>\n",
       "      <td>13.177597</td>\n",
       "      <td>0.017775</td>\n",
       "    </tr>\n",
       "    <tr>\n",
       "      <th>54691</th>\n",
       "      <td>AFFX-r2-P1-cre-5_at</td>\n",
       "      <td>12.960516</td>\n",
       "      <td>12.933457</td>\n",
       "      <td>12.774071</td>\n",
       "      <td>12.809711</td>\n",
       "      <td>12.974826</td>\n",
       "      <td>12.759235</td>\n",
       "      <td>12.688990</td>\n",
       "      <td>12.619757</td>\n",
       "      <td>12.596572</td>\n",
       "      <td>...</td>\n",
       "      <td>13.092065</td>\n",
       "      <td>13.321013</td>\n",
       "      <td>13.622477</td>\n",
       "      <td>13.189404</td>\n",
       "      <td>13.223897</td>\n",
       "      <td>13.333319</td>\n",
       "      <td>13.569172</td>\n",
       "      <td>12.991853</td>\n",
       "      <td>12.996839</td>\n",
       "      <td>0.017766</td>\n",
       "    </tr>\n",
       "  </tbody>\n",
       "</table>\n",
       "<p>5178 rows × 314 columns</p>\n",
       "</div>"
      ],
      "text/plain": [
       "                 Unnamed: 0  GSM3428310  GSM3428311  GSM3428312  GSM3428313  \\\n",
       "5                1294_PM_at    8.164253    7.886918    7.890372    8.006514   \n",
       "11               1487_PM_at    6.513786    6.376531    6.335507    6.017157   \n",
       "125         1552426_PM_a_at    9.273507    9.346920    9.345921    9.276374   \n",
       "230           1552584_PM_at    9.450264    9.631534    9.527671    9.679938   \n",
       "250         1552613_PM_s_at    7.828109    7.780918    7.799043    7.876414   \n",
       "...                     ...         ...         ...         ...         ...   \n",
       "54687  AFFX-r2-Ec-bioC-5_at   10.534891   10.615954   10.520124   10.122136   \n",
       "54688  AFFX-r2-Ec-bioD-3_at   11.797240   11.758842   11.654328   11.465373   \n",
       "54689  AFFX-r2-Ec-bioD-5_at   11.877063   11.941846   11.692179   11.540996   \n",
       "54690   AFFX-r2-P1-cre-3_at   13.175805   13.200250   13.062476   13.065238   \n",
       "54691   AFFX-r2-P1-cre-5_at   12.960516   12.933457   12.774071   12.809711   \n",
       "\n",
       "       GSM3428314  GSM3428315  GSM3428316  GSM3428317  GSM3428318  ...  \\\n",
       "5        8.223370    7.615219    7.518055    7.593616    7.756518  ...   \n",
       "11       6.445223    6.550342    6.334670    6.703720    6.584556  ...   \n",
       "125      9.220451    8.957553    9.122299    9.178099    8.857551  ...   \n",
       "230      9.542558    9.771282    9.754457    9.958564    9.634735  ...   \n",
       "250      7.614225    8.682949    8.592141    8.797315    8.719742  ...   \n",
       "...           ...         ...         ...         ...         ...  ...   \n",
       "54687   10.784272    9.973542    9.581456    9.490723    9.668271  ...   \n",
       "54688   11.944136   11.396449   11.309968   11.262880   11.248955  ...   \n",
       "54689   12.059905   11.543620   11.521529   11.449839   11.335706  ...   \n",
       "54690   13.240244   13.043459   13.025171   12.939117   12.897555  ...   \n",
       "54691   12.974826   12.759235   12.688990   12.619757   12.596572  ...   \n",
       "\n",
       "       GSM3428613  GSM3428614  GSM3428615  GSM3428616  GSM3428617  GSM3428618  \\\n",
       "5        7.722717    7.902521    7.554671    8.580205    7.906560    7.470552   \n",
       "11       6.640387    6.187064    6.067207    6.313449    6.351740    6.339993   \n",
       "125      9.513392    9.378041    9.392441    9.044383    9.338739    9.562527   \n",
       "230      9.701337    9.108327    9.926022    9.823461    9.986750   10.175068   \n",
       "250      7.303400    7.090454    8.265162    7.748609    8.027825    8.074449   \n",
       "...           ...         ...         ...         ...         ...         ...   \n",
       "54687   10.208796   10.582990   10.819449   10.000433    9.990244    9.790873   \n",
       "54688   11.634656   12.144116   12.258171   11.899173   11.909470   11.528059   \n",
       "54689   11.576494   11.986796   12.478607   11.981583   11.988134   11.566799   \n",
       "54690   13.500318   13.508400   13.778893   13.359825   13.448374   13.369460   \n",
       "54691   13.092065   13.321013   13.622477   13.189404   13.223897   13.333319   \n",
       "\n",
       "       GSM3428619  GSM3428620  GSM3428621        CV  \n",
       "5        7.490315    8.448537    8.114021  0.048666  \n",
       "11       6.020172    6.326821    6.128183  0.038333  \n",
       "125      9.383626    8.943554    9.199235  0.032146  \n",
       "230     10.193342   10.462910   10.381160  0.032974  \n",
       "250      8.156261    8.191898    8.596294  0.046153  \n",
       "...           ...         ...         ...       ...  \n",
       "54687   10.775514    9.955033   10.061096  0.036321  \n",
       "54688   12.704621   11.732537   11.809097  0.027470  \n",
       "54689   12.417920   11.968478   11.979043  0.023517  \n",
       "54690   13.678963   13.108090   13.177597  0.017775  \n",
       "54691   13.569172   12.991853   12.996839  0.017766  \n",
       "\n",
       "[5178 rows x 314 columns]"
      ]
     },
     "execution_count": 15,
     "metadata": {},
     "output_type": "execute_result"
    }
   ],
   "source": [
    "raw_expre[raw_expre['CV']<0.05] "
   ]
  },
  {
   "cell_type": "markdown",
   "id": "e855e944",
   "metadata": {},
   "source": [
    "#### Coefficient of variation of ELF1 / IRF1 / SYNGR1 "
   ]
  },
  {
   "cell_type": "code",
   "execution_count": 16,
   "id": "25029f2c",
   "metadata": {
    "scrolled": true
   },
   "outputs": [
    {
     "data": {
      "text/plain": [
       "21723    0.044065\n",
       "Name: CV, dtype: float64"
      ]
     },
     "execution_count": 16,
     "metadata": {},
     "output_type": "execute_result"
    }
   ],
   "source": [
    "raw_expre[raw_expre['Unnamed: 0']==elf1]['CV'] "
   ]
  },
  {
   "cell_type": "code",
   "execution_count": 17,
   "id": "c0107f7c",
   "metadata": {},
   "outputs": [
    {
     "data": {
      "text/plain": [
       "11979    0.033174\n",
       "Name: CV, dtype: float64"
      ]
     },
     "execution_count": 17,
     "metadata": {},
     "output_type": "execute_result"
    }
   ],
   "source": [
    "raw_expre[raw_expre['Unnamed: 0']==irf1]['CV']"
   ]
  },
  {
   "cell_type": "code",
   "execution_count": 18,
   "id": "cc5297b4",
   "metadata": {},
   "outputs": [
    {
     "data": {
      "text/plain": [
       "13734    0.091152\n",
       "Name: CV, dtype: float64"
      ]
     },
     "execution_count": 18,
     "metadata": {},
     "output_type": "execute_result"
    }
   ],
   "source": [
    "raw_expre[raw_expre['Unnamed: 0']==syngr1]['CV']"
   ]
  },
  {
   "cell_type": "code",
   "execution_count": null,
   "id": "e24f0f59",
   "metadata": {},
   "outputs": [],
   "source": []
  }
 ],
 "metadata": {
  "kernelspec": {
   "display_name": "Python 3 (ipykernel)",
   "language": "python",
   "name": "python3"
  },
  "language_info": {
   "codemirror_mode": {
    "name": "ipython",
    "version": 3
   },
   "file_extension": ".py",
   "mimetype": "text/x-python",
   "name": "python",
   "nbconvert_exporter": "python",
   "pygments_lexer": "ipython3",
   "version": "3.9.13"
  }
 },
 "nbformat": 4,
 "nbformat_minor": 5
}
