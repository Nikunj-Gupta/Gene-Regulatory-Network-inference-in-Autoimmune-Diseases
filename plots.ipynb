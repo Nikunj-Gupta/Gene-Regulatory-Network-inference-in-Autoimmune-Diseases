{
 "cells": [
  {
   "cell_type": "code",
   "execution_count": 1,
   "id": "6f1b3a44",
   "metadata": {},
   "outputs": [],
   "source": [
    "import pandas as pd \n",
    "import numpy as np \n",
    "\n",
    "import matplotlib.pyplot as plt\n"
   ]
  },
  {
   "cell_type": "code",
   "execution_count": 7,
   "id": "165058c9",
   "metadata": {},
   "outputs": [],
   "source": [
    "plt.rcParams['figure.figsize'] = [15, 10] "
   ]
  },
  {
   "cell_type": "code",
   "execution_count": 3,
   "id": "ec20f4cf",
   "metadata": {},
   "outputs": [
    {
     "data": {
      "text/html": [
       "<div>\n",
       "<style scoped>\n",
       "    .dataframe tbody tr th:only-of-type {\n",
       "        vertical-align: middle;\n",
       "    }\n",
       "\n",
       "    .dataframe tbody tr th {\n",
       "        vertical-align: top;\n",
       "    }\n",
       "\n",
       "    .dataframe thead th {\n",
       "        text-align: right;\n",
       "    }\n",
       "</style>\n",
       "<table border=\"1\" class=\"dataframe\">\n",
       "  <thead>\n",
       "    <tr style=\"text-align: right;\">\n",
       "      <th></th>\n",
       "      <th>Unnamed: 0</th>\n",
       "      <th>GSM3428310</th>\n",
       "      <th>GSM3428311</th>\n",
       "      <th>GSM3428312</th>\n",
       "      <th>GSM3428313</th>\n",
       "      <th>GSM3428314</th>\n",
       "      <th>GSM3428315</th>\n",
       "      <th>GSM3428316</th>\n",
       "      <th>GSM3428317</th>\n",
       "      <th>GSM3428318</th>\n",
       "      <th>...</th>\n",
       "      <th>GSM3428612</th>\n",
       "      <th>GSM3428613</th>\n",
       "      <th>GSM3428614</th>\n",
       "      <th>GSM3428615</th>\n",
       "      <th>GSM3428616</th>\n",
       "      <th>GSM3428617</th>\n",
       "      <th>GSM3428618</th>\n",
       "      <th>GSM3428619</th>\n",
       "      <th>GSM3428620</th>\n",
       "      <th>GSM3428621</th>\n",
       "    </tr>\n",
       "  </thead>\n",
       "  <tbody>\n",
       "    <tr>\n",
       "      <th>0</th>\n",
       "      <td>1007_PM_s_at</td>\n",
       "      <td>4.955257</td>\n",
       "      <td>4.870351</td>\n",
       "      <td>4.889382</td>\n",
       "      <td>4.956931</td>\n",
       "      <td>4.518659</td>\n",
       "      <td>4.039076</td>\n",
       "      <td>4.363994</td>\n",
       "      <td>4.474612</td>\n",
       "      <td>4.109501</td>\n",
       "      <td>...</td>\n",
       "      <td>4.143518</td>\n",
       "      <td>4.163726</td>\n",
       "      <td>3.552997</td>\n",
       "      <td>4.688624</td>\n",
       "      <td>4.101748</td>\n",
       "      <td>3.987773</td>\n",
       "      <td>4.674258</td>\n",
       "      <td>4.855265</td>\n",
       "      <td>5.227129</td>\n",
       "      <td>5.702039</td>\n",
       "    </tr>\n",
       "    <tr>\n",
       "      <th>1</th>\n",
       "      <td>1053_PM_at</td>\n",
       "      <td>5.984784</td>\n",
       "      <td>6.119432</td>\n",
       "      <td>5.914195</td>\n",
       "      <td>5.887814</td>\n",
       "      <td>5.962590</td>\n",
       "      <td>6.213503</td>\n",
       "      <td>6.523682</td>\n",
       "      <td>6.630676</td>\n",
       "      <td>6.424815</td>\n",
       "      <td>...</td>\n",
       "      <td>5.601486</td>\n",
       "      <td>5.307239</td>\n",
       "      <td>5.585876</td>\n",
       "      <td>6.538760</td>\n",
       "      <td>6.420332</td>\n",
       "      <td>5.949633</td>\n",
       "      <td>5.587069</td>\n",
       "      <td>6.032248</td>\n",
       "      <td>6.317659</td>\n",
       "      <td>6.449117</td>\n",
       "    </tr>\n",
       "    <tr>\n",
       "      <th>2</th>\n",
       "      <td>117_PM_at</td>\n",
       "      <td>9.477945</td>\n",
       "      <td>9.828793</td>\n",
       "      <td>9.719707</td>\n",
       "      <td>9.148228</td>\n",
       "      <td>9.378308</td>\n",
       "      <td>9.688581</td>\n",
       "      <td>8.985668</td>\n",
       "      <td>10.329326</td>\n",
       "      <td>8.890190</td>\n",
       "      <td>...</td>\n",
       "      <td>9.077410</td>\n",
       "      <td>9.349135</td>\n",
       "      <td>9.554533</td>\n",
       "      <td>9.941707</td>\n",
       "      <td>10.278584</td>\n",
       "      <td>9.672171</td>\n",
       "      <td>8.650779</td>\n",
       "      <td>9.264324</td>\n",
       "      <td>9.430051</td>\n",
       "      <td>9.660996</td>\n",
       "    </tr>\n",
       "    <tr>\n",
       "      <th>3</th>\n",
       "      <td>121_PM_at</td>\n",
       "      <td>4.553229</td>\n",
       "      <td>4.487615</td>\n",
       "      <td>4.645168</td>\n",
       "      <td>4.681996</td>\n",
       "      <td>4.990632</td>\n",
       "      <td>4.762670</td>\n",
       "      <td>4.528352</td>\n",
       "      <td>4.693206</td>\n",
       "      <td>3.875943</td>\n",
       "      <td>...</td>\n",
       "      <td>5.177162</td>\n",
       "      <td>4.961182</td>\n",
       "      <td>5.267552</td>\n",
       "      <td>4.404966</td>\n",
       "      <td>4.013917</td>\n",
       "      <td>4.234865</td>\n",
       "      <td>4.418242</td>\n",
       "      <td>4.269110</td>\n",
       "      <td>4.115500</td>\n",
       "      <td>4.135403</td>\n",
       "    </tr>\n",
       "    <tr>\n",
       "      <th>4</th>\n",
       "      <td>1255_PM_g_at</td>\n",
       "      <td>1.921190</td>\n",
       "      <td>2.169639</td>\n",
       "      <td>2.410481</td>\n",
       "      <td>1.885852</td>\n",
       "      <td>1.987256</td>\n",
       "      <td>2.029976</td>\n",
       "      <td>2.110129</td>\n",
       "      <td>2.136902</td>\n",
       "      <td>2.169476</td>\n",
       "      <td>...</td>\n",
       "      <td>2.224418</td>\n",
       "      <td>2.158327</td>\n",
       "      <td>2.316911</td>\n",
       "      <td>1.942149</td>\n",
       "      <td>1.929420</td>\n",
       "      <td>1.862300</td>\n",
       "      <td>1.842566</td>\n",
       "      <td>2.258901</td>\n",
       "      <td>1.951895</td>\n",
       "      <td>1.896087</td>\n",
       "    </tr>\n",
       "    <tr>\n",
       "      <th>...</th>\n",
       "      <td>...</td>\n",
       "      <td>...</td>\n",
       "      <td>...</td>\n",
       "      <td>...</td>\n",
       "      <td>...</td>\n",
       "      <td>...</td>\n",
       "      <td>...</td>\n",
       "      <td>...</td>\n",
       "      <td>...</td>\n",
       "      <td>...</td>\n",
       "      <td>...</td>\n",
       "      <td>...</td>\n",
       "      <td>...</td>\n",
       "      <td>...</td>\n",
       "      <td>...</td>\n",
       "      <td>...</td>\n",
       "      <td>...</td>\n",
       "      <td>...</td>\n",
       "      <td>...</td>\n",
       "      <td>...</td>\n",
       "      <td>...</td>\n",
       "    </tr>\n",
       "    <tr>\n",
       "      <th>54710</th>\n",
       "      <td>AFFX-ThrX-5_at</td>\n",
       "      <td>2.365662</td>\n",
       "      <td>2.344025</td>\n",
       "      <td>2.537787</td>\n",
       "      <td>2.140112</td>\n",
       "      <td>2.381164</td>\n",
       "      <td>8.440270</td>\n",
       "      <td>8.646316</td>\n",
       "      <td>8.013230</td>\n",
       "      <td>8.402119</td>\n",
       "      <td>...</td>\n",
       "      <td>2.192767</td>\n",
       "      <td>2.476008</td>\n",
       "      <td>2.580959</td>\n",
       "      <td>2.440795</td>\n",
       "      <td>2.469701</td>\n",
       "      <td>2.252614</td>\n",
       "      <td>3.157310</td>\n",
       "      <td>2.106090</td>\n",
       "      <td>2.005743</td>\n",
       "      <td>2.026090</td>\n",
       "    </tr>\n",
       "    <tr>\n",
       "      <th>54711</th>\n",
       "      <td>AFFX-ThrX-M_at</td>\n",
       "      <td>2.277690</td>\n",
       "      <td>2.480338</td>\n",
       "      <td>2.475397</td>\n",
       "      <td>2.749770</td>\n",
       "      <td>2.593526</td>\n",
       "      <td>9.183744</td>\n",
       "      <td>9.454726</td>\n",
       "      <td>8.446197</td>\n",
       "      <td>9.143964</td>\n",
       "      <td>...</td>\n",
       "      <td>2.639253</td>\n",
       "      <td>2.443756</td>\n",
       "      <td>2.271883</td>\n",
       "      <td>2.293643</td>\n",
       "      <td>2.424896</td>\n",
       "      <td>2.411526</td>\n",
       "      <td>2.435952</td>\n",
       "      <td>2.237814</td>\n",
       "      <td>2.377712</td>\n",
       "      <td>2.230381</td>\n",
       "    </tr>\n",
       "    <tr>\n",
       "      <th>54712</th>\n",
       "      <td>AFFX-TrpnX-3_at</td>\n",
       "      <td>1.897895</td>\n",
       "      <td>1.632143</td>\n",
       "      <td>1.534480</td>\n",
       "      <td>1.484037</td>\n",
       "      <td>1.949685</td>\n",
       "      <td>1.589518</td>\n",
       "      <td>1.552478</td>\n",
       "      <td>1.641031</td>\n",
       "      <td>1.505580</td>\n",
       "      <td>...</td>\n",
       "      <td>1.738948</td>\n",
       "      <td>1.855197</td>\n",
       "      <td>1.884866</td>\n",
       "      <td>1.881311</td>\n",
       "      <td>1.598604</td>\n",
       "      <td>1.661921</td>\n",
       "      <td>1.836948</td>\n",
       "      <td>1.777169</td>\n",
       "      <td>1.550851</td>\n",
       "      <td>1.626575</td>\n",
       "    </tr>\n",
       "    <tr>\n",
       "      <th>54713</th>\n",
       "      <td>AFFX-TrpnX-5_at</td>\n",
       "      <td>2.335483</td>\n",
       "      <td>2.280212</td>\n",
       "      <td>2.479271</td>\n",
       "      <td>2.404451</td>\n",
       "      <td>2.560628</td>\n",
       "      <td>2.382748</td>\n",
       "      <td>2.314126</td>\n",
       "      <td>2.433191</td>\n",
       "      <td>2.334751</td>\n",
       "      <td>...</td>\n",
       "      <td>2.822136</td>\n",
       "      <td>2.517637</td>\n",
       "      <td>2.529161</td>\n",
       "      <td>2.802461</td>\n",
       "      <td>2.411997</td>\n",
       "      <td>2.470162</td>\n",
       "      <td>2.490672</td>\n",
       "      <td>2.299285</td>\n",
       "      <td>2.253745</td>\n",
       "      <td>2.420385</td>\n",
       "    </tr>\n",
       "    <tr>\n",
       "      <th>54714</th>\n",
       "      <td>AFFX-TrpnX-M_at</td>\n",
       "      <td>2.208698</td>\n",
       "      <td>2.123957</td>\n",
       "      <td>2.022023</td>\n",
       "      <td>2.013830</td>\n",
       "      <td>2.012157</td>\n",
       "      <td>2.110307</td>\n",
       "      <td>1.914807</td>\n",
       "      <td>2.024607</td>\n",
       "      <td>1.898835</td>\n",
       "      <td>...</td>\n",
       "      <td>2.238586</td>\n",
       "      <td>2.424238</td>\n",
       "      <td>2.465861</td>\n",
       "      <td>2.251417</td>\n",
       "      <td>2.045580</td>\n",
       "      <td>2.132129</td>\n",
       "      <td>2.029212</td>\n",
       "      <td>2.355240</td>\n",
       "      <td>2.040009</td>\n",
       "      <td>1.981722</td>\n",
       "    </tr>\n",
       "  </tbody>\n",
       "</table>\n",
       "<p>54715 rows × 313 columns</p>\n",
       "</div>"
      ],
      "text/plain": [
       "            Unnamed: 0  GSM3428310  GSM3428311  GSM3428312  GSM3428313  \\\n",
       "0         1007_PM_s_at    4.955257    4.870351    4.889382    4.956931   \n",
       "1           1053_PM_at    5.984784    6.119432    5.914195    5.887814   \n",
       "2            117_PM_at    9.477945    9.828793    9.719707    9.148228   \n",
       "3            121_PM_at    4.553229    4.487615    4.645168    4.681996   \n",
       "4         1255_PM_g_at    1.921190    2.169639    2.410481    1.885852   \n",
       "...                ...         ...         ...         ...         ...   \n",
       "54710   AFFX-ThrX-5_at    2.365662    2.344025    2.537787    2.140112   \n",
       "54711   AFFX-ThrX-M_at    2.277690    2.480338    2.475397    2.749770   \n",
       "54712  AFFX-TrpnX-3_at    1.897895    1.632143    1.534480    1.484037   \n",
       "54713  AFFX-TrpnX-5_at    2.335483    2.280212    2.479271    2.404451   \n",
       "54714  AFFX-TrpnX-M_at    2.208698    2.123957    2.022023    2.013830   \n",
       "\n",
       "       GSM3428314  GSM3428315  GSM3428316  GSM3428317  GSM3428318  ...  \\\n",
       "0        4.518659    4.039076    4.363994    4.474612    4.109501  ...   \n",
       "1        5.962590    6.213503    6.523682    6.630676    6.424815  ...   \n",
       "2        9.378308    9.688581    8.985668   10.329326    8.890190  ...   \n",
       "3        4.990632    4.762670    4.528352    4.693206    3.875943  ...   \n",
       "4        1.987256    2.029976    2.110129    2.136902    2.169476  ...   \n",
       "...           ...         ...         ...         ...         ...  ...   \n",
       "54710    2.381164    8.440270    8.646316    8.013230    8.402119  ...   \n",
       "54711    2.593526    9.183744    9.454726    8.446197    9.143964  ...   \n",
       "54712    1.949685    1.589518    1.552478    1.641031    1.505580  ...   \n",
       "54713    2.560628    2.382748    2.314126    2.433191    2.334751  ...   \n",
       "54714    2.012157    2.110307    1.914807    2.024607    1.898835  ...   \n",
       "\n",
       "       GSM3428612  GSM3428613  GSM3428614  GSM3428615  GSM3428616  GSM3428617  \\\n",
       "0        4.143518    4.163726    3.552997    4.688624    4.101748    3.987773   \n",
       "1        5.601486    5.307239    5.585876    6.538760    6.420332    5.949633   \n",
       "2        9.077410    9.349135    9.554533    9.941707   10.278584    9.672171   \n",
       "3        5.177162    4.961182    5.267552    4.404966    4.013917    4.234865   \n",
       "4        2.224418    2.158327    2.316911    1.942149    1.929420    1.862300   \n",
       "...           ...         ...         ...         ...         ...         ...   \n",
       "54710    2.192767    2.476008    2.580959    2.440795    2.469701    2.252614   \n",
       "54711    2.639253    2.443756    2.271883    2.293643    2.424896    2.411526   \n",
       "54712    1.738948    1.855197    1.884866    1.881311    1.598604    1.661921   \n",
       "54713    2.822136    2.517637    2.529161    2.802461    2.411997    2.470162   \n",
       "54714    2.238586    2.424238    2.465861    2.251417    2.045580    2.132129   \n",
       "\n",
       "       GSM3428618  GSM3428619  GSM3428620  GSM3428621  \n",
       "0        4.674258    4.855265    5.227129    5.702039  \n",
       "1        5.587069    6.032248    6.317659    6.449117  \n",
       "2        8.650779    9.264324    9.430051    9.660996  \n",
       "3        4.418242    4.269110    4.115500    4.135403  \n",
       "4        1.842566    2.258901    1.951895    1.896087  \n",
       "...           ...         ...         ...         ...  \n",
       "54710    3.157310    2.106090    2.005743    2.026090  \n",
       "54711    2.435952    2.237814    2.377712    2.230381  \n",
       "54712    1.836948    1.777169    1.550851    1.626575  \n",
       "54713    2.490672    2.299285    2.253745    2.420385  \n",
       "54714    2.029212    2.355240    2.040009    1.981722  \n",
       "\n",
       "[54715 rows x 313 columns]"
      ]
     },
     "execution_count": 3,
     "metadata": {},
     "output_type": "execute_result"
    }
   ],
   "source": [
    "raw_expre = pd.read_csv('datasets/GSE121239/GSE121239/raw_expre.csv', sep=\",\")  \n",
    "raw_expre "
   ]
  },
  {
   "cell_type": "code",
   "execution_count": 4,
   "id": "a28a5d7c",
   "metadata": {},
   "outputs": [],
   "source": [
    "\"\"\"\n",
    "Mapping IDs for ELF1 / IRF1 / SYNGR1  \n",
    "\"\"\"\n",
    "\n",
    "id_refs = {'GSE121239_family.soft.gz': \n",
    "           {'ELF1': ['212418_PM_at', '212420_PM_at'],\n",
    "            'IRF1': ['202531_PM_at', '238725_PM_at'], \n",
    "            'SYNGR1': ['204287_PM_at', '213854_PM_at', '210613_PM_s_at'] \n",
    "           }\n",
    "          } \n",
    "elf1 = id_refs['GSE121239_family.soft.gz']['ELF1'][0] \n",
    "irf1 = id_refs['GSE121239_family.soft.gz']['IRF1'][0] \n",
    "syngr1 = id_refs['GSE121239_family.soft.gz']['SYNGR1'][0] "
   ]
  },
  {
   "cell_type": "markdown",
   "id": "7196ced4",
   "metadata": {},
   "source": [
    "## Gene Plots (for ELF1 / IRF1 / SYNGR1)"
   ]
  },
  {
   "cell_type": "code",
   "execution_count": 8,
   "id": "5f55c3c4",
   "metadata": {},
   "outputs": [
    {
     "data": {
      "text/plain": [
       "<AxesSubplot:xlabel='new_col', ylabel='21723'>"
      ]
     },
     "execution_count": 8,
     "metadata": {},
     "output_type": "execute_result"
    },
    {
     "data": {
      "image/png": "[encoded data removed]",
      "text/plain": [
       "<Figure size 1080x720 with 1 Axes>"
      ]
     },
     "metadata": {
      "needs_background": "light"
     },
     "output_type": "display_data"
    }
   ],
   "source": [
    "\"\"\"\n",
    "ELF1 \n",
    "\"\"\" \n",
    "\n",
    "df = raw_expre[raw_expre['Unnamed: 0']==elf1].T.drop(['Unnamed: 0']) \n",
    "df['new_col'] = range(1, len(df) + 1)\n",
    "df.plot.scatter(x='new_col', y=21723) "
   ]
  },
  {
   "cell_type": "code",
   "execution_count": 9,
   "id": "83825bf9",
   "metadata": {},
   "outputs": [
    {
     "data": {
      "text/plain": [
       "<AxesSubplot:xlabel='new_col', ylabel='11979'>"
      ]
     },
     "execution_count": 9,
     "metadata": {},
     "output_type": "execute_result"
    },
    {
     "data": {
      "image/png": "[encoded data removed]",
      "text/plain": [
       "<Figure size 1080x720 with 1 Axes>"
      ]
     },
     "metadata": {
      "needs_background": "light"
     },
     "output_type": "display_data"
    }
   ],
   "source": [
    "\"\"\"\n",
    "IRF1 \n",
    "\"\"\" \n",
    "\n",
    "df = raw_expre[raw_expre['Unnamed: 0']==irf1].T.drop(['Unnamed: 0']) \n",
    "df['new_col'] = range(1, len(df) + 1)\n",
    "df.plot.scatter(x='new_col', y=11979) "
   ]
  },
  {
   "cell_type": "code",
   "execution_count": 10,
   "id": "4baed971",
   "metadata": {},
   "outputs": [
    {
     "data": {
      "text/plain": [
       "<AxesSubplot:xlabel='new_col', ylabel='13734'>"
      ]
     },
     "execution_count": 10,
     "metadata": {},
     "output_type": "execute_result"
    },
    {
     "data": {
      "image/png": "[encoded data removed]",
      "text/plain": [
       "<Figure size 1080x720 with 1 Axes>"
      ]
     },
     "metadata": {
      "needs_background": "light"
     },
     "output_type": "display_data"
    }
   ],
   "source": [
    "\"\"\"\n",
    "SYNGR1 \n",
    "\"\"\" \n",
    "\n",
    "df = raw_expre[raw_expre['Unnamed: 0']==syngr1].T.drop(['Unnamed: 0']) \n",
    "df['new_col'] = range(1, len(df) + 1)\n",
    "df.plot.scatter(x='new_col', y=13734) "
   ]
  },
  {
   "cell_type": "code",
   "execution_count": 11,
   "id": "27e94aa2",
   "metadata": {
    "scrolled": false
   },
   "outputs": [
    {
     "data": {
      "text/plain": [
       "<AxesSubplot:>"
      ]
     },
     "execution_count": 11,
     "metadata": {},
     "output_type": "execute_result"
    },
    {
     "data": {
      "image/png": "[encoded data removed]",
      "text/plain": [
       "<Figure size 1080x720 with 1 Axes>"
      ]
     },
     "metadata": {
      "needs_background": "light"
     },
     "output_type": "display_data"
    }
   ],
   "source": [
    "\"\"\" \n",
    "Box plot \n",
    "\"\"\"\n",
    "\n",
    "df = raw_expre[(raw_expre['Unnamed: 0']==syngr1) | (raw_expre['Unnamed: 0']==elf1) | (raw_expre['Unnamed: 0']==irf1)] \n",
    "df = df.T.drop(['Unnamed: 0']) \n",
    "df=df.astype(float) \n",
    "df.boxplot(column=[11979, 13734, 21723]) "
   ]
  },
  {
   "cell_type": "markdown",
   "id": "15376ffd",
   "metadata": {},
   "source": [
    "## Distribution of Data \n",
    "\n",
    "#### Means of genes vs number of genes with that mean. Or a histogram of means of genes for all samples. "
   ]
  },
  {
   "cell_type": "code",
   "execution_count": 12,
   "id": "45ea6b4a",
   "metadata": {},
   "outputs": [
    {
     "data": {
      "text/plain": [
       "<AxesSubplot:>"
      ]
     },
     "execution_count": 12,
     "metadata": {},
     "output_type": "execute_result"
    },
    {
     "data": {
      "image/png": "[encoded data removed]",
      "text/plain": [
       "<Figure size 1080x720 with 1 Axes>"
      ]
     },
     "metadata": {
      "needs_background": "light"
     },
     "output_type": "display_data"
    }
   ],
   "source": [
    "raw_expre.T.drop(['Unnamed: 0']).T.mean().hist(bins=50) "
   ]
  },
  {
   "cell_type": "markdown",
   "id": "2429de8a",
   "metadata": {},
   "source": [
    "## Coefficient of variation Plot "
   ]
  },
  {
   "cell_type": "code",
   "execution_count": 21,
   "id": "2b3e3862",
   "metadata": {},
   "outputs": [],
   "source": [
    "cv = lambda x: np.std(x, ddof=1) / np.mean(x) \n",
    "raw_expre['CV'] = raw_expre.apply(lambda row : cv(row.T.drop(['Unnamed: 0'])), axis = 1) "
   ]
  },
  {
   "cell_type": "code",
   "execution_count": 22,
   "id": "b7793704",
   "metadata": {},
   "outputs": [
    {
     "data": {
      "text/plain": [
       "<AxesSubplot:>"
      ]
     },
     "execution_count": 22,
     "metadata": {},
     "output_type": "execute_result"
    },
    {
     "data": {
      "image/png": "[encoded data removed]",
      "text/plain": [
       "<Figure size 1080x720 with 1 Axes>"
      ]
     },
     "metadata": {
      "needs_background": "light"
     },
     "output_type": "display_data"
    }
   ],
   "source": [
    "raw_expre['CV'].plot()"
   ]
  },
  {
   "cell_type": "markdown",
   "id": "1d4b58da",
   "metadata": {},
   "source": [
    "#### Min coefficient of variation "
   ]
  },
  {
   "cell_type": "code",
   "execution_count": 23,
   "id": "f6c17908",
   "metadata": {},
   "outputs": [
    {
     "data": {
      "text/plain": [
       "0.04074955411707952"
      ]
     },
     "execution_count": 23,
     "metadata": {},
     "output_type": "execute_result"
    }
   ],
   "source": [
    "raw_expre['CV'].min()"
   ]
  },
  {
   "cell_type": "markdown",
   "id": "9a00f598",
   "metadata": {},
   "source": [
    "#### Max coefficient of variation "
   ]
  },
  {
   "cell_type": "code",
   "execution_count": 24,
   "id": "44d400e2",
   "metadata": {},
   "outputs": [
    {
     "data": {
      "text/plain": [
       "2.461114136612891"
      ]
     },
     "execution_count": 24,
     "metadata": {},
     "output_type": "execute_result"
    }
   ],
   "source": [
    "raw_expre['CV'].max()"
   ]
  },
  {
   "cell_type": "markdown",
   "id": "6715c159",
   "metadata": {},
   "source": [
    "#### Coefficient of variation less than 1 "
   ]
  },
  {
   "cell_type": "code",
   "execution_count": 17,
   "id": "87399d3e",
   "metadata": {
    "scrolled": true
   },
   "outputs": [
    {
     "data": {
      "text/html": [
       "<div>\n",
       "<style scoped>\n",
       "    .dataframe tbody tr th:only-of-type {\n",
       "        vertical-align: middle;\n",
       "    }\n",
       "\n",
       "    .dataframe tbody tr th {\n",
       "        vertical-align: top;\n",
       "    }\n",
       "\n",
       "    .dataframe thead th {\n",
       "        text-align: right;\n",
       "    }\n",
       "</style>\n",
       "<table border=\"1\" class=\"dataframe\">\n",
       "  <thead>\n",
       "    <tr style=\"text-align: right;\">\n",
       "      <th></th>\n",
       "      <th>Unnamed: 0</th>\n",
       "      <th>GSM3428310</th>\n",
       "      <th>GSM3428311</th>\n",
       "      <th>GSM3428312</th>\n",
       "      <th>GSM3428313</th>\n",
       "      <th>GSM3428314</th>\n",
       "      <th>GSM3428315</th>\n",
       "      <th>GSM3428316</th>\n",
       "      <th>GSM3428317</th>\n",
       "      <th>GSM3428318</th>\n",
       "      <th>...</th>\n",
       "      <th>GSM3428613</th>\n",
       "      <th>GSM3428614</th>\n",
       "      <th>GSM3428615</th>\n",
       "      <th>GSM3428616</th>\n",
       "      <th>GSM3428617</th>\n",
       "      <th>GSM3428618</th>\n",
       "      <th>GSM3428619</th>\n",
       "      <th>GSM3428620</th>\n",
       "      <th>GSM3428621</th>\n",
       "      <th>CV</th>\n",
       "    </tr>\n",
       "  </thead>\n",
       "  <tbody>\n",
       "    <tr>\n",
       "      <th>9972</th>\n",
       "      <td>200031_PM_s_at</td>\n",
       "      <td>12.743698</td>\n",
       "      <td>12.723494</td>\n",
       "      <td>12.740703</td>\n",
       "      <td>12.708090</td>\n",
       "      <td>12.768750</td>\n",
       "      <td>12.742374</td>\n",
       "      <td>12.728497</td>\n",
       "      <td>12.682840</td>\n",
       "      <td>12.733810</td>\n",
       "      <td>...</td>\n",
       "      <td>12.859761</td>\n",
       "      <td>12.539315</td>\n",
       "      <td>12.605418</td>\n",
       "      <td>12.691460</td>\n",
       "      <td>12.854068</td>\n",
       "      <td>12.805795</td>\n",
       "      <td>12.589401</td>\n",
       "      <td>12.755111</td>\n",
       "      <td>12.683114</td>\n",
       "      <td>0.826490</td>\n",
       "    </tr>\n",
       "    <tr>\n",
       "      <th>10196</th>\n",
       "      <td>200748_PM_s_at</td>\n",
       "      <td>12.765602</td>\n",
       "      <td>12.781554</td>\n",
       "      <td>12.845527</td>\n",
       "      <td>12.672477</td>\n",
       "      <td>12.744052</td>\n",
       "      <td>12.612758</td>\n",
       "      <td>12.584255</td>\n",
       "      <td>12.761328</td>\n",
       "      <td>12.631452</td>\n",
       "      <td>...</td>\n",
       "      <td>12.804183</td>\n",
       "      <td>12.798274</td>\n",
       "      <td>12.827596</td>\n",
       "      <td>12.839459</td>\n",
       "      <td>12.607702</td>\n",
       "      <td>12.453852</td>\n",
       "      <td>12.482060</td>\n",
       "      <td>12.567841</td>\n",
       "      <td>12.607481</td>\n",
       "      <td>0.960344</td>\n",
       "    </tr>\n",
       "    <tr>\n",
       "      <th>10940</th>\n",
       "      <td>201492_PM_s_at</td>\n",
       "      <td>12.519562</td>\n",
       "      <td>12.600981</td>\n",
       "      <td>12.518058</td>\n",
       "      <td>12.560721</td>\n",
       "      <td>12.452489</td>\n",
       "      <td>12.624000</td>\n",
       "      <td>12.583917</td>\n",
       "      <td>12.494613</td>\n",
       "      <td>12.595958</td>\n",
       "      <td>...</td>\n",
       "      <td>12.600512</td>\n",
       "      <td>12.569835</td>\n",
       "      <td>12.485699</td>\n",
       "      <td>12.508232</td>\n",
       "      <td>12.582393</td>\n",
       "      <td>12.763098</td>\n",
       "      <td>12.609971</td>\n",
       "      <td>12.659742</td>\n",
       "      <td>12.583998</td>\n",
       "      <td>0.670041</td>\n",
       "    </tr>\n",
       "    <tr>\n",
       "      <th>22651</th>\n",
       "      <td>213350_PM_at</td>\n",
       "      <td>12.347313</td>\n",
       "      <td>12.378616</td>\n",
       "      <td>12.308914</td>\n",
       "      <td>12.430671</td>\n",
       "      <td>12.287590</td>\n",
       "      <td>12.373232</td>\n",
       "      <td>12.366940</td>\n",
       "      <td>12.128428</td>\n",
       "      <td>12.343729</td>\n",
       "      <td>...</td>\n",
       "      <td>12.519583</td>\n",
       "      <td>12.374885</td>\n",
       "      <td>12.498369</td>\n",
       "      <td>12.299724</td>\n",
       "      <td>12.411400</td>\n",
       "      <td>12.507320</td>\n",
       "      <td>12.438849</td>\n",
       "      <td>12.261441</td>\n",
       "      <td>12.269833</td>\n",
       "      <td>0.917850</td>\n",
       "    </tr>\n",
       "    <tr>\n",
       "      <th>22678</th>\n",
       "      <td>213377_PM_x_at</td>\n",
       "      <td>12.582775</td>\n",
       "      <td>12.542603</td>\n",
       "      <td>12.617962</td>\n",
       "      <td>12.559499</td>\n",
       "      <td>12.598909</td>\n",
       "      <td>12.544166</td>\n",
       "      <td>12.616064</td>\n",
       "      <td>12.599293</td>\n",
       "      <td>12.553903</td>\n",
       "      <td>...</td>\n",
       "      <td>12.277723</td>\n",
       "      <td>12.198566</td>\n",
       "      <td>12.471668</td>\n",
       "      <td>12.298256</td>\n",
       "      <td>12.471564</td>\n",
       "      <td>12.578245</td>\n",
       "      <td>12.467244</td>\n",
       "      <td>12.431956</td>\n",
       "      <td>12.395443</td>\n",
       "      <td>0.905786</td>\n",
       "    </tr>\n",
       "  </tbody>\n",
       "</table>\n",
       "<p>5 rows × 314 columns</p>\n",
       "</div>"
      ],
      "text/plain": [
       "           Unnamed: 0  GSM3428310  GSM3428311  GSM3428312  GSM3428313  \\\n",
       "9972   200031_PM_s_at   12.743698   12.723494   12.740703   12.708090   \n",
       "10196  200748_PM_s_at   12.765602   12.781554   12.845527   12.672477   \n",
       "10940  201492_PM_s_at   12.519562   12.600981   12.518058   12.560721   \n",
       "22651    213350_PM_at   12.347313   12.378616   12.308914   12.430671   \n",
       "22678  213377_PM_x_at   12.582775   12.542603   12.617962   12.559499   \n",
       "\n",
       "       GSM3428314  GSM3428315  GSM3428316  GSM3428317  GSM3428318  ...  \\\n",
       "9972    12.768750   12.742374   12.728497   12.682840   12.733810  ...   \n",
       "10196   12.744052   12.612758   12.584255   12.761328   12.631452  ...   \n",
       "10940   12.452489   12.624000   12.583917   12.494613   12.595958  ...   \n",
       "22651   12.287590   12.373232   12.366940   12.128428   12.343729  ...   \n",
       "22678   12.598909   12.544166   12.616064   12.599293   12.553903  ...   \n",
       "\n",
       "       GSM3428613  GSM3428614  GSM3428615  GSM3428616  GSM3428617  GSM3428618  \\\n",
       "9972    12.859761   12.539315   12.605418   12.691460   12.854068   12.805795   \n",
       "10196   12.804183   12.798274   12.827596   12.839459   12.607702   12.453852   \n",
       "10940   12.600512   12.569835   12.485699   12.508232   12.582393   12.763098   \n",
       "22651   12.519583   12.374885   12.498369   12.299724   12.411400   12.507320   \n",
       "22678   12.277723   12.198566   12.471668   12.298256   12.471564   12.578245   \n",
       "\n",
       "       GSM3428619  GSM3428620  GSM3428621        CV  \n",
       "9972    12.589401   12.755111   12.683114  0.826490  \n",
       "10196   12.482060   12.567841   12.607481  0.960344  \n",
       "10940   12.609971   12.659742   12.583998  0.670041  \n",
       "22651   12.438849   12.261441   12.269833  0.917850  \n",
       "22678   12.467244   12.431956   12.395443  0.905786  \n",
       "\n",
       "[5 rows x 314 columns]"
      ]
     },
     "execution_count": 17,
     "metadata": {},
     "output_type": "execute_result"
    }
   ],
   "source": [
    "raw_expre[raw_expre['CV']<1] "
   ]
  },
  {
   "cell_type": "markdown",
   "id": "fcce0e33",
   "metadata": {},
   "source": [
    "#### Coefficient of variation of ELF1 / IRF1 / SYNGR1 "
   ]
  },
  {
   "cell_type": "code",
   "execution_count": 18,
   "id": "e53ee4ae",
   "metadata": {
    "scrolled": true
   },
   "outputs": [
    {
     "data": {
      "text/plain": [
       "21723    4.406498\n",
       "Name: CV, dtype: float64"
      ]
     },
     "execution_count": 18,
     "metadata": {},
     "output_type": "execute_result"
    }
   ],
   "source": [
    "raw_expre[raw_expre['Unnamed: 0']==elf1]['CV'] "
   ]
  },
  {
   "cell_type": "code",
   "execution_count": 19,
   "id": "9355e7a8",
   "metadata": {},
   "outputs": [
    {
     "data": {
      "text/plain": [
       "11979    3.317422\n",
       "Name: CV, dtype: float64"
      ]
     },
     "execution_count": 19,
     "metadata": {},
     "output_type": "execute_result"
    }
   ],
   "source": [
    "raw_expre[raw_expre['Unnamed: 0']==irf1]['CV']"
   ]
  },
  {
   "cell_type": "code",
   "execution_count": 20,
   "id": "8e793e30",
   "metadata": {},
   "outputs": [
    {
     "data": {
      "text/plain": [
       "13734    9.115219\n",
       "Name: CV, dtype: float64"
      ]
     },
     "execution_count": 20,
     "metadata": {},
     "output_type": "execute_result"
    }
   ],
   "source": [
    "raw_expre[raw_expre['Unnamed: 0']==syngr1]['CV']"
   ]
  }
 ],
 "metadata": {
  "kernelspec": {
   "display_name": "Python 3 (ipykernel)",
   "language": "python",
   "name": "python3"
  },
  "language_info": {
   "codemirror_mode": {
    "name": "ipython",
    "version": 3
   },
   "file_extension": ".py",
   "mimetype": "text/x-python",
   "name": "python",
   "nbconvert_exporter": "python",
   "pygments_lexer": "ipython3",
   "version": "3.9.13"
  }
 },
 "nbformat": 4,
 "nbformat_minor": 5
}
