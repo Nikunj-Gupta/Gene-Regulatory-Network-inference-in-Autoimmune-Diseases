{
 "cells": [
  {
   "cell_type": "code",
   "execution_count": 1,
   "id": "ddfa1c98",
   "metadata": {},
   "outputs": [],
   "source": [
    "import GEOparse \n",
    "import pandas as pd, numpy as np \n",
    "import glob, sys \n",
    "from pprint import pprint \n",
    "import pandas as pd \n",
    "from scipy import stats \n",
    "import seaborn as sns \n",
    "import matplotlib.pyplot as plt "
   ]
  },
  {
   "cell_type": "code",
   "execution_count": 2,
   "id": "43efaea7",
   "metadata": {},
   "outputs": [
    {
     "name": "stderr",
     "output_type": "stream",
     "text": [
      "/Users/nikunjgupta/work/GRN/venv/lib/python3.9/site-packages/GEOparse/GEOparse.py:401: DtypeWarning: Columns (2) have mixed types. Specify dtype option on import or set low_memory=False.\n",
      "  return read_csv(StringIO(data), index_col=None, sep=\"\\t\")\n"
     ]
    }
   ],
   "source": [
    "dataset = './datasets/soft_files/GSE45291_family.soft.gz' \n",
    "gse = GEOparse.get_GEO(filepath=dataset, silent=True) "
   ]
  },
  {
   "cell_type": "code",
   "execution_count": 3,
   "id": "17f75da6",
   "metadata": {},
   "outputs": [
    {
     "name": "stdout",
     "output_type": "stream",
     "text": [
      "GPL example:\n",
      "Name:  GPL13158\n",
      "Metadata:\n",
      " - title : [HT_HG-U133_Plus_PM] Affymetrix HT HG-U133+ PM Array Plate\n",
      " - geo_accession : GPL13158\n",
      " - status : Public on Feb 11 2011\n",
      " - submission_date : Feb 11 2011\n",
      " - last_update_date : Apr 20 2018\n",
      " - technology : in situ oligonucleotide\n",
      " - distribution : commercial\n",
      " - organism : Homo sapiens\n",
      " - taxid : 9606\n",
      " - manufacturer : Affymetrix\n",
      " - manufacture_protocol : see manufacturer's web site\n",
      " - description : Affymetrix submissions are typically submitted to GEO using the GEOarchive method described at http://www.ncbi.nlm.nih.gov/projects/geo/info/geo_affy.html, , , , Annotations derived from HT_HG-U133_Plus_PM.na31.annot.csv\n",
      " - web_link : http://www.affymetrix.com/browse/products.jsp?navMode=34000&productId=131440&navAction=jump&aId=productsNav#1_1, http://www.affymetrix.com/analysis/index.affx\n",
      " - contact_name : ,,Affymetrix, Inc.\n",
      " - contact_email : geo@ncbi.nlm.nih.gov, support@affymetrix.com\n",
      " - contact_phone : 888-362-2447\n",
      " - contact_institute : Affymetrix, Inc.\n",
      " - contact_address : \n",
      " - contact_city : Santa Clara\n",
      " - contact_state : CA\n",
      " - contact_zip/postal_code : 95051\n",
      " - contact_country : USA\n",
      " - contact_web_link : http://www.affymetrix.com/index.affx\n",
      " - relation : Alternative to: GPL15798 (Alternative CDF), Alternative to: GPL17295 (HTHGU133PlusPM_Hs_ENTREZG_v15), Alternative to: GPL19309 (alternative CDF: HTHGU133PlusPM_Hs_ENTREZG_v15.1.0), Alternative to: GPL24915 (custom CDF)\n",
      " - data_row_count : 54715\n",
      "Table data:\n",
      "                    ID  GB_ACC    SPOT_ID Species Scientific Name  \\\n",
      "0         1007_PM_s_at  U48705        NaN            Homo sapiens   \n",
      "1           1053_PM_at  M87338        NaN            Homo sapiens   \n",
      "2            117_PM_at  X51757        NaN            Homo sapiens   \n",
      "3            121_PM_at  X69699        NaN            Homo sapiens   \n",
      "4         1255_PM_g_at  L36861        NaN            Homo sapiens   \n",
      "...                ...     ...        ...                     ...   \n",
      "54710   AFFX-ThrX-5_at     NaN  --Control            Homo sapiens   \n",
      "54711   AFFX-ThrX-M_at     NaN  --Control            Homo sapiens   \n",
      "54712  AFFX-TrpnX-3_at     NaN  --Control            Homo sapiens   \n",
      "54713  AFFX-TrpnX-5_at     NaN  --Control            Homo sapiens   \n",
      "54714  AFFX-TrpnX-M_at     NaN  --Control            Homo sapiens   \n",
      "\n",
      "      Annotation Date      Sequence Type                  Sequence Source  \\\n",
      "0        Aug 20, 2010  Exemplar sequence  Affymetrix Proprietary Database   \n",
      "1        Aug 20, 2010  Exemplar sequence                          GenBank   \n",
      "2        Aug 20, 2010  Exemplar sequence  Affymetrix Proprietary Database   \n",
      "3        Aug 20, 2010  Exemplar sequence                          GenBank   \n",
      "4        Aug 20, 2010  Exemplar sequence  Affymetrix Proprietary Database   \n",
      "...               ...                ...                              ...   \n",
      "54710    Aug 20, 2010   Control sequence  Affymetrix Proprietary Database   \n",
      "54711    Aug 20, 2010   Control sequence  Affymetrix Proprietary Database   \n",
      "54712    Aug 20, 2010   Control sequence  Affymetrix Proprietary Database   \n",
      "54713    Aug 20, 2010   Control sequence  Affymetrix Proprietary Database   \n",
      "54714    Aug 20, 2010   Control sequence  Affymetrix Proprietary Database   \n",
      "\n",
      "                                      Target Description  \\\n",
      "0      U48705 /FEATURE=mRNA /DEFINITION=HSU48705 Huma...   \n",
      "1      M87338 /FEATURE= /DEFINITION=HUMA1SBU Human re...   \n",
      "2      X51757 /FEATURE=cds /DEFINITION=HSP70B Human h...   \n",
      "3      X69699 /FEATURE= /DEFINITION=HSPAX8A H.sapiens...   \n",
      "4      L36861 /FEATURE=expanded_cds /DEFINITION=HUMGC...   \n",
      "...                                                  ...   \n",
      "54710  B. subtilis /GEN=thrC /DB_XREF=gb:X04603.1 /NO...   \n",
      "54711  B. subtilis /GEN=thrC, thrB /DB_XREF=gb:X04603...   \n",
      "54712  B. subtilis /GEN=trpC, trpF /DB_XREF=gb:K01391...   \n",
      "54713  B. subtilis /GEN=trpE, trpD /DB_XREF=gb:K01391...   \n",
      "54714  B. subtilis /GEN=trpD, trpC /DB_XREF=gb:K01391...   \n",
      "\n",
      "      Representative Public ID                                   Gene Title  \\\n",
      "0                       U48705  discoidin domain receptor tyrosine kinase 1   \n",
      "1                       M87338  replication factor C (activator 1) 2, 40kDa   \n",
      "2                       X51757         heat shock 70kDa protein 6 (HSP70B')   \n",
      "3                       X69699                                 paired box 8   \n",
      "4                       L36861      guanylate cyclase activator 1A (retina)   \n",
      "...                        ...                                          ...   \n",
      "54710              AFFX-ThrX-5                                          NaN   \n",
      "54711              AFFX-ThrX-M                                          NaN   \n",
      "54712             AFFX-TrpnX-3                                          NaN   \n",
      "54713             AFFX-TrpnX-5                                          NaN   \n",
      "54714             AFFX-TrpnX-M                                          NaN   \n",
      "\n",
      "      Gene Symbol ENTREZ_GENE_ID  \\\n",
      "0            DDR1            780   \n",
      "1            RFC2           5982   \n",
      "2           HSPA6           3310   \n",
      "3            PAX8           7849   \n",
      "4          GUCA1A           2978   \n",
      "...           ...            ...   \n",
      "54710         NaN            NaN   \n",
      "54711         NaN            NaN   \n",
      "54712         NaN            NaN   \n",
      "54713         NaN            NaN   \n",
      "54714         NaN            NaN   \n",
      "\n",
      "                                    RefSeq Transcript ID  \\\n",
      "0                  NM_001954 /// NM_013993 /// NM_013994   \n",
      "1                                NM_002914 /// NM_181471   \n",
      "2                                              NM_002155   \n",
      "3      NM_003466 /// NM_013951 /// NM_013952 /// NM_0...   \n",
      "4                                              NM_000409   \n",
      "...                                                  ...   \n",
      "54710                                                NaN   \n",
      "54711                                                NaN   \n",
      "54712                                                NaN   \n",
      "54713                                                NaN   \n",
      "54714                                                NaN   \n",
      "\n",
      "                        Gene Ontology Biological Process  \\\n",
      "0      0001558 // regulation of cell growth // inferr...   \n",
      "1      0006260 // DNA replication // not recorded ///...   \n",
      "2      0006950 // response to stress // inferred from...   \n",
      "3      0001656 // metanephros development // inferred...   \n",
      "4      0007165 // signal transduction // non-traceabl...   \n",
      "...                                                  ...   \n",
      "54710  0006520 // cellular amino acid metabolic proce...   \n",
      "54711  0006520 // cellular amino acid metabolic proce...   \n",
      "54712  0000105 // histidine biosynthetic process // i...   \n",
      "54713  0000105 // histidine biosynthetic process // i...   \n",
      "54714  0000105 // histidine biosynthetic process // i...   \n",
      "\n",
      "                        Gene Ontology Cellular Component  \\\n",
      "0      0005576 // extracellular region // inferred fr...   \n",
      "1      0005634 // nucleus // inferred from electronic...   \n",
      "2                                                    NaN   \n",
      "3      0005634 // nucleus // inferred from electronic...   \n",
      "4      0016020 // membrane // inferred from electroni...   \n",
      "...                                                  ...   \n",
      "54710  0005737 // cytoplasm // inferred from electron...   \n",
      "54711  0005737 // cytoplasm // inferred from electron...   \n",
      "54712                                                NaN   \n",
      "54713                                                NaN   \n",
      "54714                                                NaN   \n",
      "\n",
      "                        Gene Ontology Molecular Function  \n",
      "0      0000166 // nucleotide binding // inferred from...  \n",
      "1      0000166 // nucleotide binding // inferred from...  \n",
      "2      0000166 // nucleotide binding // inferred from...  \n",
      "3      0003677 // DNA binding // inferred from direct...  \n",
      "4      0005509 // calcium ion binding // inferred fro...  \n",
      "...                                                  ...  \n",
      "54710  0000166 // nucleotide binding // inferred from...  \n",
      "54711  0000166 // nucleotide binding // inferred from...  \n",
      "54712  0003824 // catalytic activity // inferred from...  \n",
      "54713  0003824 // catalytic activity // inferred from...  \n",
      "54714  0003824 // catalytic activity // inferred from...  \n",
      "\n",
      "[54715 rows x 16 columns]\n",
      "Index(['ID', 'GB_ACC', 'SPOT_ID', 'Species Scientific Name', 'Annotation Date',\n",
      "       'Sequence Type', 'Sequence Source', 'Target Description',\n",
      "       'Representative Public ID', 'Gene Title', 'Gene Symbol',\n",
      "       'ENTREZ_GENE_ID', 'RefSeq Transcript ID',\n",
      "       'Gene Ontology Biological Process', 'Gene Ontology Cellular Component',\n",
      "       'Gene Ontology Molecular Function'],\n",
      "      dtype='object')\n"
     ]
    }
   ],
   "source": [
    "print(\"GPL example:\")\n",
    "for gpl_name, gpl in gse.gpls.items():\n",
    "    print(\"Name: \", gpl_name)\n",
    "    print(\"Metadata:\",)\n",
    "    for key, value in gpl.metadata.items():\n",
    "        print(\" - %s : %s\" % (key, \", \".join(value)))\n",
    "    print(\"Table data:\",)\n",
    "    print(gpl.table) \n",
    "    print(gpl.table.columns)\n",
    "    break"
   ]
  },
  {
   "cell_type": "code",
   "execution_count": 4,
   "id": "37569b61",
   "metadata": {},
   "outputs": [
    {
     "name": "stdout",
     "output_type": "stream",
     "text": [
      "GSM example:\n",
      "Name:  GSM1100843\n",
      "Name:  GSM1100844\n",
      "Name:  GSM1100845\n",
      "Name:  GSM1100846\n",
      "Name:  GSM1100847\n",
      "Name:  GSM1100848\n",
      "Name:  GSM1100849\n"
     ]
    },
    {
     "name": "stderr",
     "output_type": "stream",
     "text": [
      "/var/folders/_1/dc2yd0kn325bph09grgy33lr0000gn/T/ipykernel_98144/1993327349.py:18: FutureWarning: Passing 'suffixes' which cause duplicate columns {'VALUE_x'} in the result is deprecated and will raise a MergeError in a future version.\n",
      "  df = pd.merge(df, gsm.table, on='ID_REF')\n",
      "/var/folders/_1/dc2yd0kn325bph09grgy33lr0000gn/T/ipykernel_98144/1993327349.py:18: FutureWarning: Passing 'suffixes' which cause duplicate columns {'VALUE_x'} in the result is deprecated and will raise a MergeError in a future version.\n",
      "  df = pd.merge(df, gsm.table, on='ID_REF')\n"
     ]
    },
    {
     "name": "stdout",
     "output_type": "stream",
     "text": [
      "Name:  GSM1100850\n",
      "Name:  GSM1100851\n",
      "Name:  GSM1100852\n",
      "10\n"
     ]
    },
    {
     "name": "stderr",
     "output_type": "stream",
     "text": [
      "/var/folders/_1/dc2yd0kn325bph09grgy33lr0000gn/T/ipykernel_98144/1993327349.py:18: FutureWarning: Passing 'suffixes' which cause duplicate columns {'VALUE_x'} in the result is deprecated and will raise a MergeError in a future version.\n",
      "  df = pd.merge(df, gsm.table, on='ID_REF')\n",
      "/var/folders/_1/dc2yd0kn325bph09grgy33lr0000gn/T/ipykernel_98144/1993327349.py:18: FutureWarning: Passing 'suffixes' which cause duplicate columns {'VALUE_x'} in the result is deprecated and will raise a MergeError in a future version.\n",
      "  df = pd.merge(df, gsm.table, on='ID_REF')\n"
     ]
    }
   ],
   "source": [
    "print(\"GSM example:\")\n",
    "count = 0 \n",
    "df_tag = False \n",
    "for gsm_name, gsm in gse.gsms.items():\n",
    "    print(\"Name: \", gsm_name)\n",
    "#     print(\"Metadata:\",)\n",
    "#     for key, value in gsm.metadata.items():\n",
    "#         print(\" - %s : %s\" % (key, \", \".join(value)))\n",
    "#     print (\"Table data:\",)\n",
    "#     print (gsm.table.head())\n",
    "#     print (len(gsm.table['ID_REF'].unique()))\n",
    "#     print(gsm.table.columns)\n",
    "    count+=1 \n",
    "    if not df_tag: \n",
    "        df = gsm.table \n",
    "        df_tag = True \n",
    "    else: \n",
    "        df = pd.merge(df, gsm.table, on='ID_REF') \n",
    "    if count==10:\n",
    "        break \n",
    "print(count) "
   ]
  },
  {
   "cell_type": "code",
   "execution_count": 5,
   "id": "5cfffee7",
   "metadata": {},
   "outputs": [
    {
     "data": {
      "text/plain": [
       "(54715, 11)"
      ]
     },
     "execution_count": 5,
     "metadata": {},
     "output_type": "execute_result"
    }
   ],
   "source": [
    "df.shape"
   ]
  },
  {
   "cell_type": "code",
   "execution_count": 6,
   "id": "85d7c675",
   "metadata": {},
   "outputs": [
    {
     "data": {
      "text/html": [
       "<div>\n",
       "<style scoped>\n",
       "    .dataframe tbody tr th:only-of-type {\n",
       "        vertical-align: middle;\n",
       "    }\n",
       "\n",
       "    .dataframe tbody tr th {\n",
       "        vertical-align: top;\n",
       "    }\n",
       "\n",
       "    .dataframe thead th {\n",
       "        text-align: right;\n",
       "    }\n",
       "</style>\n",
       "<table border=\"1\" class=\"dataframe\">\n",
       "  <thead>\n",
       "    <tr style=\"text-align: right;\">\n",
       "      <th></th>\n",
       "      <th>ID_REF</th>\n",
       "      <th>VALUE_x</th>\n",
       "      <th>VALUE_y</th>\n",
       "      <th>VALUE_x</th>\n",
       "      <th>VALUE_y</th>\n",
       "      <th>VALUE_x</th>\n",
       "      <th>VALUE_y</th>\n",
       "      <th>VALUE_x</th>\n",
       "      <th>VALUE_y</th>\n",
       "      <th>VALUE_x</th>\n",
       "      <th>VALUE_y</th>\n",
       "    </tr>\n",
       "  </thead>\n",
       "  <tbody>\n",
       "    <tr>\n",
       "      <th>0</th>\n",
       "      <td>1007_PM_s_at</td>\n",
       "      <td>3.537552</td>\n",
       "      <td>3.249034</td>\n",
       "      <td>3.619226</td>\n",
       "      <td>3.632301</td>\n",
       "      <td>3.122761</td>\n",
       "      <td>2.834079</td>\n",
       "      <td>2.940208</td>\n",
       "      <td>2.990906</td>\n",
       "      <td>2.881942</td>\n",
       "      <td>2.815237</td>\n",
       "    </tr>\n",
       "    <tr>\n",
       "      <th>1</th>\n",
       "      <td>1053_PM_at</td>\n",
       "      <td>5.463634</td>\n",
       "      <td>5.649695</td>\n",
       "      <td>5.251240</td>\n",
       "      <td>5.293127</td>\n",
       "      <td>5.501780</td>\n",
       "      <td>5.712752</td>\n",
       "      <td>6.270448</td>\n",
       "      <td>6.231601</td>\n",
       "      <td>5.918056</td>\n",
       "      <td>5.725501</td>\n",
       "    </tr>\n",
       "    <tr>\n",
       "      <th>2</th>\n",
       "      <td>117_PM_at</td>\n",
       "      <td>9.742706</td>\n",
       "      <td>10.141563</td>\n",
       "      <td>10.007534</td>\n",
       "      <td>9.238588</td>\n",
       "      <td>9.687890</td>\n",
       "      <td>9.909333</td>\n",
       "      <td>9.060148</td>\n",
       "      <td>10.781097</td>\n",
       "      <td>8.955839</td>\n",
       "      <td>9.891850</td>\n",
       "    </tr>\n",
       "    <tr>\n",
       "      <th>3</th>\n",
       "      <td>121_PM_at</td>\n",
       "      <td>2.929835</td>\n",
       "      <td>2.917571</td>\n",
       "      <td>3.038868</td>\n",
       "      <td>3.043550</td>\n",
       "      <td>3.225661</td>\n",
       "      <td>2.972903</td>\n",
       "      <td>2.915651</td>\n",
       "      <td>2.916912</td>\n",
       "      <td>2.726514</td>\n",
       "      <td>2.942972</td>\n",
       "    </tr>\n",
       "    <tr>\n",
       "      <th>4</th>\n",
       "      <td>1255_PM_g_at</td>\n",
       "      <td>2.298061</td>\n",
       "      <td>2.298061</td>\n",
       "      <td>2.298061</td>\n",
       "      <td>2.298061</td>\n",
       "      <td>2.298061</td>\n",
       "      <td>2.298061</td>\n",
       "      <td>2.298061</td>\n",
       "      <td>2.298061</td>\n",
       "      <td>2.298061</td>\n",
       "      <td>2.298061</td>\n",
       "    </tr>\n",
       "  </tbody>\n",
       "</table>\n",
       "</div>"
      ],
      "text/plain": [
       "         ID_REF   VALUE_x    VALUE_y    VALUE_x   VALUE_y   VALUE_x   VALUE_y  \\\n",
       "0  1007_PM_s_at  3.537552   3.249034   3.619226  3.632301  3.122761  2.834079   \n",
       "1    1053_PM_at  5.463634   5.649695   5.251240  5.293127  5.501780  5.712752   \n",
       "2     117_PM_at  9.742706  10.141563  10.007534  9.238588  9.687890  9.909333   \n",
       "3     121_PM_at  2.929835   2.917571   3.038868  3.043550  3.225661  2.972903   \n",
       "4  1255_PM_g_at  2.298061   2.298061   2.298061  2.298061  2.298061  2.298061   \n",
       "\n",
       "    VALUE_x    VALUE_y   VALUE_x   VALUE_y  \n",
       "0  2.940208   2.990906  2.881942  2.815237  \n",
       "1  6.270448   6.231601  5.918056  5.725501  \n",
       "2  9.060148  10.781097  8.955839  9.891850  \n",
       "3  2.915651   2.916912  2.726514  2.942972  \n",
       "4  2.298061   2.298061  2.298061  2.298061  "
      ]
     },
     "execution_count": 6,
     "metadata": {},
     "output_type": "execute_result"
    }
   ],
   "source": [
    "df.head() "
   ]
  },
  {
   "cell_type": "code",
   "execution_count": 7,
   "id": "71db0a1d",
   "metadata": {},
   "outputs": [
    {
     "data": {
      "text/html": [
       "<div>\n",
       "<style scoped>\n",
       "    .dataframe tbody tr th:only-of-type {\n",
       "        vertical-align: middle;\n",
       "    }\n",
       "\n",
       "    .dataframe tbody tr th {\n",
       "        vertical-align: top;\n",
       "    }\n",
       "\n",
       "    .dataframe thead th {\n",
       "        text-align: right;\n",
       "    }\n",
       "</style>\n",
       "<table border=\"1\" class=\"dataframe\">\n",
       "  <thead>\n",
       "    <tr style=\"text-align: right;\">\n",
       "      <th></th>\n",
       "      <th>VALUE_x</th>\n",
       "      <th>VALUE_y</th>\n",
       "      <th>VALUE_x</th>\n",
       "      <th>VALUE_y</th>\n",
       "      <th>VALUE_x</th>\n",
       "      <th>VALUE_y</th>\n",
       "      <th>VALUE_x</th>\n",
       "      <th>VALUE_y</th>\n",
       "      <th>VALUE_x</th>\n",
       "      <th>VALUE_y</th>\n",
       "    </tr>\n",
       "  </thead>\n",
       "  <tbody>\n",
       "    <tr>\n",
       "      <th>count</th>\n",
       "      <td>54715.000000</td>\n",
       "      <td>54715.000000</td>\n",
       "      <td>54715.000000</td>\n",
       "      <td>54715.000000</td>\n",
       "      <td>54715.000000</td>\n",
       "      <td>54715.000000</td>\n",
       "      <td>54715.000000</td>\n",
       "      <td>54715.000000</td>\n",
       "      <td>54715.000000</td>\n",
       "      <td>54715.000000</td>\n",
       "    </tr>\n",
       "    <tr>\n",
       "      <th>mean</th>\n",
       "      <td>4.313170</td>\n",
       "      <td>4.314076</td>\n",
       "      <td>4.324081</td>\n",
       "      <td>4.293159</td>\n",
       "      <td>4.322037</td>\n",
       "      <td>4.335901</td>\n",
       "      <td>4.360390</td>\n",
       "      <td>4.362324</td>\n",
       "      <td>4.362261</td>\n",
       "      <td>4.334827</td>\n",
       "    </tr>\n",
       "    <tr>\n",
       "      <th>std</th>\n",
       "      <td>2.449720</td>\n",
       "      <td>2.448957</td>\n",
       "      <td>2.455828</td>\n",
       "      <td>2.425231</td>\n",
       "      <td>2.439799</td>\n",
       "      <td>2.474785</td>\n",
       "      <td>2.488444</td>\n",
       "      <td>2.496473</td>\n",
       "      <td>2.488293</td>\n",
       "      <td>2.472394</td>\n",
       "    </tr>\n",
       "    <tr>\n",
       "      <th>min</th>\n",
       "      <td>2.298061</td>\n",
       "      <td>2.298061</td>\n",
       "      <td>2.298061</td>\n",
       "      <td>2.298061</td>\n",
       "      <td>2.298061</td>\n",
       "      <td>2.298061</td>\n",
       "      <td>2.298061</td>\n",
       "      <td>2.298061</td>\n",
       "      <td>2.298061</td>\n",
       "      <td>2.298061</td>\n",
       "    </tr>\n",
       "    <tr>\n",
       "      <th>25%</th>\n",
       "      <td>2.298061</td>\n",
       "      <td>2.298061</td>\n",
       "      <td>2.298061</td>\n",
       "      <td>2.298061</td>\n",
       "      <td>2.298061</td>\n",
       "      <td>2.298061</td>\n",
       "      <td>2.298061</td>\n",
       "      <td>2.298061</td>\n",
       "      <td>2.298061</td>\n",
       "      <td>2.298061</td>\n",
       "    </tr>\n",
       "    <tr>\n",
       "      <th>50%</th>\n",
       "      <td>3.171008</td>\n",
       "      <td>3.167708</td>\n",
       "      <td>3.170747</td>\n",
       "      <td>3.171670</td>\n",
       "      <td>3.199819</td>\n",
       "      <td>3.172356</td>\n",
       "      <td>3.188589</td>\n",
       "      <td>3.190720</td>\n",
       "      <td>3.198884</td>\n",
       "      <td>3.165622</td>\n",
       "    </tr>\n",
       "    <tr>\n",
       "      <th>75%</th>\n",
       "      <td>5.858852</td>\n",
       "      <td>5.861776</td>\n",
       "      <td>5.891754</td>\n",
       "      <td>5.797083</td>\n",
       "      <td>5.880822</td>\n",
       "      <td>5.925774</td>\n",
       "      <td>6.026806</td>\n",
       "      <td>5.985780</td>\n",
       "      <td>6.028016</td>\n",
       "      <td>5.934431</td>\n",
       "    </tr>\n",
       "    <tr>\n",
       "      <th>max</th>\n",
       "      <td>14.492979</td>\n",
       "      <td>14.514230</td>\n",
       "      <td>14.566594</td>\n",
       "      <td>14.406032</td>\n",
       "      <td>14.662320</td>\n",
       "      <td>14.621330</td>\n",
       "      <td>14.425104</td>\n",
       "      <td>14.300458</td>\n",
       "      <td>14.457334</td>\n",
       "      <td>14.499692</td>\n",
       "    </tr>\n",
       "  </tbody>\n",
       "</table>\n",
       "</div>"
      ],
      "text/plain": [
       "            VALUE_x       VALUE_y       VALUE_x       VALUE_y       VALUE_x  \\\n",
       "count  54715.000000  54715.000000  54715.000000  54715.000000  54715.000000   \n",
       "mean       4.313170      4.314076      4.324081      4.293159      4.322037   \n",
       "std        2.449720      2.448957      2.455828      2.425231      2.439799   \n",
       "min        2.298061      2.298061      2.298061      2.298061      2.298061   \n",
       "25%        2.298061      2.298061      2.298061      2.298061      2.298061   \n",
       "50%        3.171008      3.167708      3.170747      3.171670      3.199819   \n",
       "75%        5.858852      5.861776      5.891754      5.797083      5.880822   \n",
       "max       14.492979     14.514230     14.566594     14.406032     14.662320   \n",
       "\n",
       "            VALUE_y       VALUE_x       VALUE_y       VALUE_x       VALUE_y  \n",
       "count  54715.000000  54715.000000  54715.000000  54715.000000  54715.000000  \n",
       "mean       4.335901      4.360390      4.362324      4.362261      4.334827  \n",
       "std        2.474785      2.488444      2.496473      2.488293      2.472394  \n",
       "min        2.298061      2.298061      2.298061      2.298061      2.298061  \n",
       "25%        2.298061      2.298061      2.298061      2.298061      2.298061  \n",
       "50%        3.172356      3.188589      3.190720      3.198884      3.165622  \n",
       "75%        5.925774      6.026806      5.985780      6.028016      5.934431  \n",
       "max       14.621330     14.425104     14.300458     14.457334     14.499692  "
      ]
     },
     "execution_count": 7,
     "metadata": {},
     "output_type": "execute_result"
    }
   ],
   "source": [
    "df.describe()"
   ]
  },
  {
   "cell_type": "code",
   "execution_count": 8,
   "id": "e290d371",
   "metadata": {},
   "outputs": [
    {
     "name": "stdout",
     "output_type": "stream",
     "text": [
      "<class 'pandas.core.frame.DataFrame'>\n",
      "Int64Index: 54715 entries, 0 to 54714\n",
      "Data columns (total 11 columns):\n",
      " #   Column   Non-Null Count  Dtype  \n",
      "---  ------   --------------  -----  \n",
      " 0   ID_REF   54715 non-null  object \n",
      " 1   VALUE_x  54715 non-null  float64\n",
      " 2   VALUE_y  54715 non-null  float64\n",
      " 3   VALUE_x  54715 non-null  float64\n",
      " 4   VALUE_y  54715 non-null  float64\n",
      " 5   VALUE_x  54715 non-null  float64\n",
      " 6   VALUE_y  54715 non-null  float64\n",
      " 7   VALUE_x  54715 non-null  float64\n",
      " 8   VALUE_y  54715 non-null  float64\n",
      " 9   VALUE_x  54715 non-null  float64\n",
      " 10  VALUE_y  54715 non-null  float64\n",
      "dtypes: float64(10), object(1)\n",
      "memory usage: 5.0+ MB\n"
     ]
    }
   ],
   "source": [
    "df.info() "
   ]
  },
  {
   "cell_type": "code",
   "execution_count": 9,
   "id": "e519031f",
   "metadata": {},
   "outputs": [
    {
     "data": {
      "text/plain": [
       "ID_REF     0\n",
       "VALUE_x    0\n",
       "VALUE_y    0\n",
       "VALUE_x    0\n",
       "VALUE_y    0\n",
       "VALUE_x    0\n",
       "VALUE_y    0\n",
       "VALUE_x    0\n",
       "VALUE_y    0\n",
       "VALUE_x    0\n",
       "VALUE_y    0\n",
       "dtype: int64"
      ]
     },
     "execution_count": 9,
     "metadata": {},
     "output_type": "execute_result"
    }
   ],
   "source": [
    "# Number of NaN in each feature \n",
    "df.isnull().sum() "
   ]
  },
  {
   "cell_type": "code",
   "execution_count": 10,
   "id": "bec6b6cf",
   "metadata": {},
   "outputs": [
    {
     "data": {
      "text/plain": [
       "0        0\n",
       "1        0\n",
       "2        0\n",
       "3        0\n",
       "4        0\n",
       "        ..\n",
       "54710    0\n",
       "54711    0\n",
       "54712    0\n",
       "54713    0\n",
       "54714    0\n",
       "Length: 54715, dtype: int64"
      ]
     },
     "execution_count": 10,
     "metadata": {},
     "output_type": "execute_result"
    }
   ],
   "source": [
    "# Number of NaN in each data point (person) \n",
    "df.T.isnull().sum() "
   ]
  },
  {
   "cell_type": "code",
   "execution_count": 11,
   "id": "61c08d71",
   "metadata": {},
   "outputs": [
    {
     "name": "stdout",
     "output_type": "stream",
     "text": [
      "Number of Unique elements in each column = \n",
      "ID_REF  =  54715\n",
      "VALUE_x  =  VALUE_x    39353\n",
      "VALUE_x    39568\n",
      "VALUE_x    39585\n",
      "VALUE_x    38885\n",
      "VALUE_x    38923\n",
      "dtype: int64\n",
      "VALUE_y  =  VALUE_y    39713\n",
      "VALUE_y    40234\n",
      "VALUE_y    39273\n",
      "VALUE_y    39328\n",
      "VALUE_y    38773\n",
      "dtype: int64\n",
      "VALUE_x  =  VALUE_x    39353\n",
      "VALUE_x    39568\n",
      "VALUE_x    39585\n",
      "VALUE_x    38885\n",
      "VALUE_x    38923\n",
      "dtype: int64\n",
      "VALUE_y  =  VALUE_y    39713\n",
      "VALUE_y    40234\n",
      "VALUE_y    39273\n",
      "VALUE_y    39328\n",
      "VALUE_y    38773\n",
      "dtype: int64\n",
      "VALUE_x  =  VALUE_x    39353\n",
      "VALUE_x    39568\n",
      "VALUE_x    39585\n",
      "VALUE_x    38885\n",
      "VALUE_x    38923\n",
      "dtype: int64\n",
      "VALUE_y  =  VALUE_y    39713\n",
      "VALUE_y    40234\n",
      "VALUE_y    39273\n",
      "VALUE_y    39328\n",
      "VALUE_y    38773\n",
      "dtype: int64\n",
      "VALUE_x  =  VALUE_x    39353\n",
      "VALUE_x    39568\n",
      "VALUE_x    39585\n",
      "VALUE_x    38885\n",
      "VALUE_x    38923\n",
      "dtype: int64\n",
      "VALUE_y  =  VALUE_y    39713\n",
      "VALUE_y    40234\n",
      "VALUE_y    39273\n",
      "VALUE_y    39328\n",
      "VALUE_y    38773\n",
      "dtype: int64\n",
      "VALUE_x  =  VALUE_x    39353\n",
      "VALUE_x    39568\n",
      "VALUE_x    39585\n",
      "VALUE_x    38885\n",
      "VALUE_x    38923\n",
      "dtype: int64\n",
      "VALUE_y  =  VALUE_y    39713\n",
      "VALUE_y    40234\n",
      "VALUE_y    39273\n",
      "VALUE_y    39328\n",
      "VALUE_y    38773\n",
      "dtype: int64\n"
     ]
    }
   ],
   "source": [
    "print('Number of Unique elements in each column = ') \n",
    "for col in df.columns: \n",
    "    print(col, ' = ', df[col].nunique()) \n",
    "#     print(df[col].unique()) \n",
    "#     print() "
   ]
  },
  {
   "cell_type": "code",
   "execution_count": 12,
   "id": "b73e663f",
   "metadata": {},
   "outputs": [
    {
     "name": "stderr",
     "output_type": "stream",
     "text": [
      "/var/folders/_1/dc2yd0kn325bph09grgy33lr0000gn/T/ipykernel_98144/1559504224.py:4: FutureWarning: this method is deprecated in favour of `Styler.format(precision=..)`\n",
      "  correlation_df.style.background_gradient(cmap='coolwarm', axis=None).set_precision(2)\n"
     ]
    },
    {
     "data": {
      "image/png": "[encoded data removed]",
      "text/plain": [
       "<Figure size 432x288 with 2 Axes>"
      ]
     },
     "metadata": {
      "needs_background": "light"
     },
     "output_type": "display_data"
    }
   ],
   "source": [
    "# Whole dataset\n",
    "correlation_df = df.corr(method='pearson') \n",
    "correlation_df = df.corr() \n",
    "correlation_df.style.background_gradient(cmap='coolwarm', axis=None).set_precision(2) \n",
    "sns.heatmap(correlation_df,cbar=True,annot=True,cmap='coolwarm') \n",
    "plt.show()\n",
    "#correlation_df.savefig(\"correlation.png\")\n",
    "#plt.savefig('plots/correlation.png')\n",
    "# plt.savefig('correlation.png')\n",
    "# plt.close() "
   ]
  },
  {
   "cell_type": "code",
   "execution_count": 13,
   "id": "b3d3b241",
   "metadata": {
    "scrolled": false
   },
   "outputs": [
    {
     "name": "stderr",
     "output_type": "stream",
     "text": [
      "/var/folders/_1/dc2yd0kn325bph09grgy33lr0000gn/T/ipykernel_98144/1607149105.py:7: UserWarning: To output multiple subplots, the figure containing the passed axes is being cleared.\n",
      "  df.hist(ax = ax)\n"
     ]
    },
    {
     "data": {
      "text/plain": [
       "array([[<AxesSubplot:title={'center':'Sample 1'}>,\n",
       "        <AxesSubplot:title={'center':'Sample 2'}>,\n",
       "        <AxesSubplot:title={'center':'Sample 3'}>],\n",
       "       [<AxesSubplot:title={'center':'Sample 4'}>,\n",
       "        <AxesSubplot:title={'center':'Sample 5'}>,\n",
       "        <AxesSubplot:title={'center':'Sample 6'}>],\n",
       "       [<AxesSubplot:title={'center':'Sample 7'}>,\n",
       "        <AxesSubplot:title={'center':'Sample 8'}>,\n",
       "        <AxesSubplot:title={'center':'Sample 9'}>],\n",
       "       [<AxesSubplot:title={'center':'Sample 10'}>, <AxesSubplot:>,\n",
       "        <AxesSubplot:>]], dtype=object)"
      ]
     },
     "execution_count": 13,
     "metadata": {},
     "output_type": "execute_result"
    },
    {
     "data": {
      "image/png": "[encoded data removed]",
      "text/plain": [
       "<Figure size 1080x1440 with 12 Axes>"
      ]
     },
     "metadata": {
      "needs_background": "light"
     },
     "output_type": "display_data"
    }
   ],
   "source": [
    "fig = plt.figure(figsize = (15,20))\n",
    "ax = fig.gca()\n",
    "cols=[\"Sample \"+str(i) for i in range(1, len(list(df.columns)))] \n",
    "cols.insert(0, \"ID_REF\") \n",
    "df.columns = cols \n",
    "df.head()\n",
    "df.hist(ax = ax)"
   ]
  },
  {
   "cell_type": "code",
   "execution_count": 14,
   "id": "16a5cc04",
   "metadata": {
    "scrolled": false
   },
   "outputs": [
    {
     "name": "stdout",
     "output_type": "stream",
     "text": [
      "Gene Name:  1007_PM_s_at\n"
     ]
    },
    {
     "data": {
      "image/png": "[encoded data removed]",
      "text/plain": [
       "<Figure size 432x288 with 1 Axes>"
      ]
     },
     "metadata": {
      "needs_background": "light"
     },
     "output_type": "display_data"
    },
    {
     "name": "stdout",
     "output_type": "stream",
     "text": [
      "================================================================\n",
      "Gene Name:  1053_PM_at\n"
     ]
    },
    {
     "data": {
      "image/png": "[encoded data removed]",
      "text/plain": [
       "<Figure size 432x288 with 1 Axes>"
      ]
     },
     "metadata": {
      "needs_background": "light"
     },
     "output_type": "display_data"
    },
    {
     "name": "stdout",
     "output_type": "stream",
     "text": [
      "================================================================\n",
      "Gene Name:  117_PM_at\n"
     ]
    },
    {
     "data": {
      "image/png": "[encoded data removed]",
      "text/plain": [
       "<Figure size 432x288 with 1 Axes>"
      ]
     },
     "metadata": {
      "needs_background": "light"
     },
     "output_type": "display_data"
    },
    {
     "name": "stdout",
     "output_type": "stream",
     "text": [
      "================================================================\n",
      "Gene Name:  121_PM_at\n"
     ]
    },
    {
     "data": {
      "image/png": "[encoded data removed]",
      "text/plain": [
       "<Figure size 432x288 with 1 Axes>"
      ]
     },
     "metadata": {
      "needs_background": "light"
     },
     "output_type": "display_data"
    },
    {
     "name": "stdout",
     "output_type": "stream",
     "text": [
      "================================================================\n",
      "Gene Name:  1255_PM_g_at\n"
     ]
    },
    {
     "data": {
      "image/png": "[encoded data removed]",
      "text/plain": [
       "<Figure size 432x288 with 1 Axes>"
      ]
     },
     "metadata": {
      "needs_background": "light"
     },
     "output_type": "display_data"
    },
    {
     "name": "stdout",
     "output_type": "stream",
     "text": [
      "================================================================\n",
      "Gene Name:  1294_PM_at\n"
     ]
    },
    {
     "data": {
      "image/png": "[encoded data removed]",
      "text/plain": [
       "<Figure size 432x288 with 1 Axes>"
      ]
     },
     "metadata": {
      "needs_background": "light"
     },
     "output_type": "display_data"
    },
    {
     "name": "stdout",
     "output_type": "stream",
     "text": [
      "================================================================\n",
      "Gene Name:  1316_PM_at\n"
     ]
    },
    {
     "data": {
      "image/png": "[encoded data removed]",
      "text/plain": [
       "<Figure size 432x288 with 1 Axes>"
      ]
     },
     "metadata": {
      "needs_background": "light"
     },
     "output_type": "display_data"
    },
    {
     "name": "stdout",
     "output_type": "stream",
     "text": [
      "================================================================\n",
      "Gene Name:  1320_PM_at\n"
     ]
    },
    {
     "data": {
      "image/png": "[encoded data removed]",
      "text/plain": [
       "<Figure size 432x288 with 1 Axes>"
      ]
     },
     "metadata": {
      "needs_background": "light"
     },
     "output_type": "display_data"
    },
    {
     "name": "stdout",
     "output_type": "stream",
     "text": [
      "================================================================\n",
      "Gene Name:  1405_PM_i_at\n"
     ]
    },
    {
     "data": {
      "image/png": "[encoded data removed]",
      "text/plain": [
       "<Figure size 432x288 with 1 Axes>"
      ]
     },
     "metadata": {
      "needs_background": "light"
     },
     "output_type": "display_data"
    },
    {
     "name": "stdout",
     "output_type": "stream",
     "text": [
      "================================================================\n",
      "Gene Name:  1431_PM_at\n"
     ]
    },
    {
     "data": {
      "image/png": "[encoded data removed]",
      "text/plain": [
       "<Figure size 432x288 with 1 Axes>"
      ]
     },
     "metadata": {
      "needs_background": "light"
     },
     "output_type": "display_data"
    },
    {
     "name": "stdout",
     "output_type": "stream",
     "text": [
      "================================================================\n"
     ]
    }
   ],
   "source": [
    "for i in df.T.columns: \n",
    "    print('Gene Name: ', df.T[i]['ID_REF'])\n",
    "    df.T.drop(labels='ID_REF', axis=0)[i].hist() \n",
    "    plt.show() \n",
    "    print(\"================================================================\")\n",
    "    if i==9: \n",
    "        break "
   ]
  },
  {
   "cell_type": "code",
   "execution_count": null,
   "id": "138c02fa",
   "metadata": {},
   "outputs": [],
   "source": []
  }
 ],
 "metadata": {
  "kernelspec": {
   "display_name": "Python 3 (ipykernel)",
   "language": "python",
   "name": "python3"
  },
  "language_info": {
   "codemirror_mode": {
    "name": "ipython",
    "version": 3
   },
   "file_extension": ".py",
   "mimetype": "text/x-python",
   "name": "python",
   "nbconvert_exporter": "python",
   "pygments_lexer": "ipython3",
   "version": "3.9.13"
  }
 },
 "nbformat": 4,
 "nbformat_minor": 5
}
