{
 "cells": [
  {
   "cell_type": "code",
   "execution_count": 1,
   "id": "0526f9a4",
   "metadata": {},
   "outputs": [],
   "source": [
    "import GEOparse \n",
    "import pandas as pd, numpy as np \n",
    "import glob, sys \n",
    "from pprint import pprint \n",
    "import pandas as pd \n",
    "from scipy import stats \n",
    "import seaborn as sns \n",
    "import matplotlib.pyplot as plt "
   ]
  },
  {
   "cell_type": "code",
   "execution_count": 2,
   "id": "c1351141",
   "metadata": {},
   "outputs": [
    {
     "name": "stderr",
     "output_type": "stream",
     "text": [
      "/Users/nikunjgupta/work/GRN/venv/lib/python3.9/site-packages/GEOparse/GEOparse.py:401: DtypeWarning: Columns (2) have mixed types. Specify dtype option on import or set low_memory=False.\n",
      "  return read_csv(StringIO(data), index_col=None, sep=\"\\t\")\n"
     ]
    }
   ],
   "source": [
    "dataset = './datasets/soft_files/GSE45291_family.soft.gz' \n",
    "gse = GEOparse.get_GEO(filepath=dataset, silent=True) "
   ]
  },
  {
   "cell_type": "code",
   "execution_count": 3,
   "id": "19c00fad",
   "metadata": {},
   "outputs": [
    {
     "name": "stdout",
     "output_type": "stream",
     "text": [
      "GPL example:\n",
      "Name:  GPL13158\n",
      "Metadata:\n",
      " - title : [HT_HG-U133_Plus_PM] Affymetrix HT HG-U133+ PM Array Plate\n",
      " - geo_accession : GPL13158\n",
      " - status : Public on Feb 11 2011\n",
      " - submission_date : Feb 11 2011\n",
      " - last_update_date : Apr 20 2018\n",
      " - technology : in situ oligonucleotide\n",
      " - distribution : commercial\n",
      " - organism : Homo sapiens\n",
      " - taxid : 9606\n",
      " - manufacturer : Affymetrix\n",
      " - manufacture_protocol : see manufacturer's web site\n",
      " - description : Affymetrix submissions are typically submitted to GEO using the GEOarchive method described at http://www.ncbi.nlm.nih.gov/projects/geo/info/geo_affy.html, , , , Annotations derived from HT_HG-U133_Plus_PM.na31.annot.csv\n",
      " - web_link : http://www.affymetrix.com/browse/products.jsp?navMode=34000&productId=131440&navAction=jump&aId=productsNav#1_1, http://www.affymetrix.com/analysis/index.affx\n",
      " - contact_name : ,,Affymetrix, Inc.\n",
      " - contact_email : geo@ncbi.nlm.nih.gov, support@affymetrix.com\n",
      " - contact_phone : 888-362-2447\n",
      " - contact_institute : Affymetrix, Inc.\n",
      " - contact_address : \n",
      " - contact_city : Santa Clara\n",
      " - contact_state : CA\n",
      " - contact_zip/postal_code : 95051\n",
      " - contact_country : USA\n",
      " - contact_web_link : http://www.affymetrix.com/index.affx\n",
      " - relation : Alternative to: GPL15798 (Alternative CDF), Alternative to: GPL17295 (HTHGU133PlusPM_Hs_ENTREZG_v15), Alternative to: GPL19309 (alternative CDF: HTHGU133PlusPM_Hs_ENTREZG_v15.1.0), Alternative to: GPL24915 (custom CDF)\n",
      " - data_row_count : 54715\n",
      "Table data:\n",
      "                    ID  GB_ACC    SPOT_ID Species Scientific Name  \\\n",
      "0         1007_PM_s_at  U48705        NaN            Homo sapiens   \n",
      "1           1053_PM_at  M87338        NaN            Homo sapiens   \n",
      "2            117_PM_at  X51757        NaN            Homo sapiens   \n",
      "3            121_PM_at  X69699        NaN            Homo sapiens   \n",
      "4         1255_PM_g_at  L36861        NaN            Homo sapiens   \n",
      "...                ...     ...        ...                     ...   \n",
      "54710   AFFX-ThrX-5_at     NaN  --Control            Homo sapiens   \n",
      "54711   AFFX-ThrX-M_at     NaN  --Control            Homo sapiens   \n",
      "54712  AFFX-TrpnX-3_at     NaN  --Control            Homo sapiens   \n",
      "54713  AFFX-TrpnX-5_at     NaN  --Control            Homo sapiens   \n",
      "54714  AFFX-TrpnX-M_at     NaN  --Control            Homo sapiens   \n",
      "\n",
      "      Annotation Date      Sequence Type                  Sequence Source  \\\n",
      "0        Aug 20, 2010  Exemplar sequence  Affymetrix Proprietary Database   \n",
      "1        Aug 20, 2010  Exemplar sequence                          GenBank   \n",
      "2        Aug 20, 2010  Exemplar sequence  Affymetrix Proprietary Database   \n",
      "3        Aug 20, 2010  Exemplar sequence                          GenBank   \n",
      "4        Aug 20, 2010  Exemplar sequence  Affymetrix Proprietary Database   \n",
      "...               ...                ...                              ...   \n",
      "54710    Aug 20, 2010   Control sequence  Affymetrix Proprietary Database   \n",
      "54711    Aug 20, 2010   Control sequence  Affymetrix Proprietary Database   \n",
      "54712    Aug 20, 2010   Control sequence  Affymetrix Proprietary Database   \n",
      "54713    Aug 20, 2010   Control sequence  Affymetrix Proprietary Database   \n",
      "54714    Aug 20, 2010   Control sequence  Affymetrix Proprietary Database   \n",
      "\n",
      "                                      Target Description  \\\n",
      "0      U48705 /FEATURE=mRNA /DEFINITION=HSU48705 Huma...   \n",
      "1      M87338 /FEATURE= /DEFINITION=HUMA1SBU Human re...   \n",
      "2      X51757 /FEATURE=cds /DEFINITION=HSP70B Human h...   \n",
      "3      X69699 /FEATURE= /DEFINITION=HSPAX8A H.sapiens...   \n",
      "4      L36861 /FEATURE=expanded_cds /DEFINITION=HUMGC...   \n",
      "...                                                  ...   \n",
      "54710  B. subtilis /GEN=thrC /DB_XREF=gb:X04603.1 /NO...   \n",
      "54711  B. subtilis /GEN=thrC, thrB /DB_XREF=gb:X04603...   \n",
      "54712  B. subtilis /GEN=trpC, trpF /DB_XREF=gb:K01391...   \n",
      "54713  B. subtilis /GEN=trpE, trpD /DB_XREF=gb:K01391...   \n",
      "54714  B. subtilis /GEN=trpD, trpC /DB_XREF=gb:K01391...   \n",
      "\n",
      "      Representative Public ID                                   Gene Title  \\\n",
      "0                       U48705  discoidin domain receptor tyrosine kinase 1   \n",
      "1                       M87338  replication factor C (activator 1) 2, 40kDa   \n",
      "2                       X51757         heat shock 70kDa protein 6 (HSP70B')   \n",
      "3                       X69699                                 paired box 8   \n",
      "4                       L36861      guanylate cyclase activator 1A (retina)   \n",
      "...                        ...                                          ...   \n",
      "54710              AFFX-ThrX-5                                          NaN   \n",
      "54711              AFFX-ThrX-M                                          NaN   \n",
      "54712             AFFX-TrpnX-3                                          NaN   \n",
      "54713             AFFX-TrpnX-5                                          NaN   \n",
      "54714             AFFX-TrpnX-M                                          NaN   \n",
      "\n",
      "      Gene Symbol ENTREZ_GENE_ID  \\\n",
      "0            DDR1            780   \n",
      "1            RFC2           5982   \n",
      "2           HSPA6           3310   \n",
      "3            PAX8           7849   \n",
      "4          GUCA1A           2978   \n",
      "...           ...            ...   \n",
      "54710         NaN            NaN   \n",
      "54711         NaN            NaN   \n",
      "54712         NaN            NaN   \n",
      "54713         NaN            NaN   \n",
      "54714         NaN            NaN   \n",
      "\n",
      "                                    RefSeq Transcript ID  \\\n",
      "0                  NM_001954 /// NM_013993 /// NM_013994   \n",
      "1                                NM_002914 /// NM_181471   \n",
      "2                                              NM_002155   \n",
      "3      NM_003466 /// NM_013951 /// NM_013952 /// NM_0...   \n",
      "4                                              NM_000409   \n",
      "...                                                  ...   \n",
      "54710                                                NaN   \n",
      "54711                                                NaN   \n",
      "54712                                                NaN   \n",
      "54713                                                NaN   \n",
      "54714                                                NaN   \n",
      "\n",
      "                        Gene Ontology Biological Process  \\\n",
      "0      0001558 // regulation of cell growth // inferr...   \n",
      "1      0006260 // DNA replication // not recorded ///...   \n",
      "2      0006950 // response to stress // inferred from...   \n",
      "3      0001656 // metanephros development // inferred...   \n",
      "4      0007165 // signal transduction // non-traceabl...   \n",
      "...                                                  ...   \n",
      "54710  0006520 // cellular amino acid metabolic proce...   \n",
      "54711  0006520 // cellular amino acid metabolic proce...   \n",
      "54712  0000105 // histidine biosynthetic process // i...   \n",
      "54713  0000105 // histidine biosynthetic process // i...   \n",
      "54714  0000105 // histidine biosynthetic process // i...   \n",
      "\n",
      "                        Gene Ontology Cellular Component  \\\n",
      "0      0005576 // extracellular region // inferred fr...   \n",
      "1      0005634 // nucleus // inferred from electronic...   \n",
      "2                                                    NaN   \n",
      "3      0005634 // nucleus // inferred from electronic...   \n",
      "4      0016020 // membrane // inferred from electroni...   \n",
      "...                                                  ...   \n",
      "54710  0005737 // cytoplasm // inferred from electron...   \n",
      "54711  0005737 // cytoplasm // inferred from electron...   \n",
      "54712                                                NaN   \n",
      "54713                                                NaN   \n",
      "54714                                                NaN   \n",
      "\n",
      "                        Gene Ontology Molecular Function  \n",
      "0      0000166 // nucleotide binding // inferred from...  \n",
      "1      0000166 // nucleotide binding // inferred from...  \n",
      "2      0000166 // nucleotide binding // inferred from...  \n",
      "3      0003677 // DNA binding // inferred from direct...  \n",
      "4      0005509 // calcium ion binding // inferred fro...  \n",
      "...                                                  ...  \n",
      "54710  0000166 // nucleotide binding // inferred from...  \n",
      "54711  0000166 // nucleotide binding // inferred from...  \n",
      "54712  0003824 // catalytic activity // inferred from...  \n",
      "54713  0003824 // catalytic activity // inferred from...  \n",
      "54714  0003824 // catalytic activity // inferred from...  \n",
      "\n",
      "[54715 rows x 16 columns]\n",
      "Index(['ID', 'GB_ACC', 'SPOT_ID', 'Species Scientific Name', 'Annotation Date',\n",
      "       'Sequence Type', 'Sequence Source', 'Target Description',\n",
      "       'Representative Public ID', 'Gene Title', 'Gene Symbol',\n",
      "       'ENTREZ_GENE_ID', 'RefSeq Transcript ID',\n",
      "       'Gene Ontology Biological Process', 'Gene Ontology Cellular Component',\n",
      "       'Gene Ontology Molecular Function'],\n",
      "      dtype='object')\n"
     ]
    }
   ],
   "source": [
    "# print(\"GPL example:\")\n",
    "# for gpl_name, gpl in gse.gpls.items():\n",
    "#     print(\"Name: \", gpl_name)\n",
    "#     print(\"Metadata:\",)\n",
    "#     for key, value in gpl.metadata.items():\n",
    "#         print(\" - %s : %s\" % (key, \", \".join(value)))\n",
    "#     print(\"Table data:\",)\n",
    "#     print(gpl.table) \n",
    "#     print(gpl.table.columns)\n",
    "#     break"
   ]
  },
  {
   "cell_type": "code",
   "execution_count": 71,
   "id": "756a266f",
   "metadata": {
    "scrolled": true
   },
   "outputs": [
    {
     "name": "stdout",
     "output_type": "stream",
     "text": [
      "GSM example:\n",
      "Name:  GSM1100843\n",
      "Name:  GSM1100844\n",
      "Name:  GSM1100845\n",
      "Name:  GSM1100846\n",
      "Name:  GSM1100847\n",
      "Name:  GSM1100848\n",
      "Name:  GSM1100849\n",
      "Name:  GSM1100850\n",
      "Name:  GSM1100851\n",
      "Name:  GSM1100852\n",
      "Name:  GSM1100853\n",
      "Name:  GSM1100854\n",
      "Name:  GSM1100855\n",
      "Name:  GSM1100856\n",
      "Name:  GSM1100857\n",
      "Name:  GSM1100858\n"
     ]
    },
    {
     "name": "stderr",
     "output_type": "stream",
     "text": [
      "/var/folders/_1/dc2yd0kn325bph09grgy33lr0000gn/T/ipykernel_13719/3268267448.py:19: FutureWarning: Passing 'suffixes' which cause duplicate columns {'VALUE_x'} in the result is deprecated and will raise a MergeError in a future version.\n",
      "  df = pd.merge(df, gsm.table, on='ID_REF')\n",
      "/var/folders/_1/dc2yd0kn325bph09grgy33lr0000gn/T/ipykernel_13719/3268267448.py:19: FutureWarning: Passing 'suffixes' which cause duplicate columns {'VALUE_x'} in the result is deprecated and will raise a MergeError in a future version.\n",
      "  df = pd.merge(df, gsm.table, on='ID_REF')\n",
      "/var/folders/_1/dc2yd0kn325bph09grgy33lr0000gn/T/ipykernel_13719/3268267448.py:19: FutureWarning: Passing 'suffixes' which cause duplicate columns {'VALUE_x'} in the result is deprecated and will raise a MergeError in a future version.\n",
      "  df = pd.merge(df, gsm.table, on='ID_REF')\n",
      "/var/folders/_1/dc2yd0kn325bph09grgy33lr0000gn/T/ipykernel_13719/3268267448.py:19: FutureWarning: Passing 'suffixes' which cause duplicate columns {'VALUE_x'} in the result is deprecated and will raise a MergeError in a future version.\n",
      "  df = pd.merge(df, gsm.table, on='ID_REF')\n",
      "/var/folders/_1/dc2yd0kn325bph09grgy33lr0000gn/T/ipykernel_13719/3268267448.py:19: FutureWarning: Passing 'suffixes' which cause duplicate columns {'VALUE_x'} in the result is deprecated and will raise a MergeError in a future version.\n",
      "  df = pd.merge(df, gsm.table, on='ID_REF')\n",
      "/var/folders/_1/dc2yd0kn325bph09grgy33lr0000gn/T/ipykernel_13719/3268267448.py:19: FutureWarning: Passing 'suffixes' which cause duplicate columns {'VALUE_x'} in the result is deprecated and will raise a MergeError in a future version.\n",
      "  df = pd.merge(df, gsm.table, on='ID_REF')\n",
      "/var/folders/_1/dc2yd0kn325bph09grgy33lr0000gn/T/ipykernel_13719/3268267448.py:19: FutureWarning: Passing 'suffixes' which cause duplicate columns {'VALUE_x'} in the result is deprecated and will raise a MergeError in a future version.\n",
      "  df = pd.merge(df, gsm.table, on='ID_REF')\n",
      "/var/folders/_1/dc2yd0kn325bph09grgy33lr0000gn/T/ipykernel_13719/3268267448.py:19: FutureWarning: Passing 'suffixes' which cause duplicate columns {'VALUE_x'} in the result is deprecated and will raise a MergeError in a future version.\n",
      "  df = pd.merge(df, gsm.table, on='ID_REF')\n"
     ]
    },
    {
     "name": "stdout",
     "output_type": "stream",
     "text": [
      "Name:  GSM1100859\n",
      "Name:  GSM1100860\n",
      "Name:  GSM1100861\n",
      "Name:  GSM1100862\n",
      "Name:  GSM1100863\n",
      "Name:  GSM1100864\n",
      "Name:  GSM1100865\n",
      "Name:  GSM1100866\n",
      "Name:  GSM1100867\n",
      "Name:  GSM1100868\n",
      "Name:  GSM1100869\n"
     ]
    },
    {
     "name": "stderr",
     "output_type": "stream",
     "text": [
      "/var/folders/_1/dc2yd0kn325bph09grgy33lr0000gn/T/ipykernel_13719/3268267448.py:19: FutureWarning: Passing 'suffixes' which cause duplicate columns {'VALUE_x'} in the result is deprecated and will raise a MergeError in a future version.\n",
      "  df = pd.merge(df, gsm.table, on='ID_REF')\n",
      "/var/folders/_1/dc2yd0kn325bph09grgy33lr0000gn/T/ipykernel_13719/3268267448.py:19: FutureWarning: Passing 'suffixes' which cause duplicate columns {'VALUE_x'} in the result is deprecated and will raise a MergeError in a future version.\n",
      "  df = pd.merge(df, gsm.table, on='ID_REF')\n",
      "/var/folders/_1/dc2yd0kn325bph09grgy33lr0000gn/T/ipykernel_13719/3268267448.py:19: FutureWarning: Passing 'suffixes' which cause duplicate columns {'VALUE_x'} in the result is deprecated and will raise a MergeError in a future version.\n",
      "  df = pd.merge(df, gsm.table, on='ID_REF')\n",
      "/var/folders/_1/dc2yd0kn325bph09grgy33lr0000gn/T/ipykernel_13719/3268267448.py:19: FutureWarning: Passing 'suffixes' which cause duplicate columns {'VALUE_x'} in the result is deprecated and will raise a MergeError in a future version.\n",
      "  df = pd.merge(df, gsm.table, on='ID_REF')\n",
      "/var/folders/_1/dc2yd0kn325bph09grgy33lr0000gn/T/ipykernel_13719/3268267448.py:19: FutureWarning: Passing 'suffixes' which cause duplicate columns {'VALUE_x'} in the result is deprecated and will raise a MergeError in a future version.\n",
      "  df = pd.merge(df, gsm.table, on='ID_REF')\n"
     ]
    },
    {
     "name": "stdout",
     "output_type": "stream",
     "text": [
      "Name:  GSM1100870\n",
      "Name:  GSM1100871\n",
      "Name:  GSM1100872\n",
      "Name:  GSM1100873\n",
      "Name:  GSM1100874\n",
      "Name:  GSM1100875\n",
      "Name:  GSM1100876\n",
      "Name:  GSM1100877\n",
      "Name:  GSM1100878\n",
      "Name:  GSM1100879\n",
      "Name:  GSM1100880\n"
     ]
    },
    {
     "name": "stderr",
     "output_type": "stream",
     "text": [
      "/var/folders/_1/dc2yd0kn325bph09grgy33lr0000gn/T/ipykernel_13719/3268267448.py:19: FutureWarning: Passing 'suffixes' which cause duplicate columns {'VALUE_x'} in the result is deprecated and will raise a MergeError in a future version.\n",
      "  df = pd.merge(df, gsm.table, on='ID_REF')\n",
      "/var/folders/_1/dc2yd0kn325bph09grgy33lr0000gn/T/ipykernel_13719/3268267448.py:19: FutureWarning: Passing 'suffixes' which cause duplicate columns {'VALUE_x'} in the result is deprecated and will raise a MergeError in a future version.\n",
      "  df = pd.merge(df, gsm.table, on='ID_REF')\n",
      "/var/folders/_1/dc2yd0kn325bph09grgy33lr0000gn/T/ipykernel_13719/3268267448.py:19: FutureWarning: Passing 'suffixes' which cause duplicate columns {'VALUE_x'} in the result is deprecated and will raise a MergeError in a future version.\n",
      "  df = pd.merge(df, gsm.table, on='ID_REF')\n",
      "/var/folders/_1/dc2yd0kn325bph09grgy33lr0000gn/T/ipykernel_13719/3268267448.py:19: FutureWarning: Passing 'suffixes' which cause duplicate columns {'VALUE_x'} in the result is deprecated and will raise a MergeError in a future version.\n",
      "  df = pd.merge(df, gsm.table, on='ID_REF')\n",
      "/var/folders/_1/dc2yd0kn325bph09grgy33lr0000gn/T/ipykernel_13719/3268267448.py:19: FutureWarning: Passing 'suffixes' which cause duplicate columns {'VALUE_x'} in the result is deprecated and will raise a MergeError in a future version.\n",
      "  df = pd.merge(df, gsm.table, on='ID_REF')\n"
     ]
    },
    {
     "name": "stdout",
     "output_type": "stream",
     "text": [
      "Name:  GSM1100881\n",
      "Name:  GSM1100882\n",
      "Name:  GSM1100883\n",
      "Name:  GSM1100884\n",
      "Name:  GSM1100885\n",
      "Name:  GSM1100886\n",
      "Name:  GSM1100887\n",
      "Name:  GSM1100888\n",
      "Name:  GSM1100889\n",
      "Name:  GSM1100890\n"
     ]
    },
    {
     "name": "stderr",
     "output_type": "stream",
     "text": [
      "/var/folders/_1/dc2yd0kn325bph09grgy33lr0000gn/T/ipykernel_13719/3268267448.py:19: FutureWarning: Passing 'suffixes' which cause duplicate columns {'VALUE_x'} in the result is deprecated and will raise a MergeError in a future version.\n",
      "  df = pd.merge(df, gsm.table, on='ID_REF')\n",
      "/var/folders/_1/dc2yd0kn325bph09grgy33lr0000gn/T/ipykernel_13719/3268267448.py:19: FutureWarning: Passing 'suffixes' which cause duplicate columns {'VALUE_x'} in the result is deprecated and will raise a MergeError in a future version.\n",
      "  df = pd.merge(df, gsm.table, on='ID_REF')\n",
      "/var/folders/_1/dc2yd0kn325bph09grgy33lr0000gn/T/ipykernel_13719/3268267448.py:19: FutureWarning: Passing 'suffixes' which cause duplicate columns {'VALUE_x'} in the result is deprecated and will raise a MergeError in a future version.\n",
      "  df = pd.merge(df, gsm.table, on='ID_REF')\n",
      "/var/folders/_1/dc2yd0kn325bph09grgy33lr0000gn/T/ipykernel_13719/3268267448.py:19: FutureWarning: Passing 'suffixes' which cause duplicate columns {'VALUE_x'} in the result is deprecated and will raise a MergeError in a future version.\n",
      "  df = pd.merge(df, gsm.table, on='ID_REF')\n",
      "/var/folders/_1/dc2yd0kn325bph09grgy33lr0000gn/T/ipykernel_13719/3268267448.py:19: FutureWarning: Passing 'suffixes' which cause duplicate columns {'VALUE_x'} in the result is deprecated and will raise a MergeError in a future version.\n",
      "  df = pd.merge(df, gsm.table, on='ID_REF')\n"
     ]
    },
    {
     "name": "stdout",
     "output_type": "stream",
     "text": [
      "Name:  GSM1100891\n",
      "Name:  GSM1100892\n",
      "Name:  GSM1100893\n",
      "Name:  GSM1100894\n",
      "Name:  GSM1100895\n",
      "Name:  GSM1100896\n",
      "Name:  GSM1100897\n",
      "Name:  GSM1100898\n",
      "Name:  GSM1100899\n"
     ]
    },
    {
     "name": "stderr",
     "output_type": "stream",
     "text": [
      "/var/folders/_1/dc2yd0kn325bph09grgy33lr0000gn/T/ipykernel_13719/3268267448.py:19: FutureWarning: Passing 'suffixes' which cause duplicate columns {'VALUE_x'} in the result is deprecated and will raise a MergeError in a future version.\n",
      "  df = pd.merge(df, gsm.table, on='ID_REF')\n",
      "/var/folders/_1/dc2yd0kn325bph09grgy33lr0000gn/T/ipykernel_13719/3268267448.py:19: FutureWarning: Passing 'suffixes' which cause duplicate columns {'VALUE_x'} in the result is deprecated and will raise a MergeError in a future version.\n",
      "  df = pd.merge(df, gsm.table, on='ID_REF')\n",
      "/var/folders/_1/dc2yd0kn325bph09grgy33lr0000gn/T/ipykernel_13719/3268267448.py:19: FutureWarning: Passing 'suffixes' which cause duplicate columns {'VALUE_x'} in the result is deprecated and will raise a MergeError in a future version.\n",
      "  df = pd.merge(df, gsm.table, on='ID_REF')\n",
      "/var/folders/_1/dc2yd0kn325bph09grgy33lr0000gn/T/ipykernel_13719/3268267448.py:19: FutureWarning: Passing 'suffixes' which cause duplicate columns {'VALUE_x'} in the result is deprecated and will raise a MergeError in a future version.\n",
      "  df = pd.merge(df, gsm.table, on='ID_REF')\n"
     ]
    },
    {
     "name": "stdout",
     "output_type": "stream",
     "text": [
      "Name:  GSM1100900\n",
      "Name:  GSM1100901\n",
      "Name:  GSM1100902\n",
      "Name:  GSM1100903\n",
      "Name:  GSM1100904\n",
      "Name:  GSM1100905\n",
      "Name:  GSM1100906\n",
      "Name:  GSM1100907\n"
     ]
    },
    {
     "name": "stderr",
     "output_type": "stream",
     "text": [
      "/var/folders/_1/dc2yd0kn325bph09grgy33lr0000gn/T/ipykernel_13719/3268267448.py:19: FutureWarning: Passing 'suffixes' which cause duplicate columns {'VALUE_x'} in the result is deprecated and will raise a MergeError in a future version.\n",
      "  df = pd.merge(df, gsm.table, on='ID_REF')\n",
      "/var/folders/_1/dc2yd0kn325bph09grgy33lr0000gn/T/ipykernel_13719/3268267448.py:19: FutureWarning: Passing 'suffixes' which cause duplicate columns {'VALUE_x'} in the result is deprecated and will raise a MergeError in a future version.\n",
      "  df = pd.merge(df, gsm.table, on='ID_REF')\n",
      "/var/folders/_1/dc2yd0kn325bph09grgy33lr0000gn/T/ipykernel_13719/3268267448.py:19: FutureWarning: Passing 'suffixes' which cause duplicate columns {'VALUE_x'} in the result is deprecated and will raise a MergeError in a future version.\n",
      "  df = pd.merge(df, gsm.table, on='ID_REF')\n",
      "/var/folders/_1/dc2yd0kn325bph09grgy33lr0000gn/T/ipykernel_13719/3268267448.py:19: FutureWarning: Passing 'suffixes' which cause duplicate columns {'VALUE_x'} in the result is deprecated and will raise a MergeError in a future version.\n",
      "  df = pd.merge(df, gsm.table, on='ID_REF')\n"
     ]
    },
    {
     "name": "stdout",
     "output_type": "stream",
     "text": [
      "Name:  GSM1100908\n",
      "Name:  GSM1100909\n",
      "Name:  GSM1100910\n",
      "Name:  GSM1100911\n",
      "Name:  GSM1100912\n",
      "Name:  GSM1100913\n",
      "Name:  GSM1100914\n",
      "Name:  GSM1100915\n"
     ]
    },
    {
     "name": "stderr",
     "output_type": "stream",
     "text": [
      "/var/folders/_1/dc2yd0kn325bph09grgy33lr0000gn/T/ipykernel_13719/3268267448.py:19: FutureWarning: Passing 'suffixes' which cause duplicate columns {'VALUE_x'} in the result is deprecated and will raise a MergeError in a future version.\n",
      "  df = pd.merge(df, gsm.table, on='ID_REF')\n",
      "/var/folders/_1/dc2yd0kn325bph09grgy33lr0000gn/T/ipykernel_13719/3268267448.py:19: FutureWarning: Passing 'suffixes' which cause duplicate columns {'VALUE_x'} in the result is deprecated and will raise a MergeError in a future version.\n",
      "  df = pd.merge(df, gsm.table, on='ID_REF')\n",
      "/var/folders/_1/dc2yd0kn325bph09grgy33lr0000gn/T/ipykernel_13719/3268267448.py:19: FutureWarning: Passing 'suffixes' which cause duplicate columns {'VALUE_x'} in the result is deprecated and will raise a MergeError in a future version.\n",
      "  df = pd.merge(df, gsm.table, on='ID_REF')\n",
      "/var/folders/_1/dc2yd0kn325bph09grgy33lr0000gn/T/ipykernel_13719/3268267448.py:19: FutureWarning: Passing 'suffixes' which cause duplicate columns {'VALUE_x'} in the result is deprecated and will raise a MergeError in a future version.\n",
      "  df = pd.merge(df, gsm.table, on='ID_REF')\n"
     ]
    },
    {
     "name": "stdout",
     "output_type": "stream",
     "text": [
      "Name:  GSM1100916\n",
      "Name:  GSM1100917\n",
      "Name:  GSM1100918\n",
      "Name:  GSM1100919\n",
      "Name:  GSM1100920\n",
      "Name:  GSM1100921\n",
      "Name:  GSM1100922\n",
      "Name:  GSM1100923\n"
     ]
    },
    {
     "name": "stderr",
     "output_type": "stream",
     "text": [
      "/var/folders/_1/dc2yd0kn325bph09grgy33lr0000gn/T/ipykernel_13719/3268267448.py:19: FutureWarning: Passing 'suffixes' which cause duplicate columns {'VALUE_x'} in the result is deprecated and will raise a MergeError in a future version.\n",
      "  df = pd.merge(df, gsm.table, on='ID_REF')\n",
      "/var/folders/_1/dc2yd0kn325bph09grgy33lr0000gn/T/ipykernel_13719/3268267448.py:19: FutureWarning: Passing 'suffixes' which cause duplicate columns {'VALUE_x'} in the result is deprecated and will raise a MergeError in a future version.\n",
      "  df = pd.merge(df, gsm.table, on='ID_REF')\n",
      "/var/folders/_1/dc2yd0kn325bph09grgy33lr0000gn/T/ipykernel_13719/3268267448.py:19: FutureWarning: Passing 'suffixes' which cause duplicate columns {'VALUE_x'} in the result is deprecated and will raise a MergeError in a future version.\n",
      "  df = pd.merge(df, gsm.table, on='ID_REF')\n",
      "/var/folders/_1/dc2yd0kn325bph09grgy33lr0000gn/T/ipykernel_13719/3268267448.py:19: FutureWarning: Passing 'suffixes' which cause duplicate columns {'VALUE_x'} in the result is deprecated and will raise a MergeError in a future version.\n",
      "  df = pd.merge(df, gsm.table, on='ID_REF')\n"
     ]
    },
    {
     "name": "stdout",
     "output_type": "stream",
     "text": [
      "Name:  GSM1100924\n",
      "Name:  GSM1100925\n",
      "Name:  GSM1100926\n",
      "Name:  GSM1100927\n",
      "Name:  GSM1100928\n",
      "Name:  GSM1100929\n",
      "Name:  GSM1100930\n",
      "Name:  GSM1100931\n"
     ]
    },
    {
     "name": "stderr",
     "output_type": "stream",
     "text": [
      "/var/folders/_1/dc2yd0kn325bph09grgy33lr0000gn/T/ipykernel_13719/3268267448.py:19: FutureWarning: Passing 'suffixes' which cause duplicate columns {'VALUE_x'} in the result is deprecated and will raise a MergeError in a future version.\n",
      "  df = pd.merge(df, gsm.table, on='ID_REF')\n",
      "/var/folders/_1/dc2yd0kn325bph09grgy33lr0000gn/T/ipykernel_13719/3268267448.py:19: FutureWarning: Passing 'suffixes' which cause duplicate columns {'VALUE_x'} in the result is deprecated and will raise a MergeError in a future version.\n",
      "  df = pd.merge(df, gsm.table, on='ID_REF')\n",
      "/var/folders/_1/dc2yd0kn325bph09grgy33lr0000gn/T/ipykernel_13719/3268267448.py:19: FutureWarning: Passing 'suffixes' which cause duplicate columns {'VALUE_x'} in the result is deprecated and will raise a MergeError in a future version.\n",
      "  df = pd.merge(df, gsm.table, on='ID_REF')\n",
      "/var/folders/_1/dc2yd0kn325bph09grgy33lr0000gn/T/ipykernel_13719/3268267448.py:19: FutureWarning: Passing 'suffixes' which cause duplicate columns {'VALUE_x'} in the result is deprecated and will raise a MergeError in a future version.\n",
      "  df = pd.merge(df, gsm.table, on='ID_REF')\n"
     ]
    },
    {
     "name": "stdout",
     "output_type": "stream",
     "text": [
      "Name:  GSM1100932\n",
      "Name:  GSM1100933\n",
      "Name:  GSM1100934\n",
      "Name:  GSM1100935\n",
      "Name:  GSM1100936\n",
      "Name:  GSM1100937\n",
      "Name:  GSM1100938\n"
     ]
    },
    {
     "name": "stderr",
     "output_type": "stream",
     "text": [
      "/var/folders/_1/dc2yd0kn325bph09grgy33lr0000gn/T/ipykernel_13719/3268267448.py:19: FutureWarning: Passing 'suffixes' which cause duplicate columns {'VALUE_x'} in the result is deprecated and will raise a MergeError in a future version.\n",
      "  df = pd.merge(df, gsm.table, on='ID_REF')\n",
      "/var/folders/_1/dc2yd0kn325bph09grgy33lr0000gn/T/ipykernel_13719/3268267448.py:19: FutureWarning: Passing 'suffixes' which cause duplicate columns {'VALUE_x'} in the result is deprecated and will raise a MergeError in a future version.\n",
      "  df = pd.merge(df, gsm.table, on='ID_REF')\n",
      "/var/folders/_1/dc2yd0kn325bph09grgy33lr0000gn/T/ipykernel_13719/3268267448.py:19: FutureWarning: Passing 'suffixes' which cause duplicate columns {'VALUE_x'} in the result is deprecated and will raise a MergeError in a future version.\n",
      "  df = pd.merge(df, gsm.table, on='ID_REF')\n",
      "/var/folders/_1/dc2yd0kn325bph09grgy33lr0000gn/T/ipykernel_13719/3268267448.py:19: FutureWarning: Passing 'suffixes' which cause duplicate columns {'VALUE_x'} in the result is deprecated and will raise a MergeError in a future version.\n",
      "  df = pd.merge(df, gsm.table, on='ID_REF')\n",
      "/var/folders/_1/dc2yd0kn325bph09grgy33lr0000gn/T/ipykernel_13719/3268267448.py:19: FutureWarning: Passing 'suffixes' which cause duplicate columns {'VALUE_x'} in the result is deprecated and will raise a MergeError in a future version.\n",
      "  df = pd.merge(df, gsm.table, on='ID_REF')\n",
      "/var/folders/_1/dc2yd0kn325bph09grgy33lr0000gn/T/ipykernel_13719/3268267448.py:19: FutureWarning: Passing 'suffixes' which cause duplicate columns {'VALUE_x'} in the result is deprecated and will raise a MergeError in a future version.\n",
      "  df = pd.merge(df, gsm.table, on='ID_REF')\n"
     ]
    },
    {
     "name": "stdout",
     "output_type": "stream",
     "text": [
      "Name:  GSM1100939\n",
      "Name:  GSM1100940\n",
      "Name:  GSM1100941\n",
      "Name:  GSM1100942\n",
      "Name:  GSM1100943\n",
      "Name:  GSM1100944\n"
     ]
    },
    {
     "name": "stderr",
     "output_type": "stream",
     "text": [
      "/var/folders/_1/dc2yd0kn325bph09grgy33lr0000gn/T/ipykernel_13719/3268267448.py:19: FutureWarning: Passing 'suffixes' which cause duplicate columns {'VALUE_x'} in the result is deprecated and will raise a MergeError in a future version.\n",
      "  df = pd.merge(df, gsm.table, on='ID_REF')\n",
      "/var/folders/_1/dc2yd0kn325bph09grgy33lr0000gn/T/ipykernel_13719/3268267448.py:19: FutureWarning: Passing 'suffixes' which cause duplicate columns {'VALUE_x'} in the result is deprecated and will raise a MergeError in a future version.\n",
      "  df = pd.merge(df, gsm.table, on='ID_REF')\n",
      "/var/folders/_1/dc2yd0kn325bph09grgy33lr0000gn/T/ipykernel_13719/3268267448.py:19: FutureWarning: Passing 'suffixes' which cause duplicate columns {'VALUE_x'} in the result is deprecated and will raise a MergeError in a future version.\n",
      "  df = pd.merge(df, gsm.table, on='ID_REF')\n"
     ]
    },
    {
     "name": "stdout",
     "output_type": "stream",
     "text": [
      "Name:  GSM1100945\n",
      "Name:  GSM1100946\n",
      "Name:  GSM1100947\n",
      "Name:  GSM1100948\n",
      "Name:  GSM1100949\n",
      "Name:  GSM1100950\n"
     ]
    },
    {
     "name": "stderr",
     "output_type": "stream",
     "text": [
      "/var/folders/_1/dc2yd0kn325bph09grgy33lr0000gn/T/ipykernel_13719/3268267448.py:19: FutureWarning: Passing 'suffixes' which cause duplicate columns {'VALUE_x'} in the result is deprecated and will raise a MergeError in a future version.\n",
      "  df = pd.merge(df, gsm.table, on='ID_REF')\n",
      "/var/folders/_1/dc2yd0kn325bph09grgy33lr0000gn/T/ipykernel_13719/3268267448.py:19: FutureWarning: Passing 'suffixes' which cause duplicate columns {'VALUE_x'} in the result is deprecated and will raise a MergeError in a future version.\n",
      "  df = pd.merge(df, gsm.table, on='ID_REF')\n",
      "/var/folders/_1/dc2yd0kn325bph09grgy33lr0000gn/T/ipykernel_13719/3268267448.py:19: FutureWarning: Passing 'suffixes' which cause duplicate columns {'VALUE_x'} in the result is deprecated and will raise a MergeError in a future version.\n",
      "  df = pd.merge(df, gsm.table, on='ID_REF')\n"
     ]
    },
    {
     "name": "stdout",
     "output_type": "stream",
     "text": [
      "Name:  GSM1100951\n",
      "Name:  GSM1100952\n",
      "Name:  GSM1100953\n",
      "Name:  GSM1100954\n",
      "Name:  GSM1100955\n",
      "Name:  GSM1100956\n"
     ]
    },
    {
     "name": "stderr",
     "output_type": "stream",
     "text": [
      "/var/folders/_1/dc2yd0kn325bph09grgy33lr0000gn/T/ipykernel_13719/3268267448.py:19: FutureWarning: Passing 'suffixes' which cause duplicate columns {'VALUE_x'} in the result is deprecated and will raise a MergeError in a future version.\n",
      "  df = pd.merge(df, gsm.table, on='ID_REF')\n",
      "/var/folders/_1/dc2yd0kn325bph09grgy33lr0000gn/T/ipykernel_13719/3268267448.py:19: FutureWarning: Passing 'suffixes' which cause duplicate columns {'VALUE_x'} in the result is deprecated and will raise a MergeError in a future version.\n",
      "  df = pd.merge(df, gsm.table, on='ID_REF')\n",
      "/var/folders/_1/dc2yd0kn325bph09grgy33lr0000gn/T/ipykernel_13719/3268267448.py:19: FutureWarning: Passing 'suffixes' which cause duplicate columns {'VALUE_x'} in the result is deprecated and will raise a MergeError in a future version.\n",
      "  df = pd.merge(df, gsm.table, on='ID_REF')\n"
     ]
    },
    {
     "name": "stdout",
     "output_type": "stream",
     "text": [
      "Name:  GSM1100957\n",
      "Name:  GSM1100958\n",
      "Name:  GSM1100959\n",
      "Name:  GSM1100960\n",
      "Name:  GSM1100961\n",
      "Name:  GSM1100962\n",
      "Name:  GSM1100963\n",
      "Name:  GSM1100964\n",
      "Name:  GSM1100965\n",
      "Name:  GSM1100966\n",
      "Name:  GSM1100967\n"
     ]
    },
    {
     "name": "stderr",
     "output_type": "stream",
     "text": [
      "/var/folders/_1/dc2yd0kn325bph09grgy33lr0000gn/T/ipykernel_13719/3268267448.py:19: FutureWarning: Passing 'suffixes' which cause duplicate columns {'VALUE_x'} in the result is deprecated and will raise a MergeError in a future version.\n",
      "  df = pd.merge(df, gsm.table, on='ID_REF')\n",
      "/var/folders/_1/dc2yd0kn325bph09grgy33lr0000gn/T/ipykernel_13719/3268267448.py:19: FutureWarning: Passing 'suffixes' which cause duplicate columns {'VALUE_x'} in the result is deprecated and will raise a MergeError in a future version.\n",
      "  df = pd.merge(df, gsm.table, on='ID_REF')\n",
      "/var/folders/_1/dc2yd0kn325bph09grgy33lr0000gn/T/ipykernel_13719/3268267448.py:19: FutureWarning: Passing 'suffixes' which cause duplicate columns {'VALUE_x'} in the result is deprecated and will raise a MergeError in a future version.\n",
      "  df = pd.merge(df, gsm.table, on='ID_REF')\n"
     ]
    },
    {
     "name": "stdout",
     "output_type": "stream",
     "text": [
      "Name:  GSM1100968\n",
      "Name:  GSM1100969\n",
      "Name:  GSM1100970\n",
      "Name:  GSM1100971\n",
      "Name:  GSM1100972\n"
     ]
    },
    {
     "name": "stderr",
     "output_type": "stream",
     "text": [
      "/var/folders/_1/dc2yd0kn325bph09grgy33lr0000gn/T/ipykernel_13719/3268267448.py:19: FutureWarning: Passing 'suffixes' which cause duplicate columns {'VALUE_x'} in the result is deprecated and will raise a MergeError in a future version.\n",
      "  df = pd.merge(df, gsm.table, on='ID_REF')\n",
      "/var/folders/_1/dc2yd0kn325bph09grgy33lr0000gn/T/ipykernel_13719/3268267448.py:19: FutureWarning: Passing 'suffixes' which cause duplicate columns {'VALUE_x'} in the result is deprecated and will raise a MergeError in a future version.\n",
      "  df = pd.merge(df, gsm.table, on='ID_REF')\n",
      "/var/folders/_1/dc2yd0kn325bph09grgy33lr0000gn/T/ipykernel_13719/3268267448.py:19: FutureWarning: Passing 'suffixes' which cause duplicate columns {'VALUE_x'} in the result is deprecated and will raise a MergeError in a future version.\n",
      "  df = pd.merge(df, gsm.table, on='ID_REF')\n"
     ]
    },
    {
     "name": "stdout",
     "output_type": "stream",
     "text": [
      "Name:  GSM1100973\n",
      "Name:  GSM1100974\n",
      "Name:  GSM1100975\n",
      "Name:  GSM1100976\n",
      "Name:  GSM1100977\n"
     ]
    },
    {
     "name": "stderr",
     "output_type": "stream",
     "text": [
      "/var/folders/_1/dc2yd0kn325bph09grgy33lr0000gn/T/ipykernel_13719/3268267448.py:19: FutureWarning: Passing 'suffixes' which cause duplicate columns {'VALUE_x'} in the result is deprecated and will raise a MergeError in a future version.\n",
      "  df = pd.merge(df, gsm.table, on='ID_REF')\n",
      "/var/folders/_1/dc2yd0kn325bph09grgy33lr0000gn/T/ipykernel_13719/3268267448.py:19: FutureWarning: Passing 'suffixes' which cause duplicate columns {'VALUE_x'} in the result is deprecated and will raise a MergeError in a future version.\n",
      "  df = pd.merge(df, gsm.table, on='ID_REF')\n",
      "/var/folders/_1/dc2yd0kn325bph09grgy33lr0000gn/T/ipykernel_13719/3268267448.py:19: FutureWarning: Passing 'suffixes' which cause duplicate columns {'VALUE_x'} in the result is deprecated and will raise a MergeError in a future version.\n",
      "  df = pd.merge(df, gsm.table, on='ID_REF')\n"
     ]
    },
    {
     "name": "stdout",
     "output_type": "stream",
     "text": [
      "Name:  GSM1100978\n",
      "Name:  GSM1100979\n",
      "Name:  GSM1100980\n",
      "Name:  GSM1100981\n",
      "Name:  GSM1100982\n"
     ]
    },
    {
     "name": "stderr",
     "output_type": "stream",
     "text": [
      "/var/folders/_1/dc2yd0kn325bph09grgy33lr0000gn/T/ipykernel_13719/3268267448.py:19: FutureWarning: Passing 'suffixes' which cause duplicate columns {'VALUE_x'} in the result is deprecated and will raise a MergeError in a future version.\n",
      "  df = pd.merge(df, gsm.table, on='ID_REF')\n",
      "/var/folders/_1/dc2yd0kn325bph09grgy33lr0000gn/T/ipykernel_13719/3268267448.py:19: FutureWarning: Passing 'suffixes' which cause duplicate columns {'VALUE_x'} in the result is deprecated and will raise a MergeError in a future version.\n",
      "  df = pd.merge(df, gsm.table, on='ID_REF')\n",
      "/var/folders/_1/dc2yd0kn325bph09grgy33lr0000gn/T/ipykernel_13719/3268267448.py:19: FutureWarning: Passing 'suffixes' which cause duplicate columns {'VALUE_x'} in the result is deprecated and will raise a MergeError in a future version.\n",
      "  df = pd.merge(df, gsm.table, on='ID_REF')\n"
     ]
    },
    {
     "name": "stdout",
     "output_type": "stream",
     "text": [
      "Name:  GSM1100983\n",
      "Name:  GSM1100984\n",
      "Name:  GSM1100985\n",
      "Name:  GSM1100986\n",
      "Name:  GSM1100987\n"
     ]
    },
    {
     "name": "stderr",
     "output_type": "stream",
     "text": [
      "/var/folders/_1/dc2yd0kn325bph09grgy33lr0000gn/T/ipykernel_13719/3268267448.py:19: FutureWarning: Passing 'suffixes' which cause duplicate columns {'VALUE_x'} in the result is deprecated and will raise a MergeError in a future version.\n",
      "  df = pd.merge(df, gsm.table, on='ID_REF')\n",
      "/var/folders/_1/dc2yd0kn325bph09grgy33lr0000gn/T/ipykernel_13719/3268267448.py:19: FutureWarning: Passing 'suffixes' which cause duplicate columns {'VALUE_x'} in the result is deprecated and will raise a MergeError in a future version.\n",
      "  df = pd.merge(df, gsm.table, on='ID_REF')\n",
      "/var/folders/_1/dc2yd0kn325bph09grgy33lr0000gn/T/ipykernel_13719/3268267448.py:19: FutureWarning: Passing 'suffixes' which cause duplicate columns {'VALUE_x'} in the result is deprecated and will raise a MergeError in a future version.\n",
      "  df = pd.merge(df, gsm.table, on='ID_REF')\n"
     ]
    },
    {
     "name": "stdout",
     "output_type": "stream",
     "text": [
      "Name:  GSM1100988\n",
      "Name:  GSM1100989\n",
      "Name:  GSM1100990\n",
      "Name:  GSM1100991\n",
      "Name:  GSM1100992\n"
     ]
    },
    {
     "name": "stderr",
     "output_type": "stream",
     "text": [
      "/var/folders/_1/dc2yd0kn325bph09grgy33lr0000gn/T/ipykernel_13719/3268267448.py:19: FutureWarning: Passing 'suffixes' which cause duplicate columns {'VALUE_x'} in the result is deprecated and will raise a MergeError in a future version.\n",
      "  df = pd.merge(df, gsm.table, on='ID_REF')\n",
      "/var/folders/_1/dc2yd0kn325bph09grgy33lr0000gn/T/ipykernel_13719/3268267448.py:19: FutureWarning: Passing 'suffixes' which cause duplicate columns {'VALUE_x'} in the result is deprecated and will raise a MergeError in a future version.\n",
      "  df = pd.merge(df, gsm.table, on='ID_REF')\n",
      "/var/folders/_1/dc2yd0kn325bph09grgy33lr0000gn/T/ipykernel_13719/3268267448.py:19: FutureWarning: Passing 'suffixes' which cause duplicate columns {'VALUE_x'} in the result is deprecated and will raise a MergeError in a future version.\n",
      "  df = pd.merge(df, gsm.table, on='ID_REF')\n"
     ]
    },
    {
     "name": "stdout",
     "output_type": "stream",
     "text": [
      "Name:  GSM1100993\n",
      "Name:  GSM1100994\n",
      "Name:  GSM1100995\n",
      "Name:  GSM1100996\n",
      "Name:  GSM1100997\n",
      "Name:  GSM1100998\n",
      "Name:  GSM1100999\n",
      "Name:  GSM1101000\n",
      "Name:  GSM1101001\n"
     ]
    },
    {
     "name": "stderr",
     "output_type": "stream",
     "text": [
      "/var/folders/_1/dc2yd0kn325bph09grgy33lr0000gn/T/ipykernel_13719/3268267448.py:19: FutureWarning: Passing 'suffixes' which cause duplicate columns {'VALUE_x'} in the result is deprecated and will raise a MergeError in a future version.\n",
      "  df = pd.merge(df, gsm.table, on='ID_REF')\n",
      "/var/folders/_1/dc2yd0kn325bph09grgy33lr0000gn/T/ipykernel_13719/3268267448.py:19: FutureWarning: Passing 'suffixes' which cause duplicate columns {'VALUE_x'} in the result is deprecated and will raise a MergeError in a future version.\n",
      "  df = pd.merge(df, gsm.table, on='ID_REF')\n",
      "/var/folders/_1/dc2yd0kn325bph09grgy33lr0000gn/T/ipykernel_13719/3268267448.py:19: FutureWarning: Passing 'suffixes' which cause duplicate columns {'VALUE_x'} in the result is deprecated and will raise a MergeError in a future version.\n",
      "  df = pd.merge(df, gsm.table, on='ID_REF')\n"
     ]
    },
    {
     "name": "stdout",
     "output_type": "stream",
     "text": [
      "Name:  GSM1101002\n",
      "Name:  GSM1101003\n",
      "Name:  GSM1101004\n",
      "Name:  GSM1101005\n",
      "Name:  GSM1101006\n"
     ]
    },
    {
     "name": "stderr",
     "output_type": "stream",
     "text": [
      "/var/folders/_1/dc2yd0kn325bph09grgy33lr0000gn/T/ipykernel_13719/3268267448.py:19: FutureWarning: Passing 'suffixes' which cause duplicate columns {'VALUE_x'} in the result is deprecated and will raise a MergeError in a future version.\n",
      "  df = pd.merge(df, gsm.table, on='ID_REF')\n",
      "/var/folders/_1/dc2yd0kn325bph09grgy33lr0000gn/T/ipykernel_13719/3268267448.py:19: FutureWarning: Passing 'suffixes' which cause duplicate columns {'VALUE_x'} in the result is deprecated and will raise a MergeError in a future version.\n",
      "  df = pd.merge(df, gsm.table, on='ID_REF')\n"
     ]
    },
    {
     "name": "stdout",
     "output_type": "stream",
     "text": [
      "Name:  GSM1101007\n",
      "Name:  GSM1101008\n",
      "Name:  GSM1101009\n",
      "Name:  GSM1101010\n"
     ]
    },
    {
     "name": "stderr",
     "output_type": "stream",
     "text": [
      "/var/folders/_1/dc2yd0kn325bph09grgy33lr0000gn/T/ipykernel_13719/3268267448.py:19: FutureWarning: Passing 'suffixes' which cause duplicate columns {'VALUE_x'} in the result is deprecated and will raise a MergeError in a future version.\n",
      "  df = pd.merge(df, gsm.table, on='ID_REF')\n",
      "/var/folders/_1/dc2yd0kn325bph09grgy33lr0000gn/T/ipykernel_13719/3268267448.py:19: FutureWarning: Passing 'suffixes' which cause duplicate columns {'VALUE_x'} in the result is deprecated and will raise a MergeError in a future version.\n",
      "  df = pd.merge(df, gsm.table, on='ID_REF')\n"
     ]
    },
    {
     "name": "stdout",
     "output_type": "stream",
     "text": [
      "Name:  GSM1101011\n",
      "Name:  GSM1101012\n",
      "Name:  GSM1101013\n",
      "Name:  GSM1101014\n"
     ]
    },
    {
     "name": "stderr",
     "output_type": "stream",
     "text": [
      "/var/folders/_1/dc2yd0kn325bph09grgy33lr0000gn/T/ipykernel_13719/3268267448.py:19: FutureWarning: Passing 'suffixes' which cause duplicate columns {'VALUE_x'} in the result is deprecated and will raise a MergeError in a future version.\n",
      "  df = pd.merge(df, gsm.table, on='ID_REF')\n",
      "/var/folders/_1/dc2yd0kn325bph09grgy33lr0000gn/T/ipykernel_13719/3268267448.py:19: FutureWarning: Passing 'suffixes' which cause duplicate columns {'VALUE_x'} in the result is deprecated and will raise a MergeError in a future version.\n",
      "  df = pd.merge(df, gsm.table, on='ID_REF')\n",
      "/var/folders/_1/dc2yd0kn325bph09grgy33lr0000gn/T/ipykernel_13719/3268267448.py:19: FutureWarning: Passing 'suffixes' which cause duplicate columns {'VALUE_x'} in the result is deprecated and will raise a MergeError in a future version.\n",
      "  df = pd.merge(df, gsm.table, on='ID_REF')\n"
     ]
    },
    {
     "name": "stdout",
     "output_type": "stream",
     "text": [
      "Name:  GSM1101015\n",
      "Name:  GSM1101016\n",
      "Name:  GSM1101017\n",
      "Name:  GSM1101018\n",
      "Name:  GSM1101019\n"
     ]
    },
    {
     "name": "stderr",
     "output_type": "stream",
     "text": [
      "/var/folders/_1/dc2yd0kn325bph09grgy33lr0000gn/T/ipykernel_13719/3268267448.py:19: FutureWarning: Passing 'suffixes' which cause duplicate columns {'VALUE_x'} in the result is deprecated and will raise a MergeError in a future version.\n",
      "  df = pd.merge(df, gsm.table, on='ID_REF')\n",
      "/var/folders/_1/dc2yd0kn325bph09grgy33lr0000gn/T/ipykernel_13719/3268267448.py:19: FutureWarning: Passing 'suffixes' which cause duplicate columns {'VALUE_x'} in the result is deprecated and will raise a MergeError in a future version.\n",
      "  df = pd.merge(df, gsm.table, on='ID_REF')\n"
     ]
    },
    {
     "name": "stdout",
     "output_type": "stream",
     "text": [
      "Name:  GSM1101020\n",
      "Name:  GSM1101021\n",
      "Name:  GSM1101022\n",
      "Name:  GSM1101023\n"
     ]
    },
    {
     "name": "stderr",
     "output_type": "stream",
     "text": [
      "/var/folders/_1/dc2yd0kn325bph09grgy33lr0000gn/T/ipykernel_13719/3268267448.py:19: FutureWarning: Passing 'suffixes' which cause duplicate columns {'VALUE_x'} in the result is deprecated and will raise a MergeError in a future version.\n",
      "  df = pd.merge(df, gsm.table, on='ID_REF')\n",
      "/var/folders/_1/dc2yd0kn325bph09grgy33lr0000gn/T/ipykernel_13719/3268267448.py:19: FutureWarning: Passing 'suffixes' which cause duplicate columns {'VALUE_x'} in the result is deprecated and will raise a MergeError in a future version.\n",
      "  df = pd.merge(df, gsm.table, on='ID_REF')\n"
     ]
    },
    {
     "name": "stdout",
     "output_type": "stream",
     "text": [
      "Name:  GSM1101024\n",
      "Name:  GSM1101025\n",
      "Name:  GSM1101026\n",
      "Name:  GSM1101027\n"
     ]
    },
    {
     "name": "stderr",
     "output_type": "stream",
     "text": [
      "/var/folders/_1/dc2yd0kn325bph09grgy33lr0000gn/T/ipykernel_13719/3268267448.py:19: FutureWarning: Passing 'suffixes' which cause duplicate columns {'VALUE_x'} in the result is deprecated and will raise a MergeError in a future version.\n",
      "  df = pd.merge(df, gsm.table, on='ID_REF')\n",
      "/var/folders/_1/dc2yd0kn325bph09grgy33lr0000gn/T/ipykernel_13719/3268267448.py:19: FutureWarning: Passing 'suffixes' which cause duplicate columns {'VALUE_x'} in the result is deprecated and will raise a MergeError in a future version.\n",
      "  df = pd.merge(df, gsm.table, on='ID_REF')\n"
     ]
    },
    {
     "name": "stdout",
     "output_type": "stream",
     "text": [
      "Name:  GSM1101028\n",
      "Name:  GSM1101029\n",
      "Name:  GSM1101030\n",
      "Name:  GSM1101031\n"
     ]
    },
    {
     "name": "stderr",
     "output_type": "stream",
     "text": [
      "/var/folders/_1/dc2yd0kn325bph09grgy33lr0000gn/T/ipykernel_13719/3268267448.py:19: FutureWarning: Passing 'suffixes' which cause duplicate columns {'VALUE_x'} in the result is deprecated and will raise a MergeError in a future version.\n",
      "  df = pd.merge(df, gsm.table, on='ID_REF')\n",
      "/var/folders/_1/dc2yd0kn325bph09grgy33lr0000gn/T/ipykernel_13719/3268267448.py:19: FutureWarning: Passing 'suffixes' which cause duplicate columns {'VALUE_x'} in the result is deprecated and will raise a MergeError in a future version.\n",
      "  df = pd.merge(df, gsm.table, on='ID_REF')\n"
     ]
    },
    {
     "name": "stdout",
     "output_type": "stream",
     "text": [
      "Name:  GSM1101032\n",
      "Name:  GSM1101033\n",
      "Name:  GSM1101034\n"
     ]
    },
    {
     "name": "stderr",
     "output_type": "stream",
     "text": [
      "/var/folders/_1/dc2yd0kn325bph09grgy33lr0000gn/T/ipykernel_13719/3268267448.py:19: FutureWarning: Passing 'suffixes' which cause duplicate columns {'VALUE_x'} in the result is deprecated and will raise a MergeError in a future version.\n",
      "  df = pd.merge(df, gsm.table, on='ID_REF')\n",
      "/var/folders/_1/dc2yd0kn325bph09grgy33lr0000gn/T/ipykernel_13719/3268267448.py:19: FutureWarning: Passing 'suffixes' which cause duplicate columns {'VALUE_x'} in the result is deprecated and will raise a MergeError in a future version.\n",
      "  df = pd.merge(df, gsm.table, on='ID_REF')\n"
     ]
    },
    {
     "name": "stdout",
     "output_type": "stream",
     "text": [
      "Name:  GSM1101035\n",
      "Name:  GSM1101036\n",
      "Name:  GSM1101037\n",
      "Name:  GSM1101038\n"
     ]
    },
    {
     "name": "stderr",
     "output_type": "stream",
     "text": [
      "/var/folders/_1/dc2yd0kn325bph09grgy33lr0000gn/T/ipykernel_13719/3268267448.py:19: FutureWarning: Passing 'suffixes' which cause duplicate columns {'VALUE_x'} in the result is deprecated and will raise a MergeError in a future version.\n",
      "  df = pd.merge(df, gsm.table, on='ID_REF')\n",
      "/var/folders/_1/dc2yd0kn325bph09grgy33lr0000gn/T/ipykernel_13719/3268267448.py:19: FutureWarning: Passing 'suffixes' which cause duplicate columns {'VALUE_x'} in the result is deprecated and will raise a MergeError in a future version.\n",
      "  df = pd.merge(df, gsm.table, on='ID_REF')\n",
      "/var/folders/_1/dc2yd0kn325bph09grgy33lr0000gn/T/ipykernel_13719/3268267448.py:19: FutureWarning: Passing 'suffixes' which cause duplicate columns {'VALUE_x'} in the result is deprecated and will raise a MergeError in a future version.\n",
      "  df = pd.merge(df, gsm.table, on='ID_REF')\n"
     ]
    },
    {
     "name": "stdout",
     "output_type": "stream",
     "text": [
      "Name:  GSM1101039\n",
      "Name:  GSM1101040\n",
      "Name:  GSM1101041\n",
      "Name:  GSM1101042\n",
      "Name:  GSM1101043\n",
      "Name:  GSM1101044\n",
      "Name:  GSM1101045\n",
      "Name:  GSM1101046\n",
      "Name:  GSM1101047\n"
     ]
    },
    {
     "name": "stderr",
     "output_type": "stream",
     "text": [
      "/var/folders/_1/dc2yd0kn325bph09grgy33lr0000gn/T/ipykernel_13719/3268267448.py:19: FutureWarning: Passing 'suffixes' which cause duplicate columns {'VALUE_x'} in the result is deprecated and will raise a MergeError in a future version.\n",
      "  df = pd.merge(df, gsm.table, on='ID_REF')\n",
      "/var/folders/_1/dc2yd0kn325bph09grgy33lr0000gn/T/ipykernel_13719/3268267448.py:19: FutureWarning: Passing 'suffixes' which cause duplicate columns {'VALUE_x'} in the result is deprecated and will raise a MergeError in a future version.\n",
      "  df = pd.merge(df, gsm.table, on='ID_REF')\n"
     ]
    },
    {
     "name": "stdout",
     "output_type": "stream",
     "text": [
      "Name:  GSM1101048\n",
      "Name:  GSM1101049\n",
      "Name:  GSM1101050\n",
      "Name:  GSM1101051\n"
     ]
    },
    {
     "name": "stderr",
     "output_type": "stream",
     "text": [
      "/var/folders/_1/dc2yd0kn325bph09grgy33lr0000gn/T/ipykernel_13719/3268267448.py:19: FutureWarning: Passing 'suffixes' which cause duplicate columns {'VALUE_x'} in the result is deprecated and will raise a MergeError in a future version.\n",
      "  df = pd.merge(df, gsm.table, on='ID_REF')\n",
      "/var/folders/_1/dc2yd0kn325bph09grgy33lr0000gn/T/ipykernel_13719/3268267448.py:19: FutureWarning: Passing 'suffixes' which cause duplicate columns {'VALUE_x'} in the result is deprecated and will raise a MergeError in a future version.\n",
      "  df = pd.merge(df, gsm.table, on='ID_REF')\n"
     ]
    },
    {
     "name": "stdout",
     "output_type": "stream",
     "text": [
      "Name:  GSM1101052\n",
      "Name:  GSM1101053\n",
      "Name:  GSM1101054\n"
     ]
    },
    {
     "name": "stderr",
     "output_type": "stream",
     "text": [
      "/var/folders/_1/dc2yd0kn325bph09grgy33lr0000gn/T/ipykernel_13719/3268267448.py:19: FutureWarning: Passing 'suffixes' which cause duplicate columns {'VALUE_x'} in the result is deprecated and will raise a MergeError in a future version.\n",
      "  df = pd.merge(df, gsm.table, on='ID_REF')\n",
      "/var/folders/_1/dc2yd0kn325bph09grgy33lr0000gn/T/ipykernel_13719/3268267448.py:19: FutureWarning: Passing 'suffixes' which cause duplicate columns {'VALUE_x'} in the result is deprecated and will raise a MergeError in a future version.\n",
      "  df = pd.merge(df, gsm.table, on='ID_REF')\n"
     ]
    },
    {
     "name": "stdout",
     "output_type": "stream",
     "text": [
      "Name:  GSM1101055\n",
      "Name:  GSM1101056\n",
      "Name:  GSM1101057\n"
     ]
    },
    {
     "name": "stderr",
     "output_type": "stream",
     "text": [
      "/var/folders/_1/dc2yd0kn325bph09grgy33lr0000gn/T/ipykernel_13719/3268267448.py:19: FutureWarning: Passing 'suffixes' which cause duplicate columns {'VALUE_x'} in the result is deprecated and will raise a MergeError in a future version.\n",
      "  df = pd.merge(df, gsm.table, on='ID_REF')\n",
      "/var/folders/_1/dc2yd0kn325bph09grgy33lr0000gn/T/ipykernel_13719/3268267448.py:19: FutureWarning: Passing 'suffixes' which cause duplicate columns {'VALUE_x'} in the result is deprecated and will raise a MergeError in a future version.\n",
      "  df = pd.merge(df, gsm.table, on='ID_REF')\n"
     ]
    },
    {
     "name": "stdout",
     "output_type": "stream",
     "text": [
      "Name:  GSM1101058\n",
      "Name:  GSM1101059\n",
      "Name:  GSM1101060\n"
     ]
    },
    {
     "name": "stderr",
     "output_type": "stream",
     "text": [
      "/var/folders/_1/dc2yd0kn325bph09grgy33lr0000gn/T/ipykernel_13719/3268267448.py:19: FutureWarning: Passing 'suffixes' which cause duplicate columns {'VALUE_x'} in the result is deprecated and will raise a MergeError in a future version.\n",
      "  df = pd.merge(df, gsm.table, on='ID_REF')\n",
      "/var/folders/_1/dc2yd0kn325bph09grgy33lr0000gn/T/ipykernel_13719/3268267448.py:19: FutureWarning: Passing 'suffixes' which cause duplicate columns {'VALUE_x'} in the result is deprecated and will raise a MergeError in a future version.\n",
      "  df = pd.merge(df, gsm.table, on='ID_REF')\n"
     ]
    },
    {
     "name": "stdout",
     "output_type": "stream",
     "text": [
      "Name:  GSM1101061\n",
      "Name:  GSM1101062\n",
      "Name:  GSM1101063\n",
      "Name:  GSM1101064\n",
      "Name:  GSM1101065\n",
      "Name:  GSM1101066\n"
     ]
    },
    {
     "name": "stderr",
     "output_type": "stream",
     "text": [
      "/var/folders/_1/dc2yd0kn325bph09grgy33lr0000gn/T/ipykernel_13719/3268267448.py:19: FutureWarning: Passing 'suffixes' which cause duplicate columns {'VALUE_x'} in the result is deprecated and will raise a MergeError in a future version.\n",
      "  df = pd.merge(df, gsm.table, on='ID_REF')\n",
      "/var/folders/_1/dc2yd0kn325bph09grgy33lr0000gn/T/ipykernel_13719/3268267448.py:19: FutureWarning: Passing 'suffixes' which cause duplicate columns {'VALUE_x'} in the result is deprecated and will raise a MergeError in a future version.\n",
      "  df = pd.merge(df, gsm.table, on='ID_REF')\n"
     ]
    },
    {
     "name": "stdout",
     "output_type": "stream",
     "text": [
      "Name:  GSM1101067\n",
      "Name:  GSM1101068\n",
      "Name:  GSM1101069\n"
     ]
    },
    {
     "name": "stderr",
     "output_type": "stream",
     "text": [
      "/var/folders/_1/dc2yd0kn325bph09grgy33lr0000gn/T/ipykernel_13719/3268267448.py:19: FutureWarning: Passing 'suffixes' which cause duplicate columns {'VALUE_x'} in the result is deprecated and will raise a MergeError in a future version.\n",
      "  df = pd.merge(df, gsm.table, on='ID_REF')\n",
      "/var/folders/_1/dc2yd0kn325bph09grgy33lr0000gn/T/ipykernel_13719/3268267448.py:19: FutureWarning: Passing 'suffixes' which cause duplicate columns {'VALUE_x'} in the result is deprecated and will raise a MergeError in a future version.\n",
      "  df = pd.merge(df, gsm.table, on='ID_REF')\n"
     ]
    },
    {
     "name": "stdout",
     "output_type": "stream",
     "text": [
      "Name:  GSM1101070\n",
      "Name:  GSM1101071\n",
      "Name:  GSM1101072\n"
     ]
    },
    {
     "name": "stderr",
     "output_type": "stream",
     "text": [
      "/var/folders/_1/dc2yd0kn325bph09grgy33lr0000gn/T/ipykernel_13719/3268267448.py:19: FutureWarning: Passing 'suffixes' which cause duplicate columns {'VALUE_x'} in the result is deprecated and will raise a MergeError in a future version.\n",
      "  df = pd.merge(df, gsm.table, on='ID_REF')\n",
      "/var/folders/_1/dc2yd0kn325bph09grgy33lr0000gn/T/ipykernel_13719/3268267448.py:19: FutureWarning: Passing 'suffixes' which cause duplicate columns {'VALUE_x'} in the result is deprecated and will raise a MergeError in a future version.\n",
      "  df = pd.merge(df, gsm.table, on='ID_REF')\n"
     ]
    },
    {
     "name": "stdout",
     "output_type": "stream",
     "text": [
      "Name:  GSM1101073\n",
      "Name:  GSM1101074\n",
      "Name:  GSM1101075\n",
      "Name:  GSM1101076\n",
      "Name:  GSM1101077\n",
      "Name:  GSM1101078\n",
      "Name:  GSM1101079\n"
     ]
    },
    {
     "name": "stderr",
     "output_type": "stream",
     "text": [
      "/var/folders/_1/dc2yd0kn325bph09grgy33lr0000gn/T/ipykernel_13719/3268267448.py:19: FutureWarning: Passing 'suffixes' which cause duplicate columns {'VALUE_x'} in the result is deprecated and will raise a MergeError in a future version.\n",
      "  df = pd.merge(df, gsm.table, on='ID_REF')\n",
      "/var/folders/_1/dc2yd0kn325bph09grgy33lr0000gn/T/ipykernel_13719/3268267448.py:19: FutureWarning: Passing 'suffixes' which cause duplicate columns {'VALUE_x'} in the result is deprecated and will raise a MergeError in a future version.\n",
      "  df = pd.merge(df, gsm.table, on='ID_REF')\n"
     ]
    },
    {
     "name": "stdout",
     "output_type": "stream",
     "text": [
      "Name:  GSM1101080\n",
      "Name:  GSM1101081\n",
      "Name:  GSM1101082\n",
      "Name:  GSM1101083\n"
     ]
    },
    {
     "name": "stderr",
     "output_type": "stream",
     "text": [
      "/var/folders/_1/dc2yd0kn325bph09grgy33lr0000gn/T/ipykernel_13719/3268267448.py:19: FutureWarning: Passing 'suffixes' which cause duplicate columns {'VALUE_x'} in the result is deprecated and will raise a MergeError in a future version.\n",
      "  df = pd.merge(df, gsm.table, on='ID_REF')\n",
      "/var/folders/_1/dc2yd0kn325bph09grgy33lr0000gn/T/ipykernel_13719/3268267448.py:19: FutureWarning: Passing 'suffixes' which cause duplicate columns {'VALUE_x'} in the result is deprecated and will raise a MergeError in a future version.\n",
      "  df = pd.merge(df, gsm.table, on='ID_REF')\n"
     ]
    },
    {
     "name": "stdout",
     "output_type": "stream",
     "text": [
      "Name:  GSM1101084\n",
      "Name:  GSM1101085\n",
      "Name:  GSM1101086\n",
      "Name:  GSM1101087\n"
     ]
    },
    {
     "name": "stderr",
     "output_type": "stream",
     "text": [
      "/var/folders/_1/dc2yd0kn325bph09grgy33lr0000gn/T/ipykernel_13719/3268267448.py:19: FutureWarning: Passing 'suffixes' which cause duplicate columns {'VALUE_x'} in the result is deprecated and will raise a MergeError in a future version.\n",
      "  df = pd.merge(df, gsm.table, on='ID_REF')\n",
      "/var/folders/_1/dc2yd0kn325bph09grgy33lr0000gn/T/ipykernel_13719/3268267448.py:19: FutureWarning: Passing 'suffixes' which cause duplicate columns {'VALUE_x'} in the result is deprecated and will raise a MergeError in a future version.\n",
      "  df = pd.merge(df, gsm.table, on='ID_REF')\n"
     ]
    },
    {
     "name": "stdout",
     "output_type": "stream",
     "text": [
      "Name:  GSM1101088\n",
      "Name:  GSM1101089\n",
      "Name:  GSM1101090\n",
      "Name:  GSM1101091\n"
     ]
    },
    {
     "name": "stderr",
     "output_type": "stream",
     "text": [
      "/var/folders/_1/dc2yd0kn325bph09grgy33lr0000gn/T/ipykernel_13719/3268267448.py:19: FutureWarning: Passing 'suffixes' which cause duplicate columns {'VALUE_x'} in the result is deprecated and will raise a MergeError in a future version.\n",
      "  df = pd.merge(df, gsm.table, on='ID_REF')\n",
      "/var/folders/_1/dc2yd0kn325bph09grgy33lr0000gn/T/ipykernel_13719/3268267448.py:19: FutureWarning: Passing 'suffixes' which cause duplicate columns {'VALUE_x'} in the result is deprecated and will raise a MergeError in a future version.\n",
      "  df = pd.merge(df, gsm.table, on='ID_REF')\n"
     ]
    },
    {
     "name": "stdout",
     "output_type": "stream",
     "text": [
      "Name:  GSM1101092\n",
      "Name:  GSM1101093\n",
      "Name:  GSM1101094\n",
      "Name:  GSM1101095\n"
     ]
    },
    {
     "name": "stderr",
     "output_type": "stream",
     "text": [
      "/var/folders/_1/dc2yd0kn325bph09grgy33lr0000gn/T/ipykernel_13719/3268267448.py:19: FutureWarning: Passing 'suffixes' which cause duplicate columns {'VALUE_x'} in the result is deprecated and will raise a MergeError in a future version.\n",
      "  df = pd.merge(df, gsm.table, on='ID_REF')\n",
      "/var/folders/_1/dc2yd0kn325bph09grgy33lr0000gn/T/ipykernel_13719/3268267448.py:19: FutureWarning: Passing 'suffixes' which cause duplicate columns {'VALUE_x'} in the result is deprecated and will raise a MergeError in a future version.\n",
      "  df = pd.merge(df, gsm.table, on='ID_REF')\n"
     ]
    },
    {
     "name": "stdout",
     "output_type": "stream",
     "text": [
      "Name:  GSM1101096\n",
      "Name:  GSM1101097\n",
      "Name:  GSM1101098\n",
      "Name:  GSM1101099\n"
     ]
    },
    {
     "name": "stderr",
     "output_type": "stream",
     "text": [
      "/var/folders/_1/dc2yd0kn325bph09grgy33lr0000gn/T/ipykernel_13719/3268267448.py:19: FutureWarning: Passing 'suffixes' which cause duplicate columns {'VALUE_x'} in the result is deprecated and will raise a MergeError in a future version.\n",
      "  df = pd.merge(df, gsm.table, on='ID_REF')\n",
      "/var/folders/_1/dc2yd0kn325bph09grgy33lr0000gn/T/ipykernel_13719/3268267448.py:19: FutureWarning: Passing 'suffixes' which cause duplicate columns {'VALUE_x'} in the result is deprecated and will raise a MergeError in a future version.\n",
      "  df = pd.merge(df, gsm.table, on='ID_REF')\n"
     ]
    },
    {
     "name": "stdout",
     "output_type": "stream",
     "text": [
      "Name:  GSM1101100\n",
      "Name:  GSM1101101\n",
      "Name:  GSM1101102\n",
      "Name:  GSM1101103\n"
     ]
    },
    {
     "name": "stderr",
     "output_type": "stream",
     "text": [
      "/var/folders/_1/dc2yd0kn325bph09grgy33lr0000gn/T/ipykernel_13719/3268267448.py:19: FutureWarning: Passing 'suffixes' which cause duplicate columns {'VALUE_x'} in the result is deprecated and will raise a MergeError in a future version.\n",
      "  df = pd.merge(df, gsm.table, on='ID_REF')\n",
      "/var/folders/_1/dc2yd0kn325bph09grgy33lr0000gn/T/ipykernel_13719/3268267448.py:19: FutureWarning: Passing 'suffixes' which cause duplicate columns {'VALUE_x'} in the result is deprecated and will raise a MergeError in a future version.\n",
      "  df = pd.merge(df, gsm.table, on='ID_REF')\n"
     ]
    },
    {
     "name": "stdout",
     "output_type": "stream",
     "text": [
      "Name:  GSM1101104\n",
      "Name:  GSM1101105\n",
      "Name:  GSM1101106\n",
      "Name:  GSM1101107\n"
     ]
    },
    {
     "name": "stderr",
     "output_type": "stream",
     "text": [
      "/var/folders/_1/dc2yd0kn325bph09grgy33lr0000gn/T/ipykernel_13719/3268267448.py:19: FutureWarning: Passing 'suffixes' which cause duplicate columns {'VALUE_x'} in the result is deprecated and will raise a MergeError in a future version.\n",
      "  df = pd.merge(df, gsm.table, on='ID_REF')\n",
      "/var/folders/_1/dc2yd0kn325bph09grgy33lr0000gn/T/ipykernel_13719/3268267448.py:19: FutureWarning: Passing 'suffixes' which cause duplicate columns {'VALUE_x'} in the result is deprecated and will raise a MergeError in a future version.\n",
      "  df = pd.merge(df, gsm.table, on='ID_REF')\n"
     ]
    },
    {
     "name": "stdout",
     "output_type": "stream",
     "text": [
      "Name:  GSM1101108\n",
      "Name:  GSM1101109\n",
      "Name:  GSM1101110\n",
      "Name:  GSM1101111\n"
     ]
    },
    {
     "name": "stderr",
     "output_type": "stream",
     "text": [
      "/var/folders/_1/dc2yd0kn325bph09grgy33lr0000gn/T/ipykernel_13719/3268267448.py:19: FutureWarning: Passing 'suffixes' which cause duplicate columns {'VALUE_x'} in the result is deprecated and will raise a MergeError in a future version.\n",
      "  df = pd.merge(df, gsm.table, on='ID_REF')\n",
      "/var/folders/_1/dc2yd0kn325bph09grgy33lr0000gn/T/ipykernel_13719/3268267448.py:19: FutureWarning: Passing 'suffixes' which cause duplicate columns {'VALUE_x'} in the result is deprecated and will raise a MergeError in a future version.\n",
      "  df = pd.merge(df, gsm.table, on='ID_REF')\n"
     ]
    },
    {
     "name": "stdout",
     "output_type": "stream",
     "text": [
      "Name:  GSM1101112\n",
      "Name:  GSM1101113\n",
      "Name:  GSM1101114\n"
     ]
    },
    {
     "name": "stderr",
     "output_type": "stream",
     "text": [
      "/var/folders/_1/dc2yd0kn325bph09grgy33lr0000gn/T/ipykernel_13719/3268267448.py:19: FutureWarning: Passing 'suffixes' which cause duplicate columns {'VALUE_x'} in the result is deprecated and will raise a MergeError in a future version.\n",
      "  df = pd.merge(df, gsm.table, on='ID_REF')\n",
      "/var/folders/_1/dc2yd0kn325bph09grgy33lr0000gn/T/ipykernel_13719/3268267448.py:19: FutureWarning: Passing 'suffixes' which cause duplicate columns {'VALUE_x'} in the result is deprecated and will raise a MergeError in a future version.\n",
      "  df = pd.merge(df, gsm.table, on='ID_REF')\n"
     ]
    },
    {
     "name": "stdout",
     "output_type": "stream",
     "text": [
      "Name:  GSM1101115\n",
      "Name:  GSM1101116\n",
      "Name:  GSM1101117\n"
     ]
    },
    {
     "name": "stderr",
     "output_type": "stream",
     "text": [
      "/var/folders/_1/dc2yd0kn325bph09grgy33lr0000gn/T/ipykernel_13719/3268267448.py:19: FutureWarning: Passing 'suffixes' which cause duplicate columns {'VALUE_x'} in the result is deprecated and will raise a MergeError in a future version.\n",
      "  df = pd.merge(df, gsm.table, on='ID_REF')\n",
      "/var/folders/_1/dc2yd0kn325bph09grgy33lr0000gn/T/ipykernel_13719/3268267448.py:19: FutureWarning: Passing 'suffixes' which cause duplicate columns {'VALUE_x'} in the result is deprecated and will raise a MergeError in a future version.\n",
      "  df = pd.merge(df, gsm.table, on='ID_REF')\n"
     ]
    },
    {
     "name": "stdout",
     "output_type": "stream",
     "text": [
      "Name:  GSM1101118\n",
      "Name:  GSM1101119\n",
      "Name:  GSM1101120\n"
     ]
    },
    {
     "name": "stderr",
     "output_type": "stream",
     "text": [
      "/var/folders/_1/dc2yd0kn325bph09grgy33lr0000gn/T/ipykernel_13719/3268267448.py:19: FutureWarning: Passing 'suffixes' which cause duplicate columns {'VALUE_x'} in the result is deprecated and will raise a MergeError in a future version.\n",
      "  df = pd.merge(df, gsm.table, on='ID_REF')\n",
      "/var/folders/_1/dc2yd0kn325bph09grgy33lr0000gn/T/ipykernel_13719/3268267448.py:19: FutureWarning: Passing 'suffixes' which cause duplicate columns {'VALUE_x'} in the result is deprecated and will raise a MergeError in a future version.\n",
      "  df = pd.merge(df, gsm.table, on='ID_REF')\n"
     ]
    },
    {
     "name": "stdout",
     "output_type": "stream",
     "text": [
      "Name:  GSM1101121\n",
      "Name:  GSM1101122\n",
      "Name:  GSM1101123\n",
      "Name:  GSM1101124\n"
     ]
    },
    {
     "name": "stderr",
     "output_type": "stream",
     "text": [
      "/var/folders/_1/dc2yd0kn325bph09grgy33lr0000gn/T/ipykernel_13719/3268267448.py:19: FutureWarning: Passing 'suffixes' which cause duplicate columns {'VALUE_x'} in the result is deprecated and will raise a MergeError in a future version.\n",
      "  df = pd.merge(df, gsm.table, on='ID_REF')\n",
      "/var/folders/_1/dc2yd0kn325bph09grgy33lr0000gn/T/ipykernel_13719/3268267448.py:19: FutureWarning: Passing 'suffixes' which cause duplicate columns {'VALUE_x'} in the result is deprecated and will raise a MergeError in a future version.\n",
      "  df = pd.merge(df, gsm.table, on='ID_REF')\n"
     ]
    },
    {
     "name": "stdout",
     "output_type": "stream",
     "text": [
      "Name:  GSM1101125\n",
      "Name:  GSM1101126\n",
      "Name:  GSM1101127\n",
      "Name:  GSM1101128\n",
      "Name:  GSM1101129\n",
      "Name:  GSM1101130\n"
     ]
    },
    {
     "name": "stderr",
     "output_type": "stream",
     "text": [
      "/var/folders/_1/dc2yd0kn325bph09grgy33lr0000gn/T/ipykernel_13719/3268267448.py:19: FutureWarning: Passing 'suffixes' which cause duplicate columns {'VALUE_x'} in the result is deprecated and will raise a MergeError in a future version.\n",
      "  df = pd.merge(df, gsm.table, on='ID_REF')\n",
      "/var/folders/_1/dc2yd0kn325bph09grgy33lr0000gn/T/ipykernel_13719/3268267448.py:19: FutureWarning: Passing 'suffixes' which cause duplicate columns {'VALUE_x'} in the result is deprecated and will raise a MergeError in a future version.\n",
      "  df = pd.merge(df, gsm.table, on='ID_REF')\n"
     ]
    },
    {
     "name": "stdout",
     "output_type": "stream",
     "text": [
      "Name:  GSM1101131\n",
      "Name:  GSM1101132\n",
      "Name:  GSM1101133\n"
     ]
    },
    {
     "name": "stderr",
     "output_type": "stream",
     "text": [
      "/var/folders/_1/dc2yd0kn325bph09grgy33lr0000gn/T/ipykernel_13719/3268267448.py:19: FutureWarning: Passing 'suffixes' which cause duplicate columns {'VALUE_x'} in the result is deprecated and will raise a MergeError in a future version.\n",
      "  df = pd.merge(df, gsm.table, on='ID_REF')\n",
      "/var/folders/_1/dc2yd0kn325bph09grgy33lr0000gn/T/ipykernel_13719/3268267448.py:19: FutureWarning: Passing 'suffixes' which cause duplicate columns {'VALUE_x'} in the result is deprecated and will raise a MergeError in a future version.\n",
      "  df = pd.merge(df, gsm.table, on='ID_REF')\n"
     ]
    },
    {
     "name": "stdout",
     "output_type": "stream",
     "text": [
      "Name:  GSM1101134\n",
      "Name:  GSM1101135\n",
      "Name:  GSM1101136\n"
     ]
    },
    {
     "name": "stderr",
     "output_type": "stream",
     "text": [
      "/var/folders/_1/dc2yd0kn325bph09grgy33lr0000gn/T/ipykernel_13719/3268267448.py:19: FutureWarning: Passing 'suffixes' which cause duplicate columns {'VALUE_x'} in the result is deprecated and will raise a MergeError in a future version.\n",
      "  df = pd.merge(df, gsm.table, on='ID_REF')\n",
      "/var/folders/_1/dc2yd0kn325bph09grgy33lr0000gn/T/ipykernel_13719/3268267448.py:19: FutureWarning: Passing 'suffixes' which cause duplicate columns {'VALUE_x'} in the result is deprecated and will raise a MergeError in a future version.\n",
      "  df = pd.merge(df, gsm.table, on='ID_REF')\n"
     ]
    },
    {
     "name": "stdout",
     "output_type": "stream",
     "text": [
      "Name:  GSM1101137\n",
      "Name:  GSM1101138\n",
      "Name:  GSM1101139\n",
      "Name:  GSM1101140\n",
      "Name:  GSM1101141\n",
      "Name:  GSM1101142\n"
     ]
    },
    {
     "name": "stderr",
     "output_type": "stream",
     "text": [
      "/var/folders/_1/dc2yd0kn325bph09grgy33lr0000gn/T/ipykernel_13719/3268267448.py:19: FutureWarning: Passing 'suffixes' which cause duplicate columns {'VALUE_x'} in the result is deprecated and will raise a MergeError in a future version.\n",
      "  df = pd.merge(df, gsm.table, on='ID_REF')\n",
      "/var/folders/_1/dc2yd0kn325bph09grgy33lr0000gn/T/ipykernel_13719/3268267448.py:19: FutureWarning: Passing 'suffixes' which cause duplicate columns {'VALUE_x'} in the result is deprecated and will raise a MergeError in a future version.\n",
      "  df = pd.merge(df, gsm.table, on='ID_REF')\n"
     ]
    },
    {
     "name": "stdout",
     "output_type": "stream",
     "text": [
      "Name:  GSM1101143\n",
      "Name:  GSM1101144\n",
      "Name:  GSM1101145\n"
     ]
    },
    {
     "name": "stderr",
     "output_type": "stream",
     "text": [
      "/var/folders/_1/dc2yd0kn325bph09grgy33lr0000gn/T/ipykernel_13719/3268267448.py:19: FutureWarning: Passing 'suffixes' which cause duplicate columns {'VALUE_x'} in the result is deprecated and will raise a MergeError in a future version.\n",
      "  df = pd.merge(df, gsm.table, on='ID_REF')\n",
      "/var/folders/_1/dc2yd0kn325bph09grgy33lr0000gn/T/ipykernel_13719/3268267448.py:19: FutureWarning: Passing 'suffixes' which cause duplicate columns {'VALUE_x'} in the result is deprecated and will raise a MergeError in a future version.\n",
      "  df = pd.merge(df, gsm.table, on='ID_REF')\n"
     ]
    },
    {
     "name": "stdout",
     "output_type": "stream",
     "text": [
      "Name:  GSM1101146\n",
      "Name:  GSM1101147\n",
      "Name:  GSM1101148\n"
     ]
    },
    {
     "name": "stderr",
     "output_type": "stream",
     "text": [
      "/var/folders/_1/dc2yd0kn325bph09grgy33lr0000gn/T/ipykernel_13719/3268267448.py:19: FutureWarning: Passing 'suffixes' which cause duplicate columns {'VALUE_x'} in the result is deprecated and will raise a MergeError in a future version.\n",
      "  df = pd.merge(df, gsm.table, on='ID_REF')\n",
      "/var/folders/_1/dc2yd0kn325bph09grgy33lr0000gn/T/ipykernel_13719/3268267448.py:19: FutureWarning: Passing 'suffixes' which cause duplicate columns {'VALUE_x'} in the result is deprecated and will raise a MergeError in a future version.\n",
      "  df = pd.merge(df, gsm.table, on='ID_REF')\n"
     ]
    },
    {
     "name": "stdout",
     "output_type": "stream",
     "text": [
      "Name:  GSM1101149\n",
      "Name:  GSM1101150\n",
      "Name:  GSM1101151\n",
      "Name:  GSM1101152\n",
      "Name:  GSM1101153\n",
      "Name:  GSM1101154\n"
     ]
    },
    {
     "name": "stderr",
     "output_type": "stream",
     "text": [
      "/var/folders/_1/dc2yd0kn325bph09grgy33lr0000gn/T/ipykernel_13719/3268267448.py:19: FutureWarning: Passing 'suffixes' which cause duplicate columns {'VALUE_x'} in the result is deprecated and will raise a MergeError in a future version.\n",
      "  df = pd.merge(df, gsm.table, on='ID_REF')\n",
      "/var/folders/_1/dc2yd0kn325bph09grgy33lr0000gn/T/ipykernel_13719/3268267448.py:19: FutureWarning: Passing 'suffixes' which cause duplicate columns {'VALUE_x'} in the result is deprecated and will raise a MergeError in a future version.\n",
      "  df = pd.merge(df, gsm.table, on='ID_REF')\n"
     ]
    },
    {
     "name": "stdout",
     "output_type": "stream",
     "text": [
      "Name:  GSM1101155\n",
      "Name:  GSM1101156\n",
      "Name:  GSM1101157\n"
     ]
    },
    {
     "name": "stderr",
     "output_type": "stream",
     "text": [
      "/var/folders/_1/dc2yd0kn325bph09grgy33lr0000gn/T/ipykernel_13719/3268267448.py:19: FutureWarning: Passing 'suffixes' which cause duplicate columns {'VALUE_x'} in the result is deprecated and will raise a MergeError in a future version.\n",
      "  df = pd.merge(df, gsm.table, on='ID_REF')\n",
      "/var/folders/_1/dc2yd0kn325bph09grgy33lr0000gn/T/ipykernel_13719/3268267448.py:19: FutureWarning: Passing 'suffixes' which cause duplicate columns {'VALUE_x'} in the result is deprecated and will raise a MergeError in a future version.\n",
      "  df = pd.merge(df, gsm.table, on='ID_REF')\n"
     ]
    },
    {
     "name": "stdout",
     "output_type": "stream",
     "text": [
      "Name:  GSM1101158\n",
      "Name:  GSM1101159\n",
      "Name:  GSM1101160\n"
     ]
    },
    {
     "name": "stderr",
     "output_type": "stream",
     "text": [
      "/var/folders/_1/dc2yd0kn325bph09grgy33lr0000gn/T/ipykernel_13719/3268267448.py:19: FutureWarning: Passing 'suffixes' which cause duplicate columns {'VALUE_x'} in the result is deprecated and will raise a MergeError in a future version.\n",
      "  df = pd.merge(df, gsm.table, on='ID_REF')\n",
      "/var/folders/_1/dc2yd0kn325bph09grgy33lr0000gn/T/ipykernel_13719/3268267448.py:19: FutureWarning: Passing 'suffixes' which cause duplicate columns {'VALUE_x'} in the result is deprecated and will raise a MergeError in a future version.\n",
      "  df = pd.merge(df, gsm.table, on='ID_REF')\n"
     ]
    },
    {
     "name": "stdout",
     "output_type": "stream",
     "text": [
      "Name:  GSM1101161\n",
      "Name:  GSM1101162\n",
      "Name:  GSM1101163\n",
      "Name:  GSM1101164\n",
      "Name:  GSM1101165\n",
      "Name:  GSM1101166\n"
     ]
    },
    {
     "name": "stderr",
     "output_type": "stream",
     "text": [
      "/var/folders/_1/dc2yd0kn325bph09grgy33lr0000gn/T/ipykernel_13719/3268267448.py:19: FutureWarning: Passing 'suffixes' which cause duplicate columns {'VALUE_x'} in the result is deprecated and will raise a MergeError in a future version.\n",
      "  df = pd.merge(df, gsm.table, on='ID_REF')\n",
      "/var/folders/_1/dc2yd0kn325bph09grgy33lr0000gn/T/ipykernel_13719/3268267448.py:19: FutureWarning: Passing 'suffixes' which cause duplicate columns {'VALUE_x'} in the result is deprecated and will raise a MergeError in a future version.\n",
      "  df = pd.merge(df, gsm.table, on='ID_REF')\n"
     ]
    },
    {
     "name": "stdout",
     "output_type": "stream",
     "text": [
      "Name:  GSM1101167\n",
      "Name:  GSM1101168\n",
      "Name:  GSM1101169\n"
     ]
    },
    {
     "name": "stderr",
     "output_type": "stream",
     "text": [
      "/var/folders/_1/dc2yd0kn325bph09grgy33lr0000gn/T/ipykernel_13719/3268267448.py:19: FutureWarning: Passing 'suffixes' which cause duplicate columns {'VALUE_x'} in the result is deprecated and will raise a MergeError in a future version.\n",
      "  df = pd.merge(df, gsm.table, on='ID_REF')\n",
      "/var/folders/_1/dc2yd0kn325bph09grgy33lr0000gn/T/ipykernel_13719/3268267448.py:19: FutureWarning: Passing 'suffixes' which cause duplicate columns {'VALUE_x'} in the result is deprecated and will raise a MergeError in a future version.\n",
      "  df = pd.merge(df, gsm.table, on='ID_REF')\n"
     ]
    },
    {
     "name": "stdout",
     "output_type": "stream",
     "text": [
      "Name:  GSM1101170\n",
      "Name:  GSM1101171\n",
      "Name:  GSM1101172\n"
     ]
    },
    {
     "name": "stderr",
     "output_type": "stream",
     "text": [
      "/var/folders/_1/dc2yd0kn325bph09grgy33lr0000gn/T/ipykernel_13719/3268267448.py:19: FutureWarning: Passing 'suffixes' which cause duplicate columns {'VALUE_x'} in the result is deprecated and will raise a MergeError in a future version.\n",
      "  df = pd.merge(df, gsm.table, on='ID_REF')\n",
      "/var/folders/_1/dc2yd0kn325bph09grgy33lr0000gn/T/ipykernel_13719/3268267448.py:19: FutureWarning: Passing 'suffixes' which cause duplicate columns {'VALUE_x'} in the result is deprecated and will raise a MergeError in a future version.\n",
      "  df = pd.merge(df, gsm.table, on='ID_REF')\n"
     ]
    },
    {
     "name": "stdout",
     "output_type": "stream",
     "text": [
      "Name:  GSM1101173\n",
      "Name:  GSM1101174\n",
      "Name:  GSM1101175\n",
      "Name:  GSM1101176\n",
      "Name:  GSM1101177\n",
      "Name:  GSM1101178\n"
     ]
    },
    {
     "name": "stderr",
     "output_type": "stream",
     "text": [
      "/var/folders/_1/dc2yd0kn325bph09grgy33lr0000gn/T/ipykernel_13719/3268267448.py:19: FutureWarning: Passing 'suffixes' which cause duplicate columns {'VALUE_x'} in the result is deprecated and will raise a MergeError in a future version.\n",
      "  df = pd.merge(df, gsm.table, on='ID_REF')\n",
      "/var/folders/_1/dc2yd0kn325bph09grgy33lr0000gn/T/ipykernel_13719/3268267448.py:19: FutureWarning: Passing 'suffixes' which cause duplicate columns {'VALUE_x'} in the result is deprecated and will raise a MergeError in a future version.\n",
      "  df = pd.merge(df, gsm.table, on='ID_REF')\n"
     ]
    },
    {
     "name": "stdout",
     "output_type": "stream",
     "text": [
      "Name:  GSM1101179\n",
      "Name:  GSM1101180\n",
      "Name:  GSM1101181\n"
     ]
    },
    {
     "name": "stderr",
     "output_type": "stream",
     "text": [
      "/var/folders/_1/dc2yd0kn325bph09grgy33lr0000gn/T/ipykernel_13719/3268267448.py:19: FutureWarning: Passing 'suffixes' which cause duplicate columns {'VALUE_x'} in the result is deprecated and will raise a MergeError in a future version.\n",
      "  df = pd.merge(df, gsm.table, on='ID_REF')\n",
      "/var/folders/_1/dc2yd0kn325bph09grgy33lr0000gn/T/ipykernel_13719/3268267448.py:19: FutureWarning: Passing 'suffixes' which cause duplicate columns {'VALUE_x'} in the result is deprecated and will raise a MergeError in a future version.\n",
      "  df = pd.merge(df, gsm.table, on='ID_REF')\n"
     ]
    },
    {
     "name": "stdout",
     "output_type": "stream",
     "text": [
      "Name:  GSM1101182\n",
      "Name:  GSM1101183\n",
      "Name:  GSM1101184\n"
     ]
    },
    {
     "name": "stderr",
     "output_type": "stream",
     "text": [
      "/var/folders/_1/dc2yd0kn325bph09grgy33lr0000gn/T/ipykernel_13719/3268267448.py:19: FutureWarning: Passing 'suffixes' which cause duplicate columns {'VALUE_x'} in the result is deprecated and will raise a MergeError in a future version.\n",
      "  df = pd.merge(df, gsm.table, on='ID_REF')\n",
      "/var/folders/_1/dc2yd0kn325bph09grgy33lr0000gn/T/ipykernel_13719/3268267448.py:19: FutureWarning: Passing 'suffixes' which cause duplicate columns {'VALUE_x'} in the result is deprecated and will raise a MergeError in a future version.\n",
      "  df = pd.merge(df, gsm.table, on='ID_REF')\n"
     ]
    },
    {
     "name": "stdout",
     "output_type": "stream",
     "text": [
      "Name:  GSM1101185\n",
      "Name:  GSM1101186\n",
      "Name:  GSM1101187\n",
      "Name:  GSM1101188\n",
      "Name:  GSM1101189\n",
      "Name:  GSM1101190\n"
     ]
    },
    {
     "name": "stderr",
     "output_type": "stream",
     "text": [
      "/var/folders/_1/dc2yd0kn325bph09grgy33lr0000gn/T/ipykernel_13719/3268267448.py:19: FutureWarning: Passing 'suffixes' which cause duplicate columns {'VALUE_x'} in the result is deprecated and will raise a MergeError in a future version.\n",
      "  df = pd.merge(df, gsm.table, on='ID_REF')\n",
      "/var/folders/_1/dc2yd0kn325bph09grgy33lr0000gn/T/ipykernel_13719/3268267448.py:19: FutureWarning: Passing 'suffixes' which cause duplicate columns {'VALUE_x'} in the result is deprecated and will raise a MergeError in a future version.\n",
      "  df = pd.merge(df, gsm.table, on='ID_REF')\n"
     ]
    },
    {
     "name": "stdout",
     "output_type": "stream",
     "text": [
      "Name:  GSM1101191\n",
      "Name:  GSM1101192\n",
      "Name:  GSM1101193\n"
     ]
    },
    {
     "name": "stderr",
     "output_type": "stream",
     "text": [
      "/var/folders/_1/dc2yd0kn325bph09grgy33lr0000gn/T/ipykernel_13719/3268267448.py:19: FutureWarning: Passing 'suffixes' which cause duplicate columns {'VALUE_x'} in the result is deprecated and will raise a MergeError in a future version.\n",
      "  df = pd.merge(df, gsm.table, on='ID_REF')\n",
      "/var/folders/_1/dc2yd0kn325bph09grgy33lr0000gn/T/ipykernel_13719/3268267448.py:19: FutureWarning: Passing 'suffixes' which cause duplicate columns {'VALUE_x'} in the result is deprecated and will raise a MergeError in a future version.\n",
      "  df = pd.merge(df, gsm.table, on='ID_REF')\n"
     ]
    },
    {
     "name": "stdout",
     "output_type": "stream",
     "text": [
      "Name:  GSM1101194\n",
      "Name:  GSM1101195\n",
      "Name:  GSM1101196\n"
     ]
    },
    {
     "name": "stderr",
     "output_type": "stream",
     "text": [
      "/var/folders/_1/dc2yd0kn325bph09grgy33lr0000gn/T/ipykernel_13719/3268267448.py:19: FutureWarning: Passing 'suffixes' which cause duplicate columns {'VALUE_x'} in the result is deprecated and will raise a MergeError in a future version.\n",
      "  df = pd.merge(df, gsm.table, on='ID_REF')\n",
      "/var/folders/_1/dc2yd0kn325bph09grgy33lr0000gn/T/ipykernel_13719/3268267448.py:19: FutureWarning: Passing 'suffixes' which cause duplicate columns {'VALUE_x'} in the result is deprecated and will raise a MergeError in a future version.\n",
      "  df = pd.merge(df, gsm.table, on='ID_REF')\n"
     ]
    },
    {
     "name": "stdout",
     "output_type": "stream",
     "text": [
      "Name:  GSM1101197\n",
      "Name:  GSM1101198\n",
      "Name:  GSM1101199\n",
      "Name:  GSM1101200\n",
      "Name:  GSM1101201\n",
      "Name:  GSM1101202\n"
     ]
    },
    {
     "name": "stderr",
     "output_type": "stream",
     "text": [
      "/var/folders/_1/dc2yd0kn325bph09grgy33lr0000gn/T/ipykernel_13719/3268267448.py:19: FutureWarning: Passing 'suffixes' which cause duplicate columns {'VALUE_x'} in the result is deprecated and will raise a MergeError in a future version.\n",
      "  df = pd.merge(df, gsm.table, on='ID_REF')\n",
      "/var/folders/_1/dc2yd0kn325bph09grgy33lr0000gn/T/ipykernel_13719/3268267448.py:19: FutureWarning: Passing 'suffixes' which cause duplicate columns {'VALUE_x'} in the result is deprecated and will raise a MergeError in a future version.\n",
      "  df = pd.merge(df, gsm.table, on='ID_REF')\n"
     ]
    },
    {
     "name": "stdout",
     "output_type": "stream",
     "text": [
      "Name:  GSM1101203\n",
      "Name:  GSM1101204\n",
      "Name:  GSM1101205\n"
     ]
    },
    {
     "name": "stderr",
     "output_type": "stream",
     "text": [
      "/var/folders/_1/dc2yd0kn325bph09grgy33lr0000gn/T/ipykernel_13719/3268267448.py:19: FutureWarning: Passing 'suffixes' which cause duplicate columns {'VALUE_x'} in the result is deprecated and will raise a MergeError in a future version.\n",
      "  df = pd.merge(df, gsm.table, on='ID_REF')\n",
      "/var/folders/_1/dc2yd0kn325bph09grgy33lr0000gn/T/ipykernel_13719/3268267448.py:19: FutureWarning: Passing 'suffixes' which cause duplicate columns {'VALUE_x'} in the result is deprecated and will raise a MergeError in a future version.\n",
      "  df = pd.merge(df, gsm.table, on='ID_REF')\n"
     ]
    },
    {
     "name": "stdout",
     "output_type": "stream",
     "text": [
      "Name:  GSM1101206\n",
      "Name:  GSM1101207\n",
      "Name:  GSM1101208\n"
     ]
    },
    {
     "name": "stderr",
     "output_type": "stream",
     "text": [
      "/var/folders/_1/dc2yd0kn325bph09grgy33lr0000gn/T/ipykernel_13719/3268267448.py:19: FutureWarning: Passing 'suffixes' which cause duplicate columns {'VALUE_x'} in the result is deprecated and will raise a MergeError in a future version.\n",
      "  df = pd.merge(df, gsm.table, on='ID_REF')\n",
      "/var/folders/_1/dc2yd0kn325bph09grgy33lr0000gn/T/ipykernel_13719/3268267448.py:19: FutureWarning: Passing 'suffixes' which cause duplicate columns {'VALUE_x'} in the result is deprecated and will raise a MergeError in a future version.\n",
      "  df = pd.merge(df, gsm.table, on='ID_REF')\n"
     ]
    },
    {
     "name": "stdout",
     "output_type": "stream",
     "text": [
      "Name:  GSM1101209\n",
      "Name:  GSM1101210\n",
      "Name:  GSM1101211\n",
      "Name:  GSM1101212\n",
      "Name:  GSM1101213\n",
      "Name:  GSM1101214\n"
     ]
    },
    {
     "name": "stderr",
     "output_type": "stream",
     "text": [
      "/var/folders/_1/dc2yd0kn325bph09grgy33lr0000gn/T/ipykernel_13719/3268267448.py:19: FutureWarning: Passing 'suffixes' which cause duplicate columns {'VALUE_x'} in the result is deprecated and will raise a MergeError in a future version.\n",
      "  df = pd.merge(df, gsm.table, on='ID_REF')\n",
      "/var/folders/_1/dc2yd0kn325bph09grgy33lr0000gn/T/ipykernel_13719/3268267448.py:19: FutureWarning: Passing 'suffixes' which cause duplicate columns {'VALUE_x'} in the result is deprecated and will raise a MergeError in a future version.\n",
      "  df = pd.merge(df, gsm.table, on='ID_REF')\n"
     ]
    },
    {
     "name": "stdout",
     "output_type": "stream",
     "text": [
      "Name:  GSM1101215\n",
      "Name:  GSM1101216\n",
      "Name:  GSM1101217\n"
     ]
    },
    {
     "name": "stderr",
     "output_type": "stream",
     "text": [
      "/var/folders/_1/dc2yd0kn325bph09grgy33lr0000gn/T/ipykernel_13719/3268267448.py:19: FutureWarning: Passing 'suffixes' which cause duplicate columns {'VALUE_x'} in the result is deprecated and will raise a MergeError in a future version.\n",
      "  df = pd.merge(df, gsm.table, on='ID_REF')\n",
      "/var/folders/_1/dc2yd0kn325bph09grgy33lr0000gn/T/ipykernel_13719/3268267448.py:19: FutureWarning: Passing 'suffixes' which cause duplicate columns {'VALUE_x'} in the result is deprecated and will raise a MergeError in a future version.\n",
      "  df = pd.merge(df, gsm.table, on='ID_REF')\n"
     ]
    },
    {
     "name": "stdout",
     "output_type": "stream",
     "text": [
      "Name:  GSM1101218\n",
      "Name:  GSM1101219\n",
      "Name:  GSM1101220\n"
     ]
    },
    {
     "name": "stderr",
     "output_type": "stream",
     "text": [
      "/var/folders/_1/dc2yd0kn325bph09grgy33lr0000gn/T/ipykernel_13719/3268267448.py:19: FutureWarning: Passing 'suffixes' which cause duplicate columns {'VALUE_x'} in the result is deprecated and will raise a MergeError in a future version.\n",
      "  df = pd.merge(df, gsm.table, on='ID_REF')\n",
      "/var/folders/_1/dc2yd0kn325bph09grgy33lr0000gn/T/ipykernel_13719/3268267448.py:19: FutureWarning: Passing 'suffixes' which cause duplicate columns {'VALUE_x'} in the result is deprecated and will raise a MergeError in a future version.\n",
      "  df = pd.merge(df, gsm.table, on='ID_REF')\n"
     ]
    },
    {
     "name": "stdout",
     "output_type": "stream",
     "text": [
      "Name:  GSM1101221\n",
      "Name:  GSM1101222\n",
      "Name:  GSM1101223\n",
      "Name:  GSM1101224\n",
      "Name:  GSM1101225\n",
      "Name:  GSM1101226\n"
     ]
    },
    {
     "name": "stderr",
     "output_type": "stream",
     "text": [
      "/var/folders/_1/dc2yd0kn325bph09grgy33lr0000gn/T/ipykernel_13719/3268267448.py:19: FutureWarning: Passing 'suffixes' which cause duplicate columns {'VALUE_x'} in the result is deprecated and will raise a MergeError in a future version.\n",
      "  df = pd.merge(df, gsm.table, on='ID_REF')\n",
      "/var/folders/_1/dc2yd0kn325bph09grgy33lr0000gn/T/ipykernel_13719/3268267448.py:19: FutureWarning: Passing 'suffixes' which cause duplicate columns {'VALUE_x'} in the result is deprecated and will raise a MergeError in a future version.\n",
      "  df = pd.merge(df, gsm.table, on='ID_REF')\n"
     ]
    },
    {
     "name": "stdout",
     "output_type": "stream",
     "text": [
      "Name:  GSM1101227\n",
      "Name:  GSM1101228\n",
      "Name:  GSM1101229\n"
     ]
    },
    {
     "name": "stderr",
     "output_type": "stream",
     "text": [
      "/var/folders/_1/dc2yd0kn325bph09grgy33lr0000gn/T/ipykernel_13719/3268267448.py:19: FutureWarning: Passing 'suffixes' which cause duplicate columns {'VALUE_x'} in the result is deprecated and will raise a MergeError in a future version.\n",
      "  df = pd.merge(df, gsm.table, on='ID_REF')\n",
      "/var/folders/_1/dc2yd0kn325bph09grgy33lr0000gn/T/ipykernel_13719/3268267448.py:19: FutureWarning: Passing 'suffixes' which cause duplicate columns {'VALUE_x'} in the result is deprecated and will raise a MergeError in a future version.\n",
      "  df = pd.merge(df, gsm.table, on='ID_REF')\n"
     ]
    },
    {
     "name": "stdout",
     "output_type": "stream",
     "text": [
      "Name:  GSM1101230\n",
      "Name:  GSM1101231\n",
      "Name:  GSM1101232\n"
     ]
    },
    {
     "name": "stderr",
     "output_type": "stream",
     "text": [
      "/var/folders/_1/dc2yd0kn325bph09grgy33lr0000gn/T/ipykernel_13719/3268267448.py:19: FutureWarning: Passing 'suffixes' which cause duplicate columns {'VALUE_x'} in the result is deprecated and will raise a MergeError in a future version.\n",
      "  df = pd.merge(df, gsm.table, on='ID_REF')\n",
      "/var/folders/_1/dc2yd0kn325bph09grgy33lr0000gn/T/ipykernel_13719/3268267448.py:19: FutureWarning: Passing 'suffixes' which cause duplicate columns {'VALUE_x'} in the result is deprecated and will raise a MergeError in a future version.\n",
      "  df = pd.merge(df, gsm.table, on='ID_REF')\n"
     ]
    },
    {
     "name": "stdout",
     "output_type": "stream",
     "text": [
      "Name:  GSM1101233\n",
      "Name:  GSM1101234\n",
      "Name:  GSM1101235\n",
      "Name:  GSM1101236\n",
      "Name:  GSM1101237\n",
      "Name:  GSM1101238\n"
     ]
    },
    {
     "name": "stderr",
     "output_type": "stream",
     "text": [
      "/var/folders/_1/dc2yd0kn325bph09grgy33lr0000gn/T/ipykernel_13719/3268267448.py:19: FutureWarning: Passing 'suffixes' which cause duplicate columns {'VALUE_x'} in the result is deprecated and will raise a MergeError in a future version.\n",
      "  df = pd.merge(df, gsm.table, on='ID_REF')\n",
      "/var/folders/_1/dc2yd0kn325bph09grgy33lr0000gn/T/ipykernel_13719/3268267448.py:19: FutureWarning: Passing 'suffixes' which cause duplicate columns {'VALUE_x'} in the result is deprecated and will raise a MergeError in a future version.\n",
      "  df = pd.merge(df, gsm.table, on='ID_REF')\n"
     ]
    },
    {
     "name": "stdout",
     "output_type": "stream",
     "text": [
      "Name:  GSM1101239\n",
      "Name:  GSM1101240\n",
      "Name:  GSM1101241\n"
     ]
    },
    {
     "name": "stderr",
     "output_type": "stream",
     "text": [
      "/var/folders/_1/dc2yd0kn325bph09grgy33lr0000gn/T/ipykernel_13719/3268267448.py:19: FutureWarning: Passing 'suffixes' which cause duplicate columns {'VALUE_x'} in the result is deprecated and will raise a MergeError in a future version.\n",
      "  df = pd.merge(df, gsm.table, on='ID_REF')\n",
      "/var/folders/_1/dc2yd0kn325bph09grgy33lr0000gn/T/ipykernel_13719/3268267448.py:19: FutureWarning: Passing 'suffixes' which cause duplicate columns {'VALUE_x'} in the result is deprecated and will raise a MergeError in a future version.\n",
      "  df = pd.merge(df, gsm.table, on='ID_REF')\n"
     ]
    },
    {
     "name": "stdout",
     "output_type": "stream",
     "text": [
      "Name:  GSM1101242\n",
      "Name:  GSM1101243\n",
      "Name:  GSM1101244\n"
     ]
    },
    {
     "name": "stderr",
     "output_type": "stream",
     "text": [
      "/var/folders/_1/dc2yd0kn325bph09grgy33lr0000gn/T/ipykernel_13719/3268267448.py:19: FutureWarning: Passing 'suffixes' which cause duplicate columns {'VALUE_x'} in the result is deprecated and will raise a MergeError in a future version.\n",
      "  df = pd.merge(df, gsm.table, on='ID_REF')\n",
      "/var/folders/_1/dc2yd0kn325bph09grgy33lr0000gn/T/ipykernel_13719/3268267448.py:19: FutureWarning: Passing 'suffixes' which cause duplicate columns {'VALUE_x'} in the result is deprecated and will raise a MergeError in a future version.\n",
      "  df = pd.merge(df, gsm.table, on='ID_REF')\n"
     ]
    },
    {
     "name": "stdout",
     "output_type": "stream",
     "text": [
      "Name:  GSM1101245\n",
      "Name:  GSM1101246\n",
      "Name:  GSM1101247\n",
      "Name:  GSM1101248\n",
      "Name:  GSM1101249\n",
      "Name:  GSM1101250\n"
     ]
    },
    {
     "name": "stderr",
     "output_type": "stream",
     "text": [
      "/var/folders/_1/dc2yd0kn325bph09grgy33lr0000gn/T/ipykernel_13719/3268267448.py:19: FutureWarning: Passing 'suffixes' which cause duplicate columns {'VALUE_x'} in the result is deprecated and will raise a MergeError in a future version.\n",
      "  df = pd.merge(df, gsm.table, on='ID_REF')\n",
      "/var/folders/_1/dc2yd0kn325bph09grgy33lr0000gn/T/ipykernel_13719/3268267448.py:19: FutureWarning: Passing 'suffixes' which cause duplicate columns {'VALUE_x'} in the result is deprecated and will raise a MergeError in a future version.\n",
      "  df = pd.merge(df, gsm.table, on='ID_REF')\n"
     ]
    },
    {
     "name": "stdout",
     "output_type": "stream",
     "text": [
      "Name:  GSM1101251\n",
      "Name:  GSM1101252\n",
      "Name:  GSM1101253\n"
     ]
    },
    {
     "name": "stderr",
     "output_type": "stream",
     "text": [
      "/var/folders/_1/dc2yd0kn325bph09grgy33lr0000gn/T/ipykernel_13719/3268267448.py:19: FutureWarning: Passing 'suffixes' which cause duplicate columns {'VALUE_x'} in the result is deprecated and will raise a MergeError in a future version.\n",
      "  df = pd.merge(df, gsm.table, on='ID_REF')\n",
      "/var/folders/_1/dc2yd0kn325bph09grgy33lr0000gn/T/ipykernel_13719/3268267448.py:19: FutureWarning: Passing 'suffixes' which cause duplicate columns {'VALUE_x'} in the result is deprecated and will raise a MergeError in a future version.\n",
      "  df = pd.merge(df, gsm.table, on='ID_REF')\n"
     ]
    },
    {
     "name": "stdout",
     "output_type": "stream",
     "text": [
      "Name:  GSM1101254\n",
      "Name:  GSM1101255\n",
      "Name:  GSM1101256\n"
     ]
    },
    {
     "name": "stderr",
     "output_type": "stream",
     "text": [
      "/var/folders/_1/dc2yd0kn325bph09grgy33lr0000gn/T/ipykernel_13719/3268267448.py:19: FutureWarning: Passing 'suffixes' which cause duplicate columns {'VALUE_x'} in the result is deprecated and will raise a MergeError in a future version.\n",
      "  df = pd.merge(df, gsm.table, on='ID_REF')\n"
     ]
    },
    {
     "name": "stdout",
     "output_type": "stream",
     "text": [
      "Name:  GSM1101257\n",
      "Name:  GSM1101258\n"
     ]
    },
    {
     "name": "stderr",
     "output_type": "stream",
     "text": [
      "/var/folders/_1/dc2yd0kn325bph09grgy33lr0000gn/T/ipykernel_13719/3268267448.py:19: FutureWarning: Passing 'suffixes' which cause duplicate columns {'VALUE_x'} in the result is deprecated and will raise a MergeError in a future version.\n",
      "  df = pd.merge(df, gsm.table, on='ID_REF')\n",
      "/var/folders/_1/dc2yd0kn325bph09grgy33lr0000gn/T/ipykernel_13719/3268267448.py:19: FutureWarning: Passing 'suffixes' which cause duplicate columns {'VALUE_x'} in the result is deprecated and will raise a MergeError in a future version.\n",
      "  df = pd.merge(df, gsm.table, on='ID_REF')\n"
     ]
    },
    {
     "name": "stdout",
     "output_type": "stream",
     "text": [
      "Name:  GSM1101259\n",
      "Name:  GSM1101260\n",
      "Name:  GSM1101261\n",
      "Name:  GSM1101262\n",
      "Name:  GSM1101263\n",
      "Name:  GSM1101264\n"
     ]
    },
    {
     "name": "stderr",
     "output_type": "stream",
     "text": [
      "/var/folders/_1/dc2yd0kn325bph09grgy33lr0000gn/T/ipykernel_13719/3268267448.py:19: FutureWarning: Passing 'suffixes' which cause duplicate columns {'VALUE_x'} in the result is deprecated and will raise a MergeError in a future version.\n",
      "  df = pd.merge(df, gsm.table, on='ID_REF')\n",
      "/var/folders/_1/dc2yd0kn325bph09grgy33lr0000gn/T/ipykernel_13719/3268267448.py:19: FutureWarning: Passing 'suffixes' which cause duplicate columns {'VALUE_x'} in the result is deprecated and will raise a MergeError in a future version.\n",
      "  df = pd.merge(df, gsm.table, on='ID_REF')\n"
     ]
    },
    {
     "name": "stdout",
     "output_type": "stream",
     "text": [
      "Name:  GSM1101265\n",
      "Name:  GSM1101266\n"
     ]
    },
    {
     "name": "stderr",
     "output_type": "stream",
     "text": [
      "/var/folders/_1/dc2yd0kn325bph09grgy33lr0000gn/T/ipykernel_13719/3268267448.py:19: FutureWarning: Passing 'suffixes' which cause duplicate columns {'VALUE_x'} in the result is deprecated and will raise a MergeError in a future version.\n",
      "  df = pd.merge(df, gsm.table, on='ID_REF')\n",
      "/var/folders/_1/dc2yd0kn325bph09grgy33lr0000gn/T/ipykernel_13719/3268267448.py:19: FutureWarning: Passing 'suffixes' which cause duplicate columns {'VALUE_x'} in the result is deprecated and will raise a MergeError in a future version.\n",
      "  df = pd.merge(df, gsm.table, on='ID_REF')\n"
     ]
    },
    {
     "name": "stdout",
     "output_type": "stream",
     "text": [
      "Name:  GSM1101267\n",
      "Name:  GSM1101268\n",
      "Name:  GSM1101269\n",
      "Name:  GSM1101270\n"
     ]
    },
    {
     "name": "stderr",
     "output_type": "stream",
     "text": [
      "/var/folders/_1/dc2yd0kn325bph09grgy33lr0000gn/T/ipykernel_13719/3268267448.py:19: FutureWarning: Passing 'suffixes' which cause duplicate columns {'VALUE_x'} in the result is deprecated and will raise a MergeError in a future version.\n",
      "  df = pd.merge(df, gsm.table, on='ID_REF')\n"
     ]
    },
    {
     "name": "stdout",
     "output_type": "stream",
     "text": [
      "Name:  GSM1101271\n",
      "Name:  GSM1101272\n",
      "Name:  GSM1101273\n"
     ]
    },
    {
     "name": "stderr",
     "output_type": "stream",
     "text": [
      "/var/folders/_1/dc2yd0kn325bph09grgy33lr0000gn/T/ipykernel_13719/3268267448.py:19: FutureWarning: Passing 'suffixes' which cause duplicate columns {'VALUE_x'} in the result is deprecated and will raise a MergeError in a future version.\n",
      "  df = pd.merge(df, gsm.table, on='ID_REF')\n"
     ]
    },
    {
     "name": "stdout",
     "output_type": "stream",
     "text": [
      "Name:  GSM1101274\n",
      "Name:  GSM1101275\n"
     ]
    },
    {
     "name": "stderr",
     "output_type": "stream",
     "text": [
      "/var/folders/_1/dc2yd0kn325bph09grgy33lr0000gn/T/ipykernel_13719/3268267448.py:19: FutureWarning: Passing 'suffixes' which cause duplicate columns {'VALUE_x'} in the result is deprecated and will raise a MergeError in a future version.\n",
      "  df = pd.merge(df, gsm.table, on='ID_REF')\n"
     ]
    },
    {
     "name": "stdout",
     "output_type": "stream",
     "text": [
      "Name:  GSM1101276\n",
      "Name:  GSM1101277\n"
     ]
    },
    {
     "name": "stderr",
     "output_type": "stream",
     "text": [
      "/var/folders/_1/dc2yd0kn325bph09grgy33lr0000gn/T/ipykernel_13719/3268267448.py:19: FutureWarning: Passing 'suffixes' which cause duplicate columns {'VALUE_x'} in the result is deprecated and will raise a MergeError in a future version.\n",
      "  df = pd.merge(df, gsm.table, on='ID_REF')\n"
     ]
    },
    {
     "name": "stdout",
     "output_type": "stream",
     "text": [
      "Name:  GSM1101278\n",
      "Name:  GSM1101279\n"
     ]
    },
    {
     "name": "stderr",
     "output_type": "stream",
     "text": [
      "/var/folders/_1/dc2yd0kn325bph09grgy33lr0000gn/T/ipykernel_13719/3268267448.py:19: FutureWarning: Passing 'suffixes' which cause duplicate columns {'VALUE_x'} in the result is deprecated and will raise a MergeError in a future version.\n",
      "  df = pd.merge(df, gsm.table, on='ID_REF')\n",
      "/var/folders/_1/dc2yd0kn325bph09grgy33lr0000gn/T/ipykernel_13719/3268267448.py:19: FutureWarning: Passing 'suffixes' which cause duplicate columns {'VALUE_x'} in the result is deprecated and will raise a MergeError in a future version.\n",
      "  df = pd.merge(df, gsm.table, on='ID_REF')\n"
     ]
    },
    {
     "name": "stdout",
     "output_type": "stream",
     "text": [
      "Name:  GSM1101280\n",
      "Name:  GSM1101281\n",
      "Name:  GSM1101282\n",
      "Name:  GSM1101283\n"
     ]
    },
    {
     "name": "stderr",
     "output_type": "stream",
     "text": [
      "/var/folders/_1/dc2yd0kn325bph09grgy33lr0000gn/T/ipykernel_13719/3268267448.py:19: FutureWarning: Passing 'suffixes' which cause duplicate columns {'VALUE_x'} in the result is deprecated and will raise a MergeError in a future version.\n",
      "  df = pd.merge(df, gsm.table, on='ID_REF')\n",
      "/var/folders/_1/dc2yd0kn325bph09grgy33lr0000gn/T/ipykernel_13719/3268267448.py:19: FutureWarning: Passing 'suffixes' which cause duplicate columns {'VALUE_x'} in the result is deprecated and will raise a MergeError in a future version.\n",
      "  df = pd.merge(df, gsm.table, on='ID_REF')\n"
     ]
    },
    {
     "name": "stdout",
     "output_type": "stream",
     "text": [
      "Name:  GSM1101284\n",
      "Name:  GSM1101285\n",
      "Name:  GSM1101286\n",
      "Name:  GSM1101287\n"
     ]
    },
    {
     "name": "stderr",
     "output_type": "stream",
     "text": [
      "/var/folders/_1/dc2yd0kn325bph09grgy33lr0000gn/T/ipykernel_13719/3268267448.py:19: FutureWarning: Passing 'suffixes' which cause duplicate columns {'VALUE_x'} in the result is deprecated and will raise a MergeError in a future version.\n",
      "  df = pd.merge(df, gsm.table, on='ID_REF')\n",
      "/var/folders/_1/dc2yd0kn325bph09grgy33lr0000gn/T/ipykernel_13719/3268267448.py:19: FutureWarning: Passing 'suffixes' which cause duplicate columns {'VALUE_x'} in the result is deprecated and will raise a MergeError in a future version.\n",
      "  df = pd.merge(df, gsm.table, on='ID_REF')\n"
     ]
    },
    {
     "name": "stdout",
     "output_type": "stream",
     "text": [
      "Name:  GSM1101288\n",
      "Name:  GSM1101289\n",
      "Name:  GSM1101290\n",
      "Name:  GSM1101291\n"
     ]
    },
    {
     "name": "stderr",
     "output_type": "stream",
     "text": [
      "/var/folders/_1/dc2yd0kn325bph09grgy33lr0000gn/T/ipykernel_13719/3268267448.py:19: FutureWarning: Passing 'suffixes' which cause duplicate columns {'VALUE_x'} in the result is deprecated and will raise a MergeError in a future version.\n",
      "  df = pd.merge(df, gsm.table, on='ID_REF')\n",
      "/var/folders/_1/dc2yd0kn325bph09grgy33lr0000gn/T/ipykernel_13719/3268267448.py:19: FutureWarning: Passing 'suffixes' which cause duplicate columns {'VALUE_x'} in the result is deprecated and will raise a MergeError in a future version.\n",
      "  df = pd.merge(df, gsm.table, on='ID_REF')\n"
     ]
    },
    {
     "name": "stdout",
     "output_type": "stream",
     "text": [
      "Name:  GSM1101292\n",
      "Name:  GSM1101293\n",
      "Name:  GSM1101294\n",
      "Name:  GSM1101295\n",
      "Name:  GSM1101296\n"
     ]
    },
    {
     "name": "stderr",
     "output_type": "stream",
     "text": [
      "/var/folders/_1/dc2yd0kn325bph09grgy33lr0000gn/T/ipykernel_13719/3268267448.py:19: FutureWarning: Passing 'suffixes' which cause duplicate columns {'VALUE_x'} in the result is deprecated and will raise a MergeError in a future version.\n",
      "  df = pd.merge(df, gsm.table, on='ID_REF')\n",
      "/var/folders/_1/dc2yd0kn325bph09grgy33lr0000gn/T/ipykernel_13719/3268267448.py:19: FutureWarning: Passing 'suffixes' which cause duplicate columns {'VALUE_x'} in the result is deprecated and will raise a MergeError in a future version.\n",
      "  df = pd.merge(df, gsm.table, on='ID_REF')\n"
     ]
    },
    {
     "name": "stdout",
     "output_type": "stream",
     "text": [
      "Name:  GSM1101297\n",
      "Name:  GSM1101298\n"
     ]
    },
    {
     "name": "stderr",
     "output_type": "stream",
     "text": [
      "/var/folders/_1/dc2yd0kn325bph09grgy33lr0000gn/T/ipykernel_13719/3268267448.py:19: FutureWarning: Passing 'suffixes' which cause duplicate columns {'VALUE_x'} in the result is deprecated and will raise a MergeError in a future version.\n",
      "  df = pd.merge(df, gsm.table, on='ID_REF')\n",
      "/var/folders/_1/dc2yd0kn325bph09grgy33lr0000gn/T/ipykernel_13719/3268267448.py:19: FutureWarning: Passing 'suffixes' which cause duplicate columns {'VALUE_x'} in the result is deprecated and will raise a MergeError in a future version.\n",
      "  df = pd.merge(df, gsm.table, on='ID_REF')\n"
     ]
    },
    {
     "name": "stdout",
     "output_type": "stream",
     "text": [
      "Name:  GSM1101299\n",
      "Name:  GSM1101300\n",
      "Name:  GSM1101301\n",
      "Name:  GSM1101302\n",
      "Name:  GSM1101303\n"
     ]
    },
    {
     "name": "stderr",
     "output_type": "stream",
     "text": [
      "/var/folders/_1/dc2yd0kn325bph09grgy33lr0000gn/T/ipykernel_13719/3268267448.py:19: FutureWarning: Passing 'suffixes' which cause duplicate columns {'VALUE_x'} in the result is deprecated and will raise a MergeError in a future version.\n",
      "  df = pd.merge(df, gsm.table, on='ID_REF')\n"
     ]
    },
    {
     "name": "stdout",
     "output_type": "stream",
     "text": [
      "Name:  GSM1101304\n",
      "Name:  GSM1101305\n"
     ]
    },
    {
     "name": "stderr",
     "output_type": "stream",
     "text": [
      "/var/folders/_1/dc2yd0kn325bph09grgy33lr0000gn/T/ipykernel_13719/3268267448.py:19: FutureWarning: Passing 'suffixes' which cause duplicate columns {'VALUE_x'} in the result is deprecated and will raise a MergeError in a future version.\n",
      "  df = pd.merge(df, gsm.table, on='ID_REF')\n"
     ]
    },
    {
     "name": "stdout",
     "output_type": "stream",
     "text": [
      "Name:  GSM1101306\n",
      "Name:  GSM1101307\n"
     ]
    },
    {
     "name": "stderr",
     "output_type": "stream",
     "text": [
      "/var/folders/_1/dc2yd0kn325bph09grgy33lr0000gn/T/ipykernel_13719/3268267448.py:19: FutureWarning: Passing 'suffixes' which cause duplicate columns {'VALUE_x'} in the result is deprecated and will raise a MergeError in a future version.\n",
      "  df = pd.merge(df, gsm.table, on='ID_REF')\n"
     ]
    },
    {
     "name": "stdout",
     "output_type": "stream",
     "text": [
      "Name:  GSM1101308\n",
      "Name:  GSM1101309\n"
     ]
    },
    {
     "name": "stderr",
     "output_type": "stream",
     "text": [
      "/var/folders/_1/dc2yd0kn325bph09grgy33lr0000gn/T/ipykernel_13719/3268267448.py:19: FutureWarning: Passing 'suffixes' which cause duplicate columns {'VALUE_x'} in the result is deprecated and will raise a MergeError in a future version.\n",
      "  df = pd.merge(df, gsm.table, on='ID_REF')\n",
      "/var/folders/_1/dc2yd0kn325bph09grgy33lr0000gn/T/ipykernel_13719/3268267448.py:19: FutureWarning: Passing 'suffixes' which cause duplicate columns {'VALUE_x'} in the result is deprecated and will raise a MergeError in a future version.\n",
      "  df = pd.merge(df, gsm.table, on='ID_REF')\n"
     ]
    },
    {
     "name": "stdout",
     "output_type": "stream",
     "text": [
      "Name:  GSM1101310\n",
      "Name:  GSM1101311\n",
      "Name:  GSM1101312\n"
     ]
    },
    {
     "name": "stderr",
     "output_type": "stream",
     "text": [
      "/var/folders/_1/dc2yd0kn325bph09grgy33lr0000gn/T/ipykernel_13719/3268267448.py:19: FutureWarning: Passing 'suffixes' which cause duplicate columns {'VALUE_x'} in the result is deprecated and will raise a MergeError in a future version.\n",
      "  df = pd.merge(df, gsm.table, on='ID_REF')\n",
      "/var/folders/_1/dc2yd0kn325bph09grgy33lr0000gn/T/ipykernel_13719/3268267448.py:19: FutureWarning: Passing 'suffixes' which cause duplicate columns {'VALUE_x'} in the result is deprecated and will raise a MergeError in a future version.\n",
      "  df = pd.merge(df, gsm.table, on='ID_REF')\n"
     ]
    },
    {
     "name": "stdout",
     "output_type": "stream",
     "text": [
      "Name:  GSM1101313\n",
      "Name:  GSM1101314\n",
      "Name:  GSM1101315\n",
      "Name:  GSM1101316\n",
      "Name:  GSM1101317\n"
     ]
    },
    {
     "name": "stderr",
     "output_type": "stream",
     "text": [
      "/var/folders/_1/dc2yd0kn325bph09grgy33lr0000gn/T/ipykernel_13719/3268267448.py:19: FutureWarning: Passing 'suffixes' which cause duplicate columns {'VALUE_x'} in the result is deprecated and will raise a MergeError in a future version.\n",
      "  df = pd.merge(df, gsm.table, on='ID_REF')\n",
      "/var/folders/_1/dc2yd0kn325bph09grgy33lr0000gn/T/ipykernel_13719/3268267448.py:19: FutureWarning: Passing 'suffixes' which cause duplicate columns {'VALUE_x'} in the result is deprecated and will raise a MergeError in a future version.\n",
      "  df = pd.merge(df, gsm.table, on='ID_REF')\n"
     ]
    },
    {
     "name": "stdout",
     "output_type": "stream",
     "text": [
      "Name:  GSM1101318\n",
      "Name:  GSM1101319\n",
      "Name:  GSM1101320\n",
      "Name:  GSM1101321\n"
     ]
    },
    {
     "name": "stderr",
     "output_type": "stream",
     "text": [
      "/var/folders/_1/dc2yd0kn325bph09grgy33lr0000gn/T/ipykernel_13719/3268267448.py:19: FutureWarning: Passing 'suffixes' which cause duplicate columns {'VALUE_x'} in the result is deprecated and will raise a MergeError in a future version.\n",
      "  df = pd.merge(df, gsm.table, on='ID_REF')\n",
      "/var/folders/_1/dc2yd0kn325bph09grgy33lr0000gn/T/ipykernel_13719/3268267448.py:19: FutureWarning: Passing 'suffixes' which cause duplicate columns {'VALUE_x'} in the result is deprecated and will raise a MergeError in a future version.\n",
      "  df = pd.merge(df, gsm.table, on='ID_REF')\n"
     ]
    },
    {
     "name": "stdout",
     "output_type": "stream",
     "text": [
      "Name:  GSM1101322\n",
      "Name:  GSM1101323\n",
      "Name:  GSM1101324\n",
      "Name:  GSM1101325\n"
     ]
    },
    {
     "name": "stderr",
     "output_type": "stream",
     "text": [
      "/var/folders/_1/dc2yd0kn325bph09grgy33lr0000gn/T/ipykernel_13719/3268267448.py:19: FutureWarning: Passing 'suffixes' which cause duplicate columns {'VALUE_x'} in the result is deprecated and will raise a MergeError in a future version.\n",
      "  df = pd.merge(df, gsm.table, on='ID_REF')\n"
     ]
    },
    {
     "name": "stdout",
     "output_type": "stream",
     "text": [
      "Name:  GSM1101326\n",
      "Name:  GSM1101327\n"
     ]
    },
    {
     "name": "stderr",
     "output_type": "stream",
     "text": [
      "/var/folders/_1/dc2yd0kn325bph09grgy33lr0000gn/T/ipykernel_13719/3268267448.py:19: FutureWarning: Passing 'suffixes' which cause duplicate columns {'VALUE_x'} in the result is deprecated and will raise a MergeError in a future version.\n",
      "  df = pd.merge(df, gsm.table, on='ID_REF')\n",
      "/var/folders/_1/dc2yd0kn325bph09grgy33lr0000gn/T/ipykernel_13719/3268267448.py:19: FutureWarning: Passing 'suffixes' which cause duplicate columns {'VALUE_x'} in the result is deprecated and will raise a MergeError in a future version.\n",
      "  df = pd.merge(df, gsm.table, on='ID_REF')\n"
     ]
    },
    {
     "name": "stdout",
     "output_type": "stream",
     "text": [
      "Name:  GSM1101328\n",
      "Name:  GSM1101329\n",
      "Name:  GSM1101330\n",
      "Name:  GSM1101331\n"
     ]
    },
    {
     "name": "stderr",
     "output_type": "stream",
     "text": [
      "/var/folders/_1/dc2yd0kn325bph09grgy33lr0000gn/T/ipykernel_13719/3268267448.py:19: FutureWarning: Passing 'suffixes' which cause duplicate columns {'VALUE_x'} in the result is deprecated and will raise a MergeError in a future version.\n",
      "  df = pd.merge(df, gsm.table, on='ID_REF')\n"
     ]
    },
    {
     "name": "stdout",
     "output_type": "stream",
     "text": [
      "Name:  GSM1101332\n",
      "Name:  GSM1101333\n"
     ]
    },
    {
     "name": "stderr",
     "output_type": "stream",
     "text": [
      "/var/folders/_1/dc2yd0kn325bph09grgy33lr0000gn/T/ipykernel_13719/3268267448.py:19: FutureWarning: Passing 'suffixes' which cause duplicate columns {'VALUE_x'} in the result is deprecated and will raise a MergeError in a future version.\n",
      "  df = pd.merge(df, gsm.table, on='ID_REF')\n"
     ]
    },
    {
     "name": "stdout",
     "output_type": "stream",
     "text": [
      "Name:  GSM1101334\n",
      "Name:  GSM1101335\n"
     ]
    },
    {
     "name": "stderr",
     "output_type": "stream",
     "text": [
      "/var/folders/_1/dc2yd0kn325bph09grgy33lr0000gn/T/ipykernel_13719/3268267448.py:19: FutureWarning: Passing 'suffixes' which cause duplicate columns {'VALUE_x'} in the result is deprecated and will raise a MergeError in a future version.\n",
      "  df = pd.merge(df, gsm.table, on='ID_REF')\n",
      "/var/folders/_1/dc2yd0kn325bph09grgy33lr0000gn/T/ipykernel_13719/3268267448.py:19: FutureWarning: Passing 'suffixes' which cause duplicate columns {'VALUE_x'} in the result is deprecated and will raise a MergeError in a future version.\n",
      "  df = pd.merge(df, gsm.table, on='ID_REF')\n"
     ]
    },
    {
     "name": "stdout",
     "output_type": "stream",
     "text": [
      "Name:  GSM1101336\n",
      "Name:  GSM1101337\n",
      "Name:  GSM1101338\n",
      "Name:  GSM1101339\n"
     ]
    },
    {
     "name": "stderr",
     "output_type": "stream",
     "text": [
      "/var/folders/_1/dc2yd0kn325bph09grgy33lr0000gn/T/ipykernel_13719/3268267448.py:19: FutureWarning: Passing 'suffixes' which cause duplicate columns {'VALUE_x'} in the result is deprecated and will raise a MergeError in a future version.\n",
      "  df = pd.merge(df, gsm.table, on='ID_REF')\n"
     ]
    },
    {
     "name": "stdout",
     "output_type": "stream",
     "text": [
      "Name:  GSM1101340\n",
      "Name:  GSM1101341\n"
     ]
    },
    {
     "name": "stderr",
     "output_type": "stream",
     "text": [
      "/var/folders/_1/dc2yd0kn325bph09grgy33lr0000gn/T/ipykernel_13719/3268267448.py:19: FutureWarning: Passing 'suffixes' which cause duplicate columns {'VALUE_x'} in the result is deprecated and will raise a MergeError in a future version.\n",
      "  df = pd.merge(df, gsm.table, on='ID_REF')\n"
     ]
    },
    {
     "name": "stdout",
     "output_type": "stream",
     "text": [
      "Name:  GSM1101342\n",
      "Name:  GSM1101343\n"
     ]
    },
    {
     "name": "stderr",
     "output_type": "stream",
     "text": [
      "/var/folders/_1/dc2yd0kn325bph09grgy33lr0000gn/T/ipykernel_13719/3268267448.py:19: FutureWarning: Passing 'suffixes' which cause duplicate columns {'VALUE_x'} in the result is deprecated and will raise a MergeError in a future version.\n",
      "  df = pd.merge(df, gsm.table, on='ID_REF')\n"
     ]
    },
    {
     "name": "stdout",
     "output_type": "stream",
     "text": [
      "Name:  GSM1101344\n",
      "Name:  GSM1101345\n"
     ]
    },
    {
     "name": "stderr",
     "output_type": "stream",
     "text": [
      "/var/folders/_1/dc2yd0kn325bph09grgy33lr0000gn/T/ipykernel_13719/3268267448.py:19: FutureWarning: Passing 'suffixes' which cause duplicate columns {'VALUE_x'} in the result is deprecated and will raise a MergeError in a future version.\n",
      "  df = pd.merge(df, gsm.table, on='ID_REF')\n"
     ]
    },
    {
     "name": "stdout",
     "output_type": "stream",
     "text": [
      "Name:  GSM1101346\n"
     ]
    },
    {
     "name": "stderr",
     "output_type": "stream",
     "text": [
      "/var/folders/_1/dc2yd0kn325bph09grgy33lr0000gn/T/ipykernel_13719/3268267448.py:19: FutureWarning: Passing 'suffixes' which cause duplicate columns {'VALUE_x'} in the result is deprecated and will raise a MergeError in a future version.\n",
      "  df = pd.merge(df, gsm.table, on='ID_REF')\n"
     ]
    },
    {
     "name": "stdout",
     "output_type": "stream",
     "text": [
      "Name:  GSM1101347\n",
      "Name:  GSM1101348\n",
      "Name:  GSM1101349\n"
     ]
    },
    {
     "name": "stderr",
     "output_type": "stream",
     "text": [
      "/var/folders/_1/dc2yd0kn325bph09grgy33lr0000gn/T/ipykernel_13719/3268267448.py:19: FutureWarning: Passing 'suffixes' which cause duplicate columns {'VALUE_x'} in the result is deprecated and will raise a MergeError in a future version.\n",
      "  df = pd.merge(df, gsm.table, on='ID_REF')\n"
     ]
    },
    {
     "name": "stdout",
     "output_type": "stream",
     "text": [
      "Name:  GSM1101350\n",
      "Name:  GSM1101351\n"
     ]
    },
    {
     "name": "stderr",
     "output_type": "stream",
     "text": [
      "/var/folders/_1/dc2yd0kn325bph09grgy33lr0000gn/T/ipykernel_13719/3268267448.py:19: FutureWarning: Passing 'suffixes' which cause duplicate columns {'VALUE_x'} in the result is deprecated and will raise a MergeError in a future version.\n",
      "  df = pd.merge(df, gsm.table, on='ID_REF')\n"
     ]
    },
    {
     "name": "stdout",
     "output_type": "stream",
     "text": [
      "Name:  GSM1101352\n",
      "Name:  GSM1101353\n"
     ]
    },
    {
     "name": "stderr",
     "output_type": "stream",
     "text": [
      "/var/folders/_1/dc2yd0kn325bph09grgy33lr0000gn/T/ipykernel_13719/3268267448.py:19: FutureWarning: Passing 'suffixes' which cause duplicate columns {'VALUE_x'} in the result is deprecated and will raise a MergeError in a future version.\n",
      "  df = pd.merge(df, gsm.table, on='ID_REF')\n"
     ]
    },
    {
     "name": "stdout",
     "output_type": "stream",
     "text": [
      "Name:  GSM1101354\n",
      "Name:  GSM1101355\n"
     ]
    },
    {
     "name": "stderr",
     "output_type": "stream",
     "text": [
      "/var/folders/_1/dc2yd0kn325bph09grgy33lr0000gn/T/ipykernel_13719/3268267448.py:19: FutureWarning: Passing 'suffixes' which cause duplicate columns {'VALUE_x'} in the result is deprecated and will raise a MergeError in a future version.\n",
      "  df = pd.merge(df, gsm.table, on='ID_REF')\n"
     ]
    },
    {
     "name": "stdout",
     "output_type": "stream",
     "text": [
      "Name:  GSM1101356\n",
      "Name:  GSM1101357\n"
     ]
    },
    {
     "name": "stderr",
     "output_type": "stream",
     "text": [
      "/var/folders/_1/dc2yd0kn325bph09grgy33lr0000gn/T/ipykernel_13719/3268267448.py:19: FutureWarning: Passing 'suffixes' which cause duplicate columns {'VALUE_x'} in the result is deprecated and will raise a MergeError in a future version.\n",
      "  df = pd.merge(df, gsm.table, on='ID_REF')\n"
     ]
    },
    {
     "name": "stdout",
     "output_type": "stream",
     "text": [
      "Name:  GSM1101358\n",
      "Name:  GSM1101359\n"
     ]
    },
    {
     "name": "stderr",
     "output_type": "stream",
     "text": [
      "/var/folders/_1/dc2yd0kn325bph09grgy33lr0000gn/T/ipykernel_13719/3268267448.py:19: FutureWarning: Passing 'suffixes' which cause duplicate columns {'VALUE_x'} in the result is deprecated and will raise a MergeError in a future version.\n",
      "  df = pd.merge(df, gsm.table, on='ID_REF')\n",
      "/var/folders/_1/dc2yd0kn325bph09grgy33lr0000gn/T/ipykernel_13719/3268267448.py:19: FutureWarning: Passing 'suffixes' which cause duplicate columns {'VALUE_x'} in the result is deprecated and will raise a MergeError in a future version.\n",
      "  df = pd.merge(df, gsm.table, on='ID_REF')\n"
     ]
    },
    {
     "name": "stdout",
     "output_type": "stream",
     "text": [
      "Name:  GSM1101360\n",
      "Name:  GSM1101361\n",
      "Name:  GSM1101362\n",
      "Name:  GSM1101363\n"
     ]
    },
    {
     "name": "stderr",
     "output_type": "stream",
     "text": [
      "/var/folders/_1/dc2yd0kn325bph09grgy33lr0000gn/T/ipykernel_13719/3268267448.py:19: FutureWarning: Passing 'suffixes' which cause duplicate columns {'VALUE_x'} in the result is deprecated and will raise a MergeError in a future version.\n",
      "  df = pd.merge(df, gsm.table, on='ID_REF')\n"
     ]
    },
    {
     "name": "stdout",
     "output_type": "stream",
     "text": [
      "Name:  GSM1101364\n",
      "Name:  GSM1101365\n"
     ]
    },
    {
     "name": "stderr",
     "output_type": "stream",
     "text": [
      "/var/folders/_1/dc2yd0kn325bph09grgy33lr0000gn/T/ipykernel_13719/3268267448.py:19: FutureWarning: Passing 'suffixes' which cause duplicate columns {'VALUE_x'} in the result is deprecated and will raise a MergeError in a future version.\n",
      "  df = pd.merge(df, gsm.table, on='ID_REF')\n"
     ]
    },
    {
     "name": "stdout",
     "output_type": "stream",
     "text": [
      "Name:  GSM1101366\n",
      "Name:  GSM1101367\n"
     ]
    },
    {
     "name": "stderr",
     "output_type": "stream",
     "text": [
      "/var/folders/_1/dc2yd0kn325bph09grgy33lr0000gn/T/ipykernel_13719/3268267448.py:19: FutureWarning: Passing 'suffixes' which cause duplicate columns {'VALUE_x'} in the result is deprecated and will raise a MergeError in a future version.\n",
      "  df = pd.merge(df, gsm.table, on='ID_REF')\n",
      "/var/folders/_1/dc2yd0kn325bph09grgy33lr0000gn/T/ipykernel_13719/3268267448.py:19: FutureWarning: Passing 'suffixes' which cause duplicate columns {'VALUE_x'} in the result is deprecated and will raise a MergeError in a future version.\n",
      "  df = pd.merge(df, gsm.table, on='ID_REF')\n"
     ]
    },
    {
     "name": "stdout",
     "output_type": "stream",
     "text": [
      "Name:  GSM1101368\n",
      "Name:  GSM1101369\n",
      "Name:  GSM1101370\n",
      "Name:  GSM1101371\n"
     ]
    },
    {
     "name": "stderr",
     "output_type": "stream",
     "text": [
      "/var/folders/_1/dc2yd0kn325bph09grgy33lr0000gn/T/ipykernel_13719/3268267448.py:19: FutureWarning: Passing 'suffixes' which cause duplicate columns {'VALUE_x'} in the result is deprecated and will raise a MergeError in a future version.\n",
      "  df = pd.merge(df, gsm.table, on='ID_REF')\n"
     ]
    },
    {
     "name": "stdout",
     "output_type": "stream",
     "text": [
      "Name:  GSM1101372\n",
      "Name:  GSM1101373\n"
     ]
    },
    {
     "name": "stderr",
     "output_type": "stream",
     "text": [
      "/var/folders/_1/dc2yd0kn325bph09grgy33lr0000gn/T/ipykernel_13719/3268267448.py:19: FutureWarning: Passing 'suffixes' which cause duplicate columns {'VALUE_x'} in the result is deprecated and will raise a MergeError in a future version.\n",
      "  df = pd.merge(df, gsm.table, on='ID_REF')\n"
     ]
    },
    {
     "name": "stdout",
     "output_type": "stream",
     "text": [
      "Name:  GSM1101374\n",
      "Name:  GSM1101375\n"
     ]
    },
    {
     "name": "stderr",
     "output_type": "stream",
     "text": [
      "/var/folders/_1/dc2yd0kn325bph09grgy33lr0000gn/T/ipykernel_13719/3268267448.py:19: FutureWarning: Passing 'suffixes' which cause duplicate columns {'VALUE_x'} in the result is deprecated and will raise a MergeError in a future version.\n",
      "  df = pd.merge(df, gsm.table, on='ID_REF')\n",
      "/var/folders/_1/dc2yd0kn325bph09grgy33lr0000gn/T/ipykernel_13719/3268267448.py:19: FutureWarning: Passing 'suffixes' which cause duplicate columns {'VALUE_x'} in the result is deprecated and will raise a MergeError in a future version.\n",
      "  df = pd.merge(df, gsm.table, on='ID_REF')\n"
     ]
    },
    {
     "name": "stdout",
     "output_type": "stream",
     "text": [
      "Name:  GSM1101376\n",
      "Name:  GSM1101377\n",
      "Name:  GSM1101378\n",
      "Name:  GSM1101379\n"
     ]
    },
    {
     "name": "stderr",
     "output_type": "stream",
     "text": [
      "/var/folders/_1/dc2yd0kn325bph09grgy33lr0000gn/T/ipykernel_13719/3268267448.py:19: FutureWarning: Passing 'suffixes' which cause duplicate columns {'VALUE_x'} in the result is deprecated and will raise a MergeError in a future version.\n",
      "  df = pd.merge(df, gsm.table, on='ID_REF')\n"
     ]
    },
    {
     "name": "stdout",
     "output_type": "stream",
     "text": [
      "Name:  GSM1101380\n",
      "Name:  GSM1101381\n"
     ]
    },
    {
     "name": "stderr",
     "output_type": "stream",
     "text": [
      "/var/folders/_1/dc2yd0kn325bph09grgy33lr0000gn/T/ipykernel_13719/3268267448.py:19: FutureWarning: Passing 'suffixes' which cause duplicate columns {'VALUE_x'} in the result is deprecated and will raise a MergeError in a future version.\n",
      "  df = pd.merge(df, gsm.table, on='ID_REF')\n"
     ]
    },
    {
     "name": "stdout",
     "output_type": "stream",
     "text": [
      "Name:  GSM1101382\n",
      "Name:  GSM1101383\n"
     ]
    },
    {
     "name": "stderr",
     "output_type": "stream",
     "text": [
      "/var/folders/_1/dc2yd0kn325bph09grgy33lr0000gn/T/ipykernel_13719/3268267448.py:19: FutureWarning: Passing 'suffixes' which cause duplicate columns {'VALUE_x'} in the result is deprecated and will raise a MergeError in a future version.\n",
      "  df = pd.merge(df, gsm.table, on='ID_REF')\n"
     ]
    },
    {
     "name": "stdout",
     "output_type": "stream",
     "text": [
      "Name:  GSM1101384\n",
      "Name:  GSM1101385\n"
     ]
    },
    {
     "name": "stderr",
     "output_type": "stream",
     "text": [
      "/var/folders/_1/dc2yd0kn325bph09grgy33lr0000gn/T/ipykernel_13719/3268267448.py:19: FutureWarning: Passing 'suffixes' which cause duplicate columns {'VALUE_x'} in the result is deprecated and will raise a MergeError in a future version.\n",
      "  df = pd.merge(df, gsm.table, on='ID_REF')\n",
      "/var/folders/_1/dc2yd0kn325bph09grgy33lr0000gn/T/ipykernel_13719/3268267448.py:19: FutureWarning: Passing 'suffixes' which cause duplicate columns {'VALUE_x'} in the result is deprecated and will raise a MergeError in a future version.\n",
      "  df = pd.merge(df, gsm.table, on='ID_REF')\n"
     ]
    },
    {
     "name": "stdout",
     "output_type": "stream",
     "text": [
      "Name:  GSM1101386\n",
      "Name:  GSM1101387\n",
      "Name:  GSM1101388\n",
      "Name:  GSM1101389\n"
     ]
    },
    {
     "name": "stderr",
     "output_type": "stream",
     "text": [
      "/var/folders/_1/dc2yd0kn325bph09grgy33lr0000gn/T/ipykernel_13719/3268267448.py:19: FutureWarning: Passing 'suffixes' which cause duplicate columns {'VALUE_x'} in the result is deprecated and will raise a MergeError in a future version.\n",
      "  df = pd.merge(df, gsm.table, on='ID_REF')\n"
     ]
    },
    {
     "name": "stdout",
     "output_type": "stream",
     "text": [
      "Name:  GSM1101390\n",
      "Name:  GSM1101391\n"
     ]
    },
    {
     "name": "stderr",
     "output_type": "stream",
     "text": [
      "/var/folders/_1/dc2yd0kn325bph09grgy33lr0000gn/T/ipykernel_13719/3268267448.py:19: FutureWarning: Passing 'suffixes' which cause duplicate columns {'VALUE_x'} in the result is deprecated and will raise a MergeError in a future version.\n",
      "  df = pd.merge(df, gsm.table, on='ID_REF')\n",
      "/var/folders/_1/dc2yd0kn325bph09grgy33lr0000gn/T/ipykernel_13719/3268267448.py:19: FutureWarning: Passing 'suffixes' which cause duplicate columns {'VALUE_x'} in the result is deprecated and will raise a MergeError in a future version.\n",
      "  df = pd.merge(df, gsm.table, on='ID_REF')\n"
     ]
    },
    {
     "name": "stdout",
     "output_type": "stream",
     "text": [
      "Name:  GSM1101392\n",
      "Name:  GSM1101393\n",
      "Name:  GSM1101394\n",
      "Name:  GSM1101395\n"
     ]
    },
    {
     "name": "stderr",
     "output_type": "stream",
     "text": [
      "/var/folders/_1/dc2yd0kn325bph09grgy33lr0000gn/T/ipykernel_13719/3268267448.py:19: FutureWarning: Passing 'suffixes' which cause duplicate columns {'VALUE_x'} in the result is deprecated and will raise a MergeError in a future version.\n",
      "  df = pd.merge(df, gsm.table, on='ID_REF')\n"
     ]
    },
    {
     "name": "stdout",
     "output_type": "stream",
     "text": [
      "Name:  GSM1101396\n",
      "Name:  GSM1101397\n"
     ]
    },
    {
     "name": "stderr",
     "output_type": "stream",
     "text": [
      "/var/folders/_1/dc2yd0kn325bph09grgy33lr0000gn/T/ipykernel_13719/3268267448.py:19: FutureWarning: Passing 'suffixes' which cause duplicate columns {'VALUE_x'} in the result is deprecated and will raise a MergeError in a future version.\n",
      "  df = pd.merge(df, gsm.table, on='ID_REF')\n"
     ]
    },
    {
     "name": "stdout",
     "output_type": "stream",
     "text": [
      "Name:  GSM1101398\n",
      "Name:  GSM1101399\n"
     ]
    },
    {
     "name": "stderr",
     "output_type": "stream",
     "text": [
      "/var/folders/_1/dc2yd0kn325bph09grgy33lr0000gn/T/ipykernel_13719/3268267448.py:19: FutureWarning: Passing 'suffixes' which cause duplicate columns {'VALUE_x'} in the result is deprecated and will raise a MergeError in a future version.\n",
      "  df = pd.merge(df, gsm.table, on='ID_REF')\n"
     ]
    },
    {
     "name": "stdout",
     "output_type": "stream",
     "text": [
      "Name:  GSM1101400\n",
      "Name:  GSM1101401\n"
     ]
    },
    {
     "name": "stderr",
     "output_type": "stream",
     "text": [
      "/var/folders/_1/dc2yd0kn325bph09grgy33lr0000gn/T/ipykernel_13719/3268267448.py:19: FutureWarning: Passing 'suffixes' which cause duplicate columns {'VALUE_x'} in the result is deprecated and will raise a MergeError in a future version.\n",
      "  df = pd.merge(df, gsm.table, on='ID_REF')\n",
      "/var/folders/_1/dc2yd0kn325bph09grgy33lr0000gn/T/ipykernel_13719/3268267448.py:19: FutureWarning: Passing 'suffixes' which cause duplicate columns {'VALUE_x'} in the result is deprecated and will raise a MergeError in a future version.\n",
      "  df = pd.merge(df, gsm.table, on='ID_REF')\n"
     ]
    },
    {
     "name": "stdout",
     "output_type": "stream",
     "text": [
      "Name:  GSM1101402\n",
      "Name:  GSM1101403\n",
      "Name:  GSM1101404\n",
      "Name:  GSM1101405\n"
     ]
    },
    {
     "name": "stderr",
     "output_type": "stream",
     "text": [
      "/var/folders/_1/dc2yd0kn325bph09grgy33lr0000gn/T/ipykernel_13719/3268267448.py:19: FutureWarning: Passing 'suffixes' which cause duplicate columns {'VALUE_x'} in the result is deprecated and will raise a MergeError in a future version.\n",
      "  df = pd.merge(df, gsm.table, on='ID_REF')\n"
     ]
    },
    {
     "name": "stdout",
     "output_type": "stream",
     "text": [
      "Name:  GSM1101406\n",
      "Name:  GSM1101407\n"
     ]
    },
    {
     "name": "stderr",
     "output_type": "stream",
     "text": [
      "/var/folders/_1/dc2yd0kn325bph09grgy33lr0000gn/T/ipykernel_13719/3268267448.py:19: FutureWarning: Passing 'suffixes' which cause duplicate columns {'VALUE_x'} in the result is deprecated and will raise a MergeError in a future version.\n",
      "  df = pd.merge(df, gsm.table, on='ID_REF')\n"
     ]
    },
    {
     "name": "stdout",
     "output_type": "stream",
     "text": [
      "Name:  GSM1101408\n",
      "Name:  GSM1101409\n"
     ]
    },
    {
     "name": "stderr",
     "output_type": "stream",
     "text": [
      "/var/folders/_1/dc2yd0kn325bph09grgy33lr0000gn/T/ipykernel_13719/3268267448.py:19: FutureWarning: Passing 'suffixes' which cause duplicate columns {'VALUE_x'} in the result is deprecated and will raise a MergeError in a future version.\n",
      "  df = pd.merge(df, gsm.table, on='ID_REF')\n"
     ]
    },
    {
     "name": "stdout",
     "output_type": "stream",
     "text": [
      "Name:  GSM1101410\n",
      "Name:  GSM1101411\n"
     ]
    },
    {
     "name": "stderr",
     "output_type": "stream",
     "text": [
      "/var/folders/_1/dc2yd0kn325bph09grgy33lr0000gn/T/ipykernel_13719/3268267448.py:19: FutureWarning: Passing 'suffixes' which cause duplicate columns {'VALUE_x'} in the result is deprecated and will raise a MergeError in a future version.\n",
      "  df = pd.merge(df, gsm.table, on='ID_REF')\n"
     ]
    },
    {
     "name": "stdout",
     "output_type": "stream",
     "text": [
      "Name:  GSM1101412\n",
      "Name:  GSM1101413\n"
     ]
    },
    {
     "name": "stderr",
     "output_type": "stream",
     "text": [
      "/var/folders/_1/dc2yd0kn325bph09grgy33lr0000gn/T/ipykernel_13719/3268267448.py:19: FutureWarning: Passing 'suffixes' which cause duplicate columns {'VALUE_x'} in the result is deprecated and will raise a MergeError in a future version.\n",
      "  df = pd.merge(df, gsm.table, on='ID_REF')\n"
     ]
    },
    {
     "name": "stdout",
     "output_type": "stream",
     "text": [
      "Name:  GSM1101414\n",
      "Name:  GSM1101415\n"
     ]
    },
    {
     "name": "stderr",
     "output_type": "stream",
     "text": [
      "/var/folders/_1/dc2yd0kn325bph09grgy33lr0000gn/T/ipykernel_13719/3268267448.py:19: FutureWarning: Passing 'suffixes' which cause duplicate columns {'VALUE_x'} in the result is deprecated and will raise a MergeError in a future version.\n",
      "  df = pd.merge(df, gsm.table, on='ID_REF')\n"
     ]
    },
    {
     "name": "stdout",
     "output_type": "stream",
     "text": [
      "Name:  GSM1101416\n",
      "Name:  GSM1101417\n"
     ]
    },
    {
     "name": "stderr",
     "output_type": "stream",
     "text": [
      "/var/folders/_1/dc2yd0kn325bph09grgy33lr0000gn/T/ipykernel_13719/3268267448.py:19: FutureWarning: Passing 'suffixes' which cause duplicate columns {'VALUE_x'} in the result is deprecated and will raise a MergeError in a future version.\n",
      "  df = pd.merge(df, gsm.table, on='ID_REF')\n"
     ]
    },
    {
     "name": "stdout",
     "output_type": "stream",
     "text": [
      "Name:  GSM1101418\n",
      "Name:  GSM1101419\n"
     ]
    },
    {
     "name": "stderr",
     "output_type": "stream",
     "text": [
      "/var/folders/_1/dc2yd0kn325bph09grgy33lr0000gn/T/ipykernel_13719/3268267448.py:19: FutureWarning: Passing 'suffixes' which cause duplicate columns {'VALUE_x'} in the result is deprecated and will raise a MergeError in a future version.\n",
      "  df = pd.merge(df, gsm.table, on='ID_REF')\n"
     ]
    },
    {
     "name": "stdout",
     "output_type": "stream",
     "text": [
      "Name:  GSM1101420\n",
      "Name:  GSM1101421\n"
     ]
    },
    {
     "name": "stderr",
     "output_type": "stream",
     "text": [
      "/var/folders/_1/dc2yd0kn325bph09grgy33lr0000gn/T/ipykernel_13719/3268267448.py:19: FutureWarning: Passing 'suffixes' which cause duplicate columns {'VALUE_x'} in the result is deprecated and will raise a MergeError in a future version.\n",
      "  df = pd.merge(df, gsm.table, on='ID_REF')\n"
     ]
    },
    {
     "name": "stdout",
     "output_type": "stream",
     "text": [
      "Name:  GSM1101422\n",
      "Name:  GSM1101423\n"
     ]
    },
    {
     "name": "stderr",
     "output_type": "stream",
     "text": [
      "/var/folders/_1/dc2yd0kn325bph09grgy33lr0000gn/T/ipykernel_13719/3268267448.py:19: FutureWarning: Passing 'suffixes' which cause duplicate columns {'VALUE_x'} in the result is deprecated and will raise a MergeError in a future version.\n",
      "  df = pd.merge(df, gsm.table, on='ID_REF')\n"
     ]
    },
    {
     "name": "stdout",
     "output_type": "stream",
     "text": [
      "Name:  GSM1101424\n",
      "Name:  GSM1101425\n"
     ]
    },
    {
     "name": "stderr",
     "output_type": "stream",
     "text": [
      "/var/folders/_1/dc2yd0kn325bph09grgy33lr0000gn/T/ipykernel_13719/3268267448.py:19: FutureWarning: Passing 'suffixes' which cause duplicate columns {'VALUE_x'} in the result is deprecated and will raise a MergeError in a future version.\n",
      "  df = pd.merge(df, gsm.table, on='ID_REF')\n"
     ]
    },
    {
     "name": "stdout",
     "output_type": "stream",
     "text": [
      "Name:  GSM1101426\n",
      "Name:  GSM1101427\n"
     ]
    },
    {
     "name": "stderr",
     "output_type": "stream",
     "text": [
      "/var/folders/_1/dc2yd0kn325bph09grgy33lr0000gn/T/ipykernel_13719/3268267448.py:19: FutureWarning: Passing 'suffixes' which cause duplicate columns {'VALUE_x'} in the result is deprecated and will raise a MergeError in a future version.\n",
      "  df = pd.merge(df, gsm.table, on='ID_REF')\n"
     ]
    },
    {
     "name": "stdout",
     "output_type": "stream",
     "text": [
      "Name:  GSM1101428\n",
      "Name:  GSM1101429\n"
     ]
    },
    {
     "name": "stderr",
     "output_type": "stream",
     "text": [
      "/var/folders/_1/dc2yd0kn325bph09grgy33lr0000gn/T/ipykernel_13719/3268267448.py:19: FutureWarning: Passing 'suffixes' which cause duplicate columns {'VALUE_x'} in the result is deprecated and will raise a MergeError in a future version.\n",
      "  df = pd.merge(df, gsm.table, on='ID_REF')\n"
     ]
    },
    {
     "name": "stdout",
     "output_type": "stream",
     "text": [
      "Name:  GSM1101430\n",
      "Name:  GSM1101431\n"
     ]
    },
    {
     "name": "stderr",
     "output_type": "stream",
     "text": [
      "/var/folders/_1/dc2yd0kn325bph09grgy33lr0000gn/T/ipykernel_13719/3268267448.py:19: FutureWarning: Passing 'suffixes' which cause duplicate columns {'VALUE_x'} in the result is deprecated and will raise a MergeError in a future version.\n",
      "  df = pd.merge(df, gsm.table, on='ID_REF')\n"
     ]
    },
    {
     "name": "stdout",
     "output_type": "stream",
     "text": [
      "Name:  GSM1101432\n",
      "Name:  GSM1101433\n"
     ]
    },
    {
     "name": "stderr",
     "output_type": "stream",
     "text": [
      "/var/folders/_1/dc2yd0kn325bph09grgy33lr0000gn/T/ipykernel_13719/3268267448.py:19: FutureWarning: Passing 'suffixes' which cause duplicate columns {'VALUE_x'} in the result is deprecated and will raise a MergeError in a future version.\n",
      "  df = pd.merge(df, gsm.table, on='ID_REF')\n"
     ]
    },
    {
     "name": "stdout",
     "output_type": "stream",
     "text": [
      "Name:  GSM1101434\n",
      "Name:  GSM1101435\n"
     ]
    },
    {
     "name": "stderr",
     "output_type": "stream",
     "text": [
      "/var/folders/_1/dc2yd0kn325bph09grgy33lr0000gn/T/ipykernel_13719/3268267448.py:19: FutureWarning: Passing 'suffixes' which cause duplicate columns {'VALUE_x'} in the result is deprecated and will raise a MergeError in a future version.\n",
      "  df = pd.merge(df, gsm.table, on='ID_REF')\n"
     ]
    },
    {
     "name": "stdout",
     "output_type": "stream",
     "text": [
      "Name:  GSM1101436\n",
      "Name:  GSM1101437\n"
     ]
    },
    {
     "name": "stderr",
     "output_type": "stream",
     "text": [
      "/var/folders/_1/dc2yd0kn325bph09grgy33lr0000gn/T/ipykernel_13719/3268267448.py:19: FutureWarning: Passing 'suffixes' which cause duplicate columns {'VALUE_x'} in the result is deprecated and will raise a MergeError in a future version.\n",
      "  df = pd.merge(df, gsm.table, on='ID_REF')\n"
     ]
    },
    {
     "name": "stdout",
     "output_type": "stream",
     "text": [
      "Name:  GSM1101438\n",
      "Name:  GSM1101439\n"
     ]
    },
    {
     "name": "stderr",
     "output_type": "stream",
     "text": [
      "/var/folders/_1/dc2yd0kn325bph09grgy33lr0000gn/T/ipykernel_13719/3268267448.py:19: FutureWarning: Passing 'suffixes' which cause duplicate columns {'VALUE_x'} in the result is deprecated and will raise a MergeError in a future version.\n",
      "  df = pd.merge(df, gsm.table, on='ID_REF')\n"
     ]
    },
    {
     "name": "stdout",
     "output_type": "stream",
     "text": [
      "Name:  GSM1101440\n",
      "Name:  GSM1101441\n"
     ]
    },
    {
     "name": "stderr",
     "output_type": "stream",
     "text": [
      "/var/folders/_1/dc2yd0kn325bph09grgy33lr0000gn/T/ipykernel_13719/3268267448.py:19: FutureWarning: Passing 'suffixes' which cause duplicate columns {'VALUE_x'} in the result is deprecated and will raise a MergeError in a future version.\n",
      "  df = pd.merge(df, gsm.table, on='ID_REF')\n"
     ]
    },
    {
     "name": "stdout",
     "output_type": "stream",
     "text": [
      "Name:  GSM1101442\n",
      "Name:  GSM1101443\n"
     ]
    },
    {
     "name": "stderr",
     "output_type": "stream",
     "text": [
      "/var/folders/_1/dc2yd0kn325bph09grgy33lr0000gn/T/ipykernel_13719/3268267448.py:19: FutureWarning: Passing 'suffixes' which cause duplicate columns {'VALUE_x'} in the result is deprecated and will raise a MergeError in a future version.\n",
      "  df = pd.merge(df, gsm.table, on='ID_REF')\n"
     ]
    },
    {
     "name": "stdout",
     "output_type": "stream",
     "text": [
      "Name:  GSM1101444\n",
      "Name:  GSM1101445\n"
     ]
    },
    {
     "name": "stderr",
     "output_type": "stream",
     "text": [
      "/var/folders/_1/dc2yd0kn325bph09grgy33lr0000gn/T/ipykernel_13719/3268267448.py:19: FutureWarning: Passing 'suffixes' which cause duplicate columns {'VALUE_x'} in the result is deprecated and will raise a MergeError in a future version.\n",
      "  df = pd.merge(df, gsm.table, on='ID_REF')\n"
     ]
    },
    {
     "name": "stdout",
     "output_type": "stream",
     "text": [
      "Name:  GSM1101446\n",
      "Name:  GSM1101447\n"
     ]
    },
    {
     "name": "stderr",
     "output_type": "stream",
     "text": [
      "/var/folders/_1/dc2yd0kn325bph09grgy33lr0000gn/T/ipykernel_13719/3268267448.py:19: FutureWarning: Passing 'suffixes' which cause duplicate columns {'VALUE_x'} in the result is deprecated and will raise a MergeError in a future version.\n",
      "  df = pd.merge(df, gsm.table, on='ID_REF')\n"
     ]
    },
    {
     "name": "stdout",
     "output_type": "stream",
     "text": [
      "Name:  GSM1101448\n",
      "Name:  GSM1101449\n"
     ]
    },
    {
     "name": "stderr",
     "output_type": "stream",
     "text": [
      "/var/folders/_1/dc2yd0kn325bph09grgy33lr0000gn/T/ipykernel_13719/3268267448.py:19: FutureWarning: Passing 'suffixes' which cause duplicate columns {'VALUE_x'} in the result is deprecated and will raise a MergeError in a future version.\n",
      "  df = pd.merge(df, gsm.table, on='ID_REF')\n"
     ]
    },
    {
     "name": "stdout",
     "output_type": "stream",
     "text": [
      "Name:  GSM1101450\n"
     ]
    },
    {
     "name": "stderr",
     "output_type": "stream",
     "text": [
      "/var/folders/_1/dc2yd0kn325bph09grgy33lr0000gn/T/ipykernel_13719/3268267448.py:19: FutureWarning: Passing 'suffixes' which cause duplicate columns {'VALUE_x'} in the result is deprecated and will raise a MergeError in a future version.\n",
      "  df = pd.merge(df, gsm.table, on='ID_REF')\n"
     ]
    },
    {
     "name": "stdout",
     "output_type": "stream",
     "text": [
      "Name:  GSM1101451\n",
      "Name:  GSM1101452\n"
     ]
    },
    {
     "name": "stderr",
     "output_type": "stream",
     "text": [
      "/var/folders/_1/dc2yd0kn325bph09grgy33lr0000gn/T/ipykernel_13719/3268267448.py:19: FutureWarning: Passing 'suffixes' which cause duplicate columns {'VALUE_x'} in the result is deprecated and will raise a MergeError in a future version.\n",
      "  df = pd.merge(df, gsm.table, on='ID_REF')\n"
     ]
    },
    {
     "name": "stdout",
     "output_type": "stream",
     "text": [
      "Name:  GSM1101453\n",
      "Name:  GSM1101454\n"
     ]
    },
    {
     "name": "stderr",
     "output_type": "stream",
     "text": [
      "/var/folders/_1/dc2yd0kn325bph09grgy33lr0000gn/T/ipykernel_13719/3268267448.py:19: FutureWarning: Passing 'suffixes' which cause duplicate columns {'VALUE_x'} in the result is deprecated and will raise a MergeError in a future version.\n",
      "  df = pd.merge(df, gsm.table, on='ID_REF')\n"
     ]
    },
    {
     "name": "stdout",
     "output_type": "stream",
     "text": [
      "Name:  GSM1101455\n",
      "Name:  GSM1101456\n"
     ]
    },
    {
     "name": "stderr",
     "output_type": "stream",
     "text": [
      "/var/folders/_1/dc2yd0kn325bph09grgy33lr0000gn/T/ipykernel_13719/3268267448.py:19: FutureWarning: Passing 'suffixes' which cause duplicate columns {'VALUE_x'} in the result is deprecated and will raise a MergeError in a future version.\n",
      "  df = pd.merge(df, gsm.table, on='ID_REF')\n"
     ]
    },
    {
     "name": "stdout",
     "output_type": "stream",
     "text": [
      "Name:  GSM1101457\n",
      "Name:  GSM1101458\n"
     ]
    },
    {
     "name": "stderr",
     "output_type": "stream",
     "text": [
      "/var/folders/_1/dc2yd0kn325bph09grgy33lr0000gn/T/ipykernel_13719/3268267448.py:19: FutureWarning: Passing 'suffixes' which cause duplicate columns {'VALUE_x'} in the result is deprecated and will raise a MergeError in a future version.\n",
      "  df = pd.merge(df, gsm.table, on='ID_REF')\n"
     ]
    },
    {
     "name": "stdout",
     "output_type": "stream",
     "text": [
      "Name:  GSM1101459\n",
      "Name:  GSM1101460\n"
     ]
    },
    {
     "name": "stderr",
     "output_type": "stream",
     "text": [
      "/var/folders/_1/dc2yd0kn325bph09grgy33lr0000gn/T/ipykernel_13719/3268267448.py:19: FutureWarning: Passing 'suffixes' which cause duplicate columns {'VALUE_x'} in the result is deprecated and will raise a MergeError in a future version.\n",
      "  df = pd.merge(df, gsm.table, on='ID_REF')\n"
     ]
    },
    {
     "name": "stdout",
     "output_type": "stream",
     "text": [
      "Name:  GSM1101461\n",
      "Name:  GSM1101462\n"
     ]
    },
    {
     "name": "stderr",
     "output_type": "stream",
     "text": [
      "/var/folders/_1/dc2yd0kn325bph09grgy33lr0000gn/T/ipykernel_13719/3268267448.py:19: FutureWarning: Passing 'suffixes' which cause duplicate columns {'VALUE_x'} in the result is deprecated and will raise a MergeError in a future version.\n",
      "  df = pd.merge(df, gsm.table, on='ID_REF')\n"
     ]
    },
    {
     "name": "stdout",
     "output_type": "stream",
     "text": [
      "Name:  GSM1101463\n",
      "Name:  GSM1101464\n"
     ]
    },
    {
     "name": "stderr",
     "output_type": "stream",
     "text": [
      "/var/folders/_1/dc2yd0kn325bph09grgy33lr0000gn/T/ipykernel_13719/3268267448.py:19: FutureWarning: Passing 'suffixes' which cause duplicate columns {'VALUE_x'} in the result is deprecated and will raise a MergeError in a future version.\n",
      "  df = pd.merge(df, gsm.table, on='ID_REF')\n"
     ]
    },
    {
     "name": "stdout",
     "output_type": "stream",
     "text": [
      "Name:  GSM1101465\n",
      "Name:  GSM1101466\n"
     ]
    },
    {
     "name": "stderr",
     "output_type": "stream",
     "text": [
      "/var/folders/_1/dc2yd0kn325bph09grgy33lr0000gn/T/ipykernel_13719/3268267448.py:19: FutureWarning: Passing 'suffixes' which cause duplicate columns {'VALUE_x'} in the result is deprecated and will raise a MergeError in a future version.\n",
      "  df = pd.merge(df, gsm.table, on='ID_REF')\n"
     ]
    },
    {
     "name": "stdout",
     "output_type": "stream",
     "text": [
      "Name:  GSM1101467\n",
      "Name:  GSM1101468\n"
     ]
    },
    {
     "name": "stderr",
     "output_type": "stream",
     "text": [
      "/var/folders/_1/dc2yd0kn325bph09grgy33lr0000gn/T/ipykernel_13719/3268267448.py:19: FutureWarning: Passing 'suffixes' which cause duplicate columns {'VALUE_x'} in the result is deprecated and will raise a MergeError in a future version.\n",
      "  df = pd.merge(df, gsm.table, on='ID_REF')\n"
     ]
    },
    {
     "name": "stdout",
     "output_type": "stream",
     "text": [
      "Name:  GSM1101469\n",
      "Name:  GSM1101470\n"
     ]
    },
    {
     "name": "stderr",
     "output_type": "stream",
     "text": [
      "/var/folders/_1/dc2yd0kn325bph09grgy33lr0000gn/T/ipykernel_13719/3268267448.py:19: FutureWarning: Passing 'suffixes' which cause duplicate columns {'VALUE_x'} in the result is deprecated and will raise a MergeError in a future version.\n",
      "  df = pd.merge(df, gsm.table, on='ID_REF')\n"
     ]
    },
    {
     "name": "stdout",
     "output_type": "stream",
     "text": [
      "Name:  GSM1101471\n",
      "Name:  GSM1101472\n"
     ]
    },
    {
     "name": "stderr",
     "output_type": "stream",
     "text": [
      "/var/folders/_1/dc2yd0kn325bph09grgy33lr0000gn/T/ipykernel_13719/3268267448.py:19: FutureWarning: Passing 'suffixes' which cause duplicate columns {'VALUE_x'} in the result is deprecated and will raise a MergeError in a future version.\n",
      "  df = pd.merge(df, gsm.table, on='ID_REF')\n"
     ]
    },
    {
     "name": "stdout",
     "output_type": "stream",
     "text": [
      "Name:  GSM1101473\n",
      "Name:  GSM1101474\n"
     ]
    },
    {
     "name": "stderr",
     "output_type": "stream",
     "text": [
      "/var/folders/_1/dc2yd0kn325bph09grgy33lr0000gn/T/ipykernel_13719/3268267448.py:19: FutureWarning: Passing 'suffixes' which cause duplicate columns {'VALUE_x'} in the result is deprecated and will raise a MergeError in a future version.\n",
      "  df = pd.merge(df, gsm.table, on='ID_REF')\n"
     ]
    },
    {
     "name": "stdout",
     "output_type": "stream",
     "text": [
      "Name:  GSM1101475\n",
      "Name:  GSM1101476\n"
     ]
    },
    {
     "name": "stderr",
     "output_type": "stream",
     "text": [
      "/var/folders/_1/dc2yd0kn325bph09grgy33lr0000gn/T/ipykernel_13719/3268267448.py:19: FutureWarning: Passing 'suffixes' which cause duplicate columns {'VALUE_x'} in the result is deprecated and will raise a MergeError in a future version.\n",
      "  df = pd.merge(df, gsm.table, on='ID_REF')\n"
     ]
    },
    {
     "name": "stdout",
     "output_type": "stream",
     "text": [
      "Name:  GSM1101477\n",
      "Name:  GSM1101478\n"
     ]
    },
    {
     "name": "stderr",
     "output_type": "stream",
     "text": [
      "/var/folders/_1/dc2yd0kn325bph09grgy33lr0000gn/T/ipykernel_13719/3268267448.py:19: FutureWarning: Passing 'suffixes' which cause duplicate columns {'VALUE_x'} in the result is deprecated and will raise a MergeError in a future version.\n",
      "  df = pd.merge(df, gsm.table, on='ID_REF')\n"
     ]
    },
    {
     "name": "stdout",
     "output_type": "stream",
     "text": [
      "Name:  GSM1101479\n",
      "Name:  GSM1101480\n"
     ]
    },
    {
     "name": "stderr",
     "output_type": "stream",
     "text": [
      "/var/folders/_1/dc2yd0kn325bph09grgy33lr0000gn/T/ipykernel_13719/3268267448.py:19: FutureWarning: Passing 'suffixes' which cause duplicate columns {'VALUE_x'} in the result is deprecated and will raise a MergeError in a future version.\n",
      "  df = pd.merge(df, gsm.table, on='ID_REF')\n"
     ]
    },
    {
     "name": "stdout",
     "output_type": "stream",
     "text": [
      "Name:  GSM1101481\n",
      "Name:  GSM1101482\n"
     ]
    },
    {
     "name": "stderr",
     "output_type": "stream",
     "text": [
      "/var/folders/_1/dc2yd0kn325bph09grgy33lr0000gn/T/ipykernel_13719/3268267448.py:19: FutureWarning: Passing 'suffixes' which cause duplicate columns {'VALUE_x'} in the result is deprecated and will raise a MergeError in a future version.\n",
      "  df = pd.merge(df, gsm.table, on='ID_REF')\n"
     ]
    },
    {
     "name": "stdout",
     "output_type": "stream",
     "text": [
      "Name:  GSM1101483\n",
      "Name:  GSM1101484\n"
     ]
    },
    {
     "name": "stderr",
     "output_type": "stream",
     "text": [
      "/var/folders/_1/dc2yd0kn325bph09grgy33lr0000gn/T/ipykernel_13719/3268267448.py:19: FutureWarning: Passing 'suffixes' which cause duplicate columns {'VALUE_x'} in the result is deprecated and will raise a MergeError in a future version.\n",
      "  df = pd.merge(df, gsm.table, on='ID_REF')\n"
     ]
    },
    {
     "name": "stdout",
     "output_type": "stream",
     "text": [
      "Name:  GSM1101485\n",
      "Name:  GSM1101486\n"
     ]
    },
    {
     "name": "stderr",
     "output_type": "stream",
     "text": [
      "/var/folders/_1/dc2yd0kn325bph09grgy33lr0000gn/T/ipykernel_13719/3268267448.py:19: FutureWarning: Passing 'suffixes' which cause duplicate columns {'VALUE_x'} in the result is deprecated and will raise a MergeError in a future version.\n",
      "  df = pd.merge(df, gsm.table, on='ID_REF')\n"
     ]
    },
    {
     "name": "stdout",
     "output_type": "stream",
     "text": [
      "Name:  GSM1101487\n",
      "Name:  GSM1101488\n"
     ]
    },
    {
     "name": "stderr",
     "output_type": "stream",
     "text": [
      "/var/folders/_1/dc2yd0kn325bph09grgy33lr0000gn/T/ipykernel_13719/3268267448.py:19: FutureWarning: Passing 'suffixes' which cause duplicate columns {'VALUE_x'} in the result is deprecated and will raise a MergeError in a future version.\n",
      "  df = pd.merge(df, gsm.table, on='ID_REF')\n"
     ]
    },
    {
     "name": "stdout",
     "output_type": "stream",
     "text": [
      "Name:  GSM1101489\n",
      "Name:  GSM1101490\n"
     ]
    },
    {
     "name": "stderr",
     "output_type": "stream",
     "text": [
      "/var/folders/_1/dc2yd0kn325bph09grgy33lr0000gn/T/ipykernel_13719/3268267448.py:19: FutureWarning: Passing 'suffixes' which cause duplicate columns {'VALUE_x'} in the result is deprecated and will raise a MergeError in a future version.\n",
      "  df = pd.merge(df, gsm.table, on='ID_REF')\n"
     ]
    },
    {
     "name": "stdout",
     "output_type": "stream",
     "text": [
      "Name:  GSM1101491\n",
      "Name:  GSM1101492\n"
     ]
    },
    {
     "name": "stderr",
     "output_type": "stream",
     "text": [
      "/var/folders/_1/dc2yd0kn325bph09grgy33lr0000gn/T/ipykernel_13719/3268267448.py:19: FutureWarning: Passing 'suffixes' which cause duplicate columns {'VALUE_x'} in the result is deprecated and will raise a MergeError in a future version.\n",
      "  df = pd.merge(df, gsm.table, on='ID_REF')\n"
     ]
    },
    {
     "name": "stdout",
     "output_type": "stream",
     "text": [
      "Name:  GSM1101493\n",
      "Name:  GSM1101494\n"
     ]
    },
    {
     "name": "stderr",
     "output_type": "stream",
     "text": [
      "/var/folders/_1/dc2yd0kn325bph09grgy33lr0000gn/T/ipykernel_13719/3268267448.py:19: FutureWarning: Passing 'suffixes' which cause duplicate columns {'VALUE_x'} in the result is deprecated and will raise a MergeError in a future version.\n",
      "  df = pd.merge(df, gsm.table, on='ID_REF')\n"
     ]
    },
    {
     "name": "stdout",
     "output_type": "stream",
     "text": [
      "Name:  GSM1101495\n",
      "Name:  GSM1101496\n"
     ]
    },
    {
     "name": "stderr",
     "output_type": "stream",
     "text": [
      "/var/folders/_1/dc2yd0kn325bph09grgy33lr0000gn/T/ipykernel_13719/3268267448.py:19: FutureWarning: Passing 'suffixes' which cause duplicate columns {'VALUE_x'} in the result is deprecated and will raise a MergeError in a future version.\n",
      "  df = pd.merge(df, gsm.table, on='ID_REF')\n"
     ]
    },
    {
     "name": "stdout",
     "output_type": "stream",
     "text": [
      "Name:  GSM1101497\n",
      "Name:  GSM1101498\n"
     ]
    },
    {
     "name": "stderr",
     "output_type": "stream",
     "text": [
      "/var/folders/_1/dc2yd0kn325bph09grgy33lr0000gn/T/ipykernel_13719/3268267448.py:19: FutureWarning: Passing 'suffixes' which cause duplicate columns {'VALUE_x'} in the result is deprecated and will raise a MergeError in a future version.\n",
      "  df = pd.merge(df, gsm.table, on='ID_REF')\n"
     ]
    },
    {
     "name": "stdout",
     "output_type": "stream",
     "text": [
      "Name:  GSM1101499\n",
      "Name:  GSM1101500\n"
     ]
    },
    {
     "name": "stderr",
     "output_type": "stream",
     "text": [
      "/var/folders/_1/dc2yd0kn325bph09grgy33lr0000gn/T/ipykernel_13719/3268267448.py:19: FutureWarning: Passing 'suffixes' which cause duplicate columns {'VALUE_x'} in the result is deprecated and will raise a MergeError in a future version.\n",
      "  df = pd.merge(df, gsm.table, on='ID_REF')\n"
     ]
    },
    {
     "name": "stdout",
     "output_type": "stream",
     "text": [
      "Name:  GSM1101501\n",
      "Name:  GSM1101502\n"
     ]
    },
    {
     "name": "stderr",
     "output_type": "stream",
     "text": [
      "/var/folders/_1/dc2yd0kn325bph09grgy33lr0000gn/T/ipykernel_13719/3268267448.py:19: FutureWarning: Passing 'suffixes' which cause duplicate columns {'VALUE_x'} in the result is deprecated and will raise a MergeError in a future version.\n",
      "  df = pd.merge(df, gsm.table, on='ID_REF')\n"
     ]
    },
    {
     "name": "stdout",
     "output_type": "stream",
     "text": [
      "Name:  GSM1101503\n",
      "Name:  GSM1101504\n"
     ]
    },
    {
     "name": "stderr",
     "output_type": "stream",
     "text": [
      "/var/folders/_1/dc2yd0kn325bph09grgy33lr0000gn/T/ipykernel_13719/3268267448.py:19: FutureWarning: Passing 'suffixes' which cause duplicate columns {'VALUE_x'} in the result is deprecated and will raise a MergeError in a future version.\n",
      "  df = pd.merge(df, gsm.table, on='ID_REF')\n"
     ]
    },
    {
     "name": "stdout",
     "output_type": "stream",
     "text": [
      "Name:  GSM1101505\n",
      "Name:  GSM1101506\n"
     ]
    },
    {
     "name": "stderr",
     "output_type": "stream",
     "text": [
      "/var/folders/_1/dc2yd0kn325bph09grgy33lr0000gn/T/ipykernel_13719/3268267448.py:19: FutureWarning: Passing 'suffixes' which cause duplicate columns {'VALUE_x'} in the result is deprecated and will raise a MergeError in a future version.\n",
      "  df = pd.merge(df, gsm.table, on='ID_REF')\n"
     ]
    },
    {
     "name": "stdout",
     "output_type": "stream",
     "text": [
      "Name:  GSM1101507\n",
      "Name:  GSM1101508\n"
     ]
    },
    {
     "name": "stderr",
     "output_type": "stream",
     "text": [
      "/var/folders/_1/dc2yd0kn325bph09grgy33lr0000gn/T/ipykernel_13719/3268267448.py:19: FutureWarning: Passing 'suffixes' which cause duplicate columns {'VALUE_x'} in the result is deprecated and will raise a MergeError in a future version.\n",
      "  df = pd.merge(df, gsm.table, on='ID_REF')\n"
     ]
    },
    {
     "name": "stdout",
     "output_type": "stream",
     "text": [
      "Name:  GSM1101509\n",
      "Name:  GSM1101510\n"
     ]
    },
    {
     "name": "stderr",
     "output_type": "stream",
     "text": [
      "/var/folders/_1/dc2yd0kn325bph09grgy33lr0000gn/T/ipykernel_13719/3268267448.py:19: FutureWarning: Passing 'suffixes' which cause duplicate columns {'VALUE_x'} in the result is deprecated and will raise a MergeError in a future version.\n",
      "  df = pd.merge(df, gsm.table, on='ID_REF')\n"
     ]
    },
    {
     "name": "stdout",
     "output_type": "stream",
     "text": [
      "Name:  GSM1101511\n",
      "Name:  GSM1101512\n"
     ]
    },
    {
     "name": "stderr",
     "output_type": "stream",
     "text": [
      "/var/folders/_1/dc2yd0kn325bph09grgy33lr0000gn/T/ipykernel_13719/3268267448.py:19: FutureWarning: Passing 'suffixes' which cause duplicate columns {'VALUE_x'} in the result is deprecated and will raise a MergeError in a future version.\n",
      "  df = pd.merge(df, gsm.table, on='ID_REF')\n"
     ]
    },
    {
     "name": "stdout",
     "output_type": "stream",
     "text": [
      "Name:  GSM1101513\n",
      "Name:  GSM1101514\n"
     ]
    },
    {
     "name": "stderr",
     "output_type": "stream",
     "text": [
      "/var/folders/_1/dc2yd0kn325bph09grgy33lr0000gn/T/ipykernel_13719/3268267448.py:19: FutureWarning: Passing 'suffixes' which cause duplicate columns {'VALUE_x'} in the result is deprecated and will raise a MergeError in a future version.\n",
      "  df = pd.merge(df, gsm.table, on='ID_REF')\n"
     ]
    },
    {
     "name": "stdout",
     "output_type": "stream",
     "text": [
      "Name:  GSM1101515\n",
      "Name:  GSM1101516\n"
     ]
    },
    {
     "name": "stderr",
     "output_type": "stream",
     "text": [
      "/var/folders/_1/dc2yd0kn325bph09grgy33lr0000gn/T/ipykernel_13719/3268267448.py:19: FutureWarning: Passing 'suffixes' which cause duplicate columns {'VALUE_x'} in the result is deprecated and will raise a MergeError in a future version.\n",
      "  df = pd.merge(df, gsm.table, on='ID_REF')\n"
     ]
    },
    {
     "name": "stdout",
     "output_type": "stream",
     "text": [
      "Name:  GSM1101517\n",
      "Name:  GSM1101518\n"
     ]
    },
    {
     "name": "stderr",
     "output_type": "stream",
     "text": [
      "/var/folders/_1/dc2yd0kn325bph09grgy33lr0000gn/T/ipykernel_13719/3268267448.py:19: FutureWarning: Passing 'suffixes' which cause duplicate columns {'VALUE_x'} in the result is deprecated and will raise a MergeError in a future version.\n",
      "  df = pd.merge(df, gsm.table, on='ID_REF')\n"
     ]
    },
    {
     "name": "stdout",
     "output_type": "stream",
     "text": [
      "Name:  GSM1101519\n",
      "Name:  GSM1101520\n"
     ]
    },
    {
     "name": "stderr",
     "output_type": "stream",
     "text": [
      "/var/folders/_1/dc2yd0kn325bph09grgy33lr0000gn/T/ipykernel_13719/3268267448.py:19: FutureWarning: Passing 'suffixes' which cause duplicate columns {'VALUE_x'} in the result is deprecated and will raise a MergeError in a future version.\n",
      "  df = pd.merge(df, gsm.table, on='ID_REF')\n"
     ]
    },
    {
     "name": "stdout",
     "output_type": "stream",
     "text": [
      "Name:  GSM1101521\n",
      "Name:  GSM1101522\n"
     ]
    },
    {
     "name": "stderr",
     "output_type": "stream",
     "text": [
      "/var/folders/_1/dc2yd0kn325bph09grgy33lr0000gn/T/ipykernel_13719/3268267448.py:19: FutureWarning: Passing 'suffixes' which cause duplicate columns {'VALUE_x'} in the result is deprecated and will raise a MergeError in a future version.\n",
      "  df = pd.merge(df, gsm.table, on='ID_REF')\n"
     ]
    },
    {
     "name": "stdout",
     "output_type": "stream",
     "text": [
      "Name:  GSM1101523\n",
      "Name:  GSM1101524\n"
     ]
    },
    {
     "name": "stderr",
     "output_type": "stream",
     "text": [
      "/var/folders/_1/dc2yd0kn325bph09grgy33lr0000gn/T/ipykernel_13719/3268267448.py:19: FutureWarning: Passing 'suffixes' which cause duplicate columns {'VALUE_x'} in the result is deprecated and will raise a MergeError in a future version.\n",
      "  df = pd.merge(df, gsm.table, on='ID_REF')\n"
     ]
    },
    {
     "name": "stdout",
     "output_type": "stream",
     "text": [
      "Name:  GSM1101525\n",
      "Name:  GSM1101526\n"
     ]
    },
    {
     "name": "stderr",
     "output_type": "stream",
     "text": [
      "/var/folders/_1/dc2yd0kn325bph09grgy33lr0000gn/T/ipykernel_13719/3268267448.py:19: FutureWarning: Passing 'suffixes' which cause duplicate columns {'VALUE_x'} in the result is deprecated and will raise a MergeError in a future version.\n",
      "  df = pd.merge(df, gsm.table, on='ID_REF')\n"
     ]
    },
    {
     "name": "stdout",
     "output_type": "stream",
     "text": [
      "Name:  GSM1101527\n",
      "Name:  GSM1101528\n"
     ]
    },
    {
     "name": "stderr",
     "output_type": "stream",
     "text": [
      "/var/folders/_1/dc2yd0kn325bph09grgy33lr0000gn/T/ipykernel_13719/3268267448.py:19: FutureWarning: Passing 'suffixes' which cause duplicate columns {'VALUE_x'} in the result is deprecated and will raise a MergeError in a future version.\n",
      "  df = pd.merge(df, gsm.table, on='ID_REF')\n"
     ]
    },
    {
     "name": "stdout",
     "output_type": "stream",
     "text": [
      "Name:  GSM1101529\n",
      "Name:  GSM1101530\n"
     ]
    },
    {
     "name": "stderr",
     "output_type": "stream",
     "text": [
      "/var/folders/_1/dc2yd0kn325bph09grgy33lr0000gn/T/ipykernel_13719/3268267448.py:19: FutureWarning: Passing 'suffixes' which cause duplicate columns {'VALUE_x'} in the result is deprecated and will raise a MergeError in a future version.\n",
      "  df = pd.merge(df, gsm.table, on='ID_REF')\n"
     ]
    },
    {
     "name": "stdout",
     "output_type": "stream",
     "text": [
      "Name:  GSM1101531\n",
      "Name:  GSM1101532\n"
     ]
    },
    {
     "name": "stderr",
     "output_type": "stream",
     "text": [
      "/var/folders/_1/dc2yd0kn325bph09grgy33lr0000gn/T/ipykernel_13719/3268267448.py:19: FutureWarning: Passing 'suffixes' which cause duplicate columns {'VALUE_x'} in the result is deprecated and will raise a MergeError in a future version.\n",
      "  df = pd.merge(df, gsm.table, on='ID_REF')\n"
     ]
    },
    {
     "name": "stdout",
     "output_type": "stream",
     "text": [
      "Name:  GSM1101533\n",
      "Name:  GSM1101534\n"
     ]
    },
    {
     "name": "stderr",
     "output_type": "stream",
     "text": [
      "/var/folders/_1/dc2yd0kn325bph09grgy33lr0000gn/T/ipykernel_13719/3268267448.py:19: FutureWarning: Passing 'suffixes' which cause duplicate columns {'VALUE_x'} in the result is deprecated and will raise a MergeError in a future version.\n",
      "  df = pd.merge(df, gsm.table, on='ID_REF')\n"
     ]
    },
    {
     "name": "stdout",
     "output_type": "stream",
     "text": [
      "Name:  GSM1101535\n",
      "Name:  GSM1101536\n"
     ]
    },
    {
     "name": "stderr",
     "output_type": "stream",
     "text": [
      "/var/folders/_1/dc2yd0kn325bph09grgy33lr0000gn/T/ipykernel_13719/3268267448.py:19: FutureWarning: Passing 'suffixes' which cause duplicate columns {'VALUE_x'} in the result is deprecated and will raise a MergeError in a future version.\n",
      "  df = pd.merge(df, gsm.table, on='ID_REF')\n"
     ]
    },
    {
     "name": "stdout",
     "output_type": "stream",
     "text": [
      "Name:  GSM1101537\n",
      "Name:  GSM1101538\n"
     ]
    },
    {
     "name": "stderr",
     "output_type": "stream",
     "text": [
      "/var/folders/_1/dc2yd0kn325bph09grgy33lr0000gn/T/ipykernel_13719/3268267448.py:19: FutureWarning: Passing 'suffixes' which cause duplicate columns {'VALUE_x'} in the result is deprecated and will raise a MergeError in a future version.\n",
      "  df = pd.merge(df, gsm.table, on='ID_REF')\n"
     ]
    },
    {
     "name": "stdout",
     "output_type": "stream",
     "text": [
      "Name:  GSM1101539\n",
      "Name:  GSM1101540\n"
     ]
    },
    {
     "name": "stderr",
     "output_type": "stream",
     "text": [
      "/var/folders/_1/dc2yd0kn325bph09grgy33lr0000gn/T/ipykernel_13719/3268267448.py:19: FutureWarning: Passing 'suffixes' which cause duplicate columns {'VALUE_x'} in the result is deprecated and will raise a MergeError in a future version.\n",
      "  df = pd.merge(df, gsm.table, on='ID_REF')\n"
     ]
    },
    {
     "name": "stdout",
     "output_type": "stream",
     "text": [
      "Name:  GSM1101541\n",
      "Name:  GSM1101542\n"
     ]
    },
    {
     "name": "stderr",
     "output_type": "stream",
     "text": [
      "/var/folders/_1/dc2yd0kn325bph09grgy33lr0000gn/T/ipykernel_13719/3268267448.py:19: FutureWarning: Passing 'suffixes' which cause duplicate columns {'VALUE_x'} in the result is deprecated and will raise a MergeError in a future version.\n",
      "  df = pd.merge(df, gsm.table, on='ID_REF')\n"
     ]
    },
    {
     "name": "stdout",
     "output_type": "stream",
     "text": [
      "Name:  GSM1101543\n",
      "Name:  GSM1101544\n"
     ]
    },
    {
     "name": "stderr",
     "output_type": "stream",
     "text": [
      "/var/folders/_1/dc2yd0kn325bph09grgy33lr0000gn/T/ipykernel_13719/3268267448.py:19: FutureWarning: Passing 'suffixes' which cause duplicate columns {'VALUE_x'} in the result is deprecated and will raise a MergeError in a future version.\n",
      "  df = pd.merge(df, gsm.table, on='ID_REF')\n"
     ]
    },
    {
     "name": "stdout",
     "output_type": "stream",
     "text": [
      "Name:  GSM1101545\n",
      "Name:  GSM1101546\n"
     ]
    },
    {
     "name": "stderr",
     "output_type": "stream",
     "text": [
      "/var/folders/_1/dc2yd0kn325bph09grgy33lr0000gn/T/ipykernel_13719/3268267448.py:19: FutureWarning: Passing 'suffixes' which cause duplicate columns {'VALUE_x'} in the result is deprecated and will raise a MergeError in a future version.\n",
      "  df = pd.merge(df, gsm.table, on='ID_REF')\n"
     ]
    },
    {
     "name": "stdout",
     "output_type": "stream",
     "text": [
      "Name:  GSM1101547\n",
      "Name:  GSM1101548\n"
     ]
    },
    {
     "name": "stderr",
     "output_type": "stream",
     "text": [
      "/var/folders/_1/dc2yd0kn325bph09grgy33lr0000gn/T/ipykernel_13719/3268267448.py:19: FutureWarning: Passing 'suffixes' which cause duplicate columns {'VALUE_x'} in the result is deprecated and will raise a MergeError in a future version.\n",
      "  df = pd.merge(df, gsm.table, on='ID_REF')\n"
     ]
    },
    {
     "name": "stdout",
     "output_type": "stream",
     "text": [
      "Name:  GSM1101549\n",
      "Name:  GSM1101550\n"
     ]
    },
    {
     "name": "stderr",
     "output_type": "stream",
     "text": [
      "/var/folders/_1/dc2yd0kn325bph09grgy33lr0000gn/T/ipykernel_13719/3268267448.py:19: FutureWarning: Passing 'suffixes' which cause duplicate columns {'VALUE_x'} in the result is deprecated and will raise a MergeError in a future version.\n",
      "  df = pd.merge(df, gsm.table, on='ID_REF')\n"
     ]
    },
    {
     "name": "stdout",
     "output_type": "stream",
     "text": [
      "Name:  GSM1101551\n",
      "Name:  GSM1101552\n"
     ]
    },
    {
     "name": "stderr",
     "output_type": "stream",
     "text": [
      "/var/folders/_1/dc2yd0kn325bph09grgy33lr0000gn/T/ipykernel_13719/3268267448.py:19: FutureWarning: Passing 'suffixes' which cause duplicate columns {'VALUE_x'} in the result is deprecated and will raise a MergeError in a future version.\n",
      "  df = pd.merge(df, gsm.table, on='ID_REF')\n"
     ]
    },
    {
     "name": "stdout",
     "output_type": "stream",
     "text": [
      "Name:  GSM1101553\n",
      "Name:  GSM1101554\n"
     ]
    },
    {
     "name": "stderr",
     "output_type": "stream",
     "text": [
      "/var/folders/_1/dc2yd0kn325bph09grgy33lr0000gn/T/ipykernel_13719/3268267448.py:19: FutureWarning: Passing 'suffixes' which cause duplicate columns {'VALUE_x'} in the result is deprecated and will raise a MergeError in a future version.\n",
      "  df = pd.merge(df, gsm.table, on='ID_REF')\n"
     ]
    },
    {
     "name": "stdout",
     "output_type": "stream",
     "text": [
      "Name:  GSM1101555\n",
      "Name:  GSM1101556\n"
     ]
    },
    {
     "name": "stderr",
     "output_type": "stream",
     "text": [
      "/var/folders/_1/dc2yd0kn325bph09grgy33lr0000gn/T/ipykernel_13719/3268267448.py:19: FutureWarning: Passing 'suffixes' which cause duplicate columns {'VALUE_x'} in the result is deprecated and will raise a MergeError in a future version.\n",
      "  df = pd.merge(df, gsm.table, on='ID_REF')\n"
     ]
    },
    {
     "name": "stdout",
     "output_type": "stream",
     "text": [
      "Name:  GSM1101557\n",
      "Name:  GSM1101558\n"
     ]
    },
    {
     "name": "stderr",
     "output_type": "stream",
     "text": [
      "/var/folders/_1/dc2yd0kn325bph09grgy33lr0000gn/T/ipykernel_13719/3268267448.py:19: FutureWarning: Passing 'suffixes' which cause duplicate columns {'VALUE_x'} in the result is deprecated and will raise a MergeError in a future version.\n",
      "  df = pd.merge(df, gsm.table, on='ID_REF')\n"
     ]
    },
    {
     "name": "stdout",
     "output_type": "stream",
     "text": [
      "Name:  GSM1101559\n",
      "Name:  GSM1101560\n"
     ]
    },
    {
     "name": "stderr",
     "output_type": "stream",
     "text": [
      "/var/folders/_1/dc2yd0kn325bph09grgy33lr0000gn/T/ipykernel_13719/3268267448.py:19: FutureWarning: Passing 'suffixes' which cause duplicate columns {'VALUE_x'} in the result is deprecated and will raise a MergeError in a future version.\n",
      "  df = pd.merge(df, gsm.table, on='ID_REF')\n"
     ]
    },
    {
     "name": "stdout",
     "output_type": "stream",
     "text": [
      "Name:  GSM1101561\n",
      "Name:  GSM1101562\n"
     ]
    },
    {
     "name": "stderr",
     "output_type": "stream",
     "text": [
      "/var/folders/_1/dc2yd0kn325bph09grgy33lr0000gn/T/ipykernel_13719/3268267448.py:19: FutureWarning: Passing 'suffixes' which cause duplicate columns {'VALUE_x'} in the result is deprecated and will raise a MergeError in a future version.\n",
      "  df = pd.merge(df, gsm.table, on='ID_REF')\n"
     ]
    },
    {
     "name": "stdout",
     "output_type": "stream",
     "text": [
      "Name:  GSM1101563\n",
      "Name:  GSM1101564\n"
     ]
    },
    {
     "name": "stderr",
     "output_type": "stream",
     "text": [
      "/var/folders/_1/dc2yd0kn325bph09grgy33lr0000gn/T/ipykernel_13719/3268267448.py:19: FutureWarning: Passing 'suffixes' which cause duplicate columns {'VALUE_x'} in the result is deprecated and will raise a MergeError in a future version.\n",
      "  df = pd.merge(df, gsm.table, on='ID_REF')\n"
     ]
    },
    {
     "name": "stdout",
     "output_type": "stream",
     "text": [
      "Name:  GSM1101565\n",
      "Name:  GSM1101566\n"
     ]
    },
    {
     "name": "stderr",
     "output_type": "stream",
     "text": [
      "/var/folders/_1/dc2yd0kn325bph09grgy33lr0000gn/T/ipykernel_13719/3268267448.py:19: FutureWarning: Passing 'suffixes' which cause duplicate columns {'VALUE_x'} in the result is deprecated and will raise a MergeError in a future version.\n",
      "  df = pd.merge(df, gsm.table, on='ID_REF')\n"
     ]
    },
    {
     "name": "stdout",
     "output_type": "stream",
     "text": [
      "Name:  GSM1101567\n",
      "Name:  GSM1101568\n"
     ]
    },
    {
     "name": "stderr",
     "output_type": "stream",
     "text": [
      "/var/folders/_1/dc2yd0kn325bph09grgy33lr0000gn/T/ipykernel_13719/3268267448.py:19: FutureWarning: Passing 'suffixes' which cause duplicate columns {'VALUE_x'} in the result is deprecated and will raise a MergeError in a future version.\n",
      "  df = pd.merge(df, gsm.table, on='ID_REF')\n"
     ]
    },
    {
     "name": "stdout",
     "output_type": "stream",
     "text": [
      "Name:  GSM1101569\n",
      "Name:  GSM1101570\n"
     ]
    },
    {
     "name": "stderr",
     "output_type": "stream",
     "text": [
      "/var/folders/_1/dc2yd0kn325bph09grgy33lr0000gn/T/ipykernel_13719/3268267448.py:19: FutureWarning: Passing 'suffixes' which cause duplicate columns {'VALUE_x'} in the result is deprecated and will raise a MergeError in a future version.\n",
      "  df = pd.merge(df, gsm.table, on='ID_REF')\n"
     ]
    },
    {
     "name": "stdout",
     "output_type": "stream",
     "text": [
      "Name:  GSM1101571\n",
      "Name:  GSM1101572\n"
     ]
    },
    {
     "name": "stderr",
     "output_type": "stream",
     "text": [
      "/var/folders/_1/dc2yd0kn325bph09grgy33lr0000gn/T/ipykernel_13719/3268267448.py:19: FutureWarning: Passing 'suffixes' which cause duplicate columns {'VALUE_x'} in the result is deprecated and will raise a MergeError in a future version.\n",
      "  df = pd.merge(df, gsm.table, on='ID_REF')\n"
     ]
    },
    {
     "name": "stdout",
     "output_type": "stream",
     "text": [
      "Name:  GSM1101573\n",
      "Name:  GSM1101574\n"
     ]
    },
    {
     "name": "stderr",
     "output_type": "stream",
     "text": [
      "/var/folders/_1/dc2yd0kn325bph09grgy33lr0000gn/T/ipykernel_13719/3268267448.py:19: FutureWarning: Passing 'suffixes' which cause duplicate columns {'VALUE_x'} in the result is deprecated and will raise a MergeError in a future version.\n",
      "  df = pd.merge(df, gsm.table, on='ID_REF')\n"
     ]
    },
    {
     "name": "stdout",
     "output_type": "stream",
     "text": [
      "Name:  GSM1101575\n",
      "Name:  GSM1101576\n"
     ]
    },
    {
     "name": "stderr",
     "output_type": "stream",
     "text": [
      "/var/folders/_1/dc2yd0kn325bph09grgy33lr0000gn/T/ipykernel_13719/3268267448.py:19: FutureWarning: Passing 'suffixes' which cause duplicate columns {'VALUE_x'} in the result is deprecated and will raise a MergeError in a future version.\n",
      "  df = pd.merge(df, gsm.table, on='ID_REF')\n"
     ]
    },
    {
     "name": "stdout",
     "output_type": "stream",
     "text": [
      "Name:  GSM1101577\n",
      "Name:  GSM1101578\n"
     ]
    },
    {
     "name": "stderr",
     "output_type": "stream",
     "text": [
      "/var/folders/_1/dc2yd0kn325bph09grgy33lr0000gn/T/ipykernel_13719/3268267448.py:19: FutureWarning: Passing 'suffixes' which cause duplicate columns {'VALUE_x'} in the result is deprecated and will raise a MergeError in a future version.\n",
      "  df = pd.merge(df, gsm.table, on='ID_REF')\n"
     ]
    },
    {
     "name": "stdout",
     "output_type": "stream",
     "text": [
      "Name:  GSM1101579\n",
      "Name:  GSM1101580\n",
      "Name:  GSM1101581\n"
     ]
    },
    {
     "name": "stderr",
     "output_type": "stream",
     "text": [
      "/var/folders/_1/dc2yd0kn325bph09grgy33lr0000gn/T/ipykernel_13719/3268267448.py:19: FutureWarning: Passing 'suffixes' which cause duplicate columns {'VALUE_x'} in the result is deprecated and will raise a MergeError in a future version.\n",
      "  df = pd.merge(df, gsm.table, on='ID_REF')\n"
     ]
    },
    {
     "name": "stdout",
     "output_type": "stream",
     "text": [
      "Name:  GSM1101582\n"
     ]
    },
    {
     "name": "stderr",
     "output_type": "stream",
     "text": [
      "/var/folders/_1/dc2yd0kn325bph09grgy33lr0000gn/T/ipykernel_13719/3268267448.py:19: FutureWarning: Passing 'suffixes' which cause duplicate columns {'VALUE_x'} in the result is deprecated and will raise a MergeError in a future version.\n",
      "  df = pd.merge(df, gsm.table, on='ID_REF')\n"
     ]
    },
    {
     "name": "stdout",
     "output_type": "stream",
     "text": [
      "Name:  GSM1101583\n",
      "Name:  GSM1101584\n"
     ]
    },
    {
     "name": "stderr",
     "output_type": "stream",
     "text": [
      "/var/folders/_1/dc2yd0kn325bph09grgy33lr0000gn/T/ipykernel_13719/3268267448.py:19: FutureWarning: Passing 'suffixes' which cause duplicate columns {'VALUE_x'} in the result is deprecated and will raise a MergeError in a future version.\n",
      "  df = pd.merge(df, gsm.table, on='ID_REF')\n"
     ]
    },
    {
     "name": "stdout",
     "output_type": "stream",
     "text": [
      "Name:  GSM1101585\n",
      "Name:  GSM1101586\n"
     ]
    },
    {
     "name": "stderr",
     "output_type": "stream",
     "text": [
      "/var/folders/_1/dc2yd0kn325bph09grgy33lr0000gn/T/ipykernel_13719/3268267448.py:19: FutureWarning: Passing 'suffixes' which cause duplicate columns {'VALUE_x'} in the result is deprecated and will raise a MergeError in a future version.\n",
      "  df = pd.merge(df, gsm.table, on='ID_REF')\n"
     ]
    },
    {
     "name": "stdout",
     "output_type": "stream",
     "text": [
      "Name:  GSM1101587\n",
      "Name:  GSM1101588\n"
     ]
    },
    {
     "name": "stderr",
     "output_type": "stream",
     "text": [
      "/var/folders/_1/dc2yd0kn325bph09grgy33lr0000gn/T/ipykernel_13719/3268267448.py:19: FutureWarning: Passing 'suffixes' which cause duplicate columns {'VALUE_x'} in the result is deprecated and will raise a MergeError in a future version.\n",
      "  df = pd.merge(df, gsm.table, on='ID_REF')\n"
     ]
    },
    {
     "name": "stdout",
     "output_type": "stream",
     "text": [
      "Name:  GSM1101589\n",
      "Name:  GSM1101590\n"
     ]
    },
    {
     "name": "stderr",
     "output_type": "stream",
     "text": [
      "/var/folders/_1/dc2yd0kn325bph09grgy33lr0000gn/T/ipykernel_13719/3268267448.py:19: FutureWarning: Passing 'suffixes' which cause duplicate columns {'VALUE_x'} in the result is deprecated and will raise a MergeError in a future version.\n",
      "  df = pd.merge(df, gsm.table, on='ID_REF')\n"
     ]
    },
    {
     "name": "stdout",
     "output_type": "stream",
     "text": [
      "Name:  GSM1101591\n",
      "Name:  GSM1101592\n",
      "Name:  GSM1101593\n"
     ]
    },
    {
     "name": "stderr",
     "output_type": "stream",
     "text": [
      "/var/folders/_1/dc2yd0kn325bph09grgy33lr0000gn/T/ipykernel_13719/3268267448.py:19: FutureWarning: Passing 'suffixes' which cause duplicate columns {'VALUE_x'} in the result is deprecated and will raise a MergeError in a future version.\n",
      "  df = pd.merge(df, gsm.table, on='ID_REF')\n"
     ]
    },
    {
     "name": "stdout",
     "output_type": "stream",
     "text": [
      "Name:  GSM1101594\n"
     ]
    },
    {
     "name": "stderr",
     "output_type": "stream",
     "text": [
      "/var/folders/_1/dc2yd0kn325bph09grgy33lr0000gn/T/ipykernel_13719/3268267448.py:19: FutureWarning: Passing 'suffixes' which cause duplicate columns {'VALUE_x'} in the result is deprecated and will raise a MergeError in a future version.\n",
      "  df = pd.merge(df, gsm.table, on='ID_REF')\n"
     ]
    },
    {
     "name": "stdout",
     "output_type": "stream",
     "text": [
      "Name:  GSM1101595\n",
      "Name:  GSM1101596\n"
     ]
    },
    {
     "name": "stderr",
     "output_type": "stream",
     "text": [
      "/var/folders/_1/dc2yd0kn325bph09grgy33lr0000gn/T/ipykernel_13719/3268267448.py:19: FutureWarning: Passing 'suffixes' which cause duplicate columns {'VALUE_x'} in the result is deprecated and will raise a MergeError in a future version.\n",
      "  df = pd.merge(df, gsm.table, on='ID_REF')\n"
     ]
    },
    {
     "name": "stdout",
     "output_type": "stream",
     "text": [
      "Name:  GSM1101597\n",
      "Name:  GSM1101598\n"
     ]
    },
    {
     "name": "stderr",
     "output_type": "stream",
     "text": [
      "/var/folders/_1/dc2yd0kn325bph09grgy33lr0000gn/T/ipykernel_13719/3268267448.py:19: FutureWarning: Passing 'suffixes' which cause duplicate columns {'VALUE_x'} in the result is deprecated and will raise a MergeError in a future version.\n",
      "  df = pd.merge(df, gsm.table, on='ID_REF')\n"
     ]
    },
    {
     "name": "stdout",
     "output_type": "stream",
     "text": [
      "Name:  GSM1101599\n",
      "Name:  GSM1101600\n"
     ]
    },
    {
     "name": "stderr",
     "output_type": "stream",
     "text": [
      "/var/folders/_1/dc2yd0kn325bph09grgy33lr0000gn/T/ipykernel_13719/3268267448.py:19: FutureWarning: Passing 'suffixes' which cause duplicate columns {'VALUE_x'} in the result is deprecated and will raise a MergeError in a future version.\n",
      "  df = pd.merge(df, gsm.table, on='ID_REF')\n"
     ]
    },
    {
     "name": "stdout",
     "output_type": "stream",
     "text": [
      "Name:  GSM1101601\n",
      "Name:  GSM1101602\n"
     ]
    },
    {
     "name": "stderr",
     "output_type": "stream",
     "text": [
      "/var/folders/_1/dc2yd0kn325bph09grgy33lr0000gn/T/ipykernel_13719/3268267448.py:19: FutureWarning: Passing 'suffixes' which cause duplicate columns {'VALUE_x'} in the result is deprecated and will raise a MergeError in a future version.\n",
      "  df = pd.merge(df, gsm.table, on='ID_REF')\n"
     ]
    },
    {
     "name": "stdout",
     "output_type": "stream",
     "text": [
      "Name:  GSM1101603\n",
      "Name:  GSM1101604\n"
     ]
    },
    {
     "name": "stderr",
     "output_type": "stream",
     "text": [
      "/var/folders/_1/dc2yd0kn325bph09grgy33lr0000gn/T/ipykernel_13719/3268267448.py:19: FutureWarning: Passing 'suffixes' which cause duplicate columns {'VALUE_x'} in the result is deprecated and will raise a MergeError in a future version.\n",
      "  df = pd.merge(df, gsm.table, on='ID_REF')\n"
     ]
    },
    {
     "name": "stdout",
     "output_type": "stream",
     "text": [
      "Name:  GSM1101605\n",
      "Name:  GSM1101606\n"
     ]
    },
    {
     "name": "stderr",
     "output_type": "stream",
     "text": [
      "/var/folders/_1/dc2yd0kn325bph09grgy33lr0000gn/T/ipykernel_13719/3268267448.py:19: FutureWarning: Passing 'suffixes' which cause duplicate columns {'VALUE_x'} in the result is deprecated and will raise a MergeError in a future version.\n",
      "  df = pd.merge(df, gsm.table, on='ID_REF')\n"
     ]
    },
    {
     "name": "stdout",
     "output_type": "stream",
     "text": [
      "Name:  GSM1101607\n",
      "Name:  GSM1101608\n",
      "Name:  GSM1101609\n"
     ]
    },
    {
     "name": "stderr",
     "output_type": "stream",
     "text": [
      "/var/folders/_1/dc2yd0kn325bph09grgy33lr0000gn/T/ipykernel_13719/3268267448.py:19: FutureWarning: Passing 'suffixes' which cause duplicate columns {'VALUE_x'} in the result is deprecated and will raise a MergeError in a future version.\n",
      "  df = pd.merge(df, gsm.table, on='ID_REF')\n"
     ]
    },
    {
     "name": "stdout",
     "output_type": "stream",
     "text": [
      "Name:  GSM1101610\n",
      "Name:  GSM1101611\n"
     ]
    },
    {
     "name": "stderr",
     "output_type": "stream",
     "text": [
      "/var/folders/_1/dc2yd0kn325bph09grgy33lr0000gn/T/ipykernel_13719/3268267448.py:19: FutureWarning: Passing 'suffixes' which cause duplicate columns {'VALUE_x'} in the result is deprecated and will raise a MergeError in a future version.\n",
      "  df = pd.merge(df, gsm.table, on='ID_REF')\n"
     ]
    },
    {
     "name": "stdout",
     "output_type": "stream",
     "text": [
      "Name:  GSM1101612\n",
      "Name:  GSM1101613\n"
     ]
    },
    {
     "name": "stderr",
     "output_type": "stream",
     "text": [
      "/var/folders/_1/dc2yd0kn325bph09grgy33lr0000gn/T/ipykernel_13719/3268267448.py:19: FutureWarning: Passing 'suffixes' which cause duplicate columns {'VALUE_x'} in the result is deprecated and will raise a MergeError in a future version.\n",
      "  df = pd.merge(df, gsm.table, on='ID_REF')\n"
     ]
    },
    {
     "name": "stdout",
     "output_type": "stream",
     "text": [
      "Name:  GSM1101614\n",
      "Name:  GSM1101615\n"
     ]
    },
    {
     "name": "stderr",
     "output_type": "stream",
     "text": [
      "/var/folders/_1/dc2yd0kn325bph09grgy33lr0000gn/T/ipykernel_13719/3268267448.py:19: FutureWarning: Passing 'suffixes' which cause duplicate columns {'VALUE_x'} in the result is deprecated and will raise a MergeError in a future version.\n",
      "  df = pd.merge(df, gsm.table, on='ID_REF')\n"
     ]
    },
    {
     "name": "stdout",
     "output_type": "stream",
     "text": [
      "Name:  GSM1101616\n"
     ]
    },
    {
     "name": "stderr",
     "output_type": "stream",
     "text": [
      "/var/folders/_1/dc2yd0kn325bph09grgy33lr0000gn/T/ipykernel_13719/3268267448.py:19: FutureWarning: Passing 'suffixes' which cause duplicate columns {'VALUE_x'} in the result is deprecated and will raise a MergeError in a future version.\n",
      "  df = pd.merge(df, gsm.table, on='ID_REF')\n"
     ]
    },
    {
     "name": "stdout",
     "output_type": "stream",
     "text": [
      "Name:  GSM1101617\n",
      "Name:  GSM1101618\n"
     ]
    },
    {
     "name": "stderr",
     "output_type": "stream",
     "text": [
      "/var/folders/_1/dc2yd0kn325bph09grgy33lr0000gn/T/ipykernel_13719/3268267448.py:19: FutureWarning: Passing 'suffixes' which cause duplicate columns {'VALUE_x'} in the result is deprecated and will raise a MergeError in a future version.\n",
      "  df = pd.merge(df, gsm.table, on='ID_REF')\n"
     ]
    },
    {
     "name": "stdout",
     "output_type": "stream",
     "text": [
      "Name:  GSM1101619\n",
      "Name:  GSM1101620\n"
     ]
    },
    {
     "name": "stderr",
     "output_type": "stream",
     "text": [
      "/var/folders/_1/dc2yd0kn325bph09grgy33lr0000gn/T/ipykernel_13719/3268267448.py:19: FutureWarning: Passing 'suffixes' which cause duplicate columns {'VALUE_x'} in the result is deprecated and will raise a MergeError in a future version.\n",
      "  df = pd.merge(df, gsm.table, on='ID_REF')\n"
     ]
    },
    {
     "name": "stdout",
     "output_type": "stream",
     "text": [
      "Name:  GSM1101621\n",
      "Name:  GSM1101622\n"
     ]
    },
    {
     "name": "stderr",
     "output_type": "stream",
     "text": [
      "/var/folders/_1/dc2yd0kn325bph09grgy33lr0000gn/T/ipykernel_13719/3268267448.py:19: FutureWarning: Passing 'suffixes' which cause duplicate columns {'VALUE_x'} in the result is deprecated and will raise a MergeError in a future version.\n",
      "  df = pd.merge(df, gsm.table, on='ID_REF')\n"
     ]
    },
    {
     "name": "stdout",
     "output_type": "stream",
     "text": [
      "Name:  GSM1101623\n",
      "Name:  GSM1101624\n"
     ]
    },
    {
     "name": "stderr",
     "output_type": "stream",
     "text": [
      "/var/folders/_1/dc2yd0kn325bph09grgy33lr0000gn/T/ipykernel_13719/3268267448.py:19: FutureWarning: Passing 'suffixes' which cause duplicate columns {'VALUE_x'} in the result is deprecated and will raise a MergeError in a future version.\n",
      "  df = pd.merge(df, gsm.table, on='ID_REF')\n"
     ]
    },
    {
     "name": "stdout",
     "output_type": "stream",
     "text": [
      "Name:  GSM1101625\n",
      "Name:  GSM1101626\n"
     ]
    },
    {
     "name": "stderr",
     "output_type": "stream",
     "text": [
      "/var/folders/_1/dc2yd0kn325bph09grgy33lr0000gn/T/ipykernel_13719/3268267448.py:19: FutureWarning: Passing 'suffixes' which cause duplicate columns {'VALUE_x'} in the result is deprecated and will raise a MergeError in a future version.\n",
      "  df = pd.merge(df, gsm.table, on='ID_REF')\n"
     ]
    },
    {
     "name": "stdout",
     "output_type": "stream",
     "text": [
      "Name:  GSM1101627\n",
      "Name:  GSM1101628\n"
     ]
    },
    {
     "name": "stderr",
     "output_type": "stream",
     "text": [
      "/var/folders/_1/dc2yd0kn325bph09grgy33lr0000gn/T/ipykernel_13719/3268267448.py:19: FutureWarning: Passing 'suffixes' which cause duplicate columns {'VALUE_x'} in the result is deprecated and will raise a MergeError in a future version.\n",
      "  df = pd.merge(df, gsm.table, on='ID_REF')\n"
     ]
    },
    {
     "name": "stdout",
     "output_type": "stream",
     "text": [
      "Name:  GSM1101629\n",
      "Name:  GSM1101630\n"
     ]
    },
    {
     "name": "stderr",
     "output_type": "stream",
     "text": [
      "/var/folders/_1/dc2yd0kn325bph09grgy33lr0000gn/T/ipykernel_13719/3268267448.py:19: FutureWarning: Passing 'suffixes' which cause duplicate columns {'VALUE_x'} in the result is deprecated and will raise a MergeError in a future version.\n",
      "  df = pd.merge(df, gsm.table, on='ID_REF')\n"
     ]
    },
    {
     "name": "stdout",
     "output_type": "stream",
     "text": [
      "Name:  GSM1101631\n",
      "Name:  GSM1101632\n"
     ]
    },
    {
     "name": "stderr",
     "output_type": "stream",
     "text": [
      "/var/folders/_1/dc2yd0kn325bph09grgy33lr0000gn/T/ipykernel_13719/3268267448.py:19: FutureWarning: Passing 'suffixes' which cause duplicate columns {'VALUE_x'} in the result is deprecated and will raise a MergeError in a future version.\n",
      "  df = pd.merge(df, gsm.table, on='ID_REF')\n"
     ]
    },
    {
     "name": "stdout",
     "output_type": "stream",
     "text": [
      "Name:  GSM1101633\n",
      "Name:  GSM1101634\n"
     ]
    },
    {
     "name": "stderr",
     "output_type": "stream",
     "text": [
      "/var/folders/_1/dc2yd0kn325bph09grgy33lr0000gn/T/ipykernel_13719/3268267448.py:19: FutureWarning: Passing 'suffixes' which cause duplicate columns {'VALUE_x'} in the result is deprecated and will raise a MergeError in a future version.\n",
      "  df = pd.merge(df, gsm.table, on='ID_REF')\n"
     ]
    },
    {
     "name": "stdout",
     "output_type": "stream",
     "text": [
      "Name:  GSM1101635\n",
      "Name:  GSM1101636\n"
     ]
    },
    {
     "name": "stderr",
     "output_type": "stream",
     "text": [
      "/var/folders/_1/dc2yd0kn325bph09grgy33lr0000gn/T/ipykernel_13719/3268267448.py:19: FutureWarning: Passing 'suffixes' which cause duplicate columns {'VALUE_x'} in the result is deprecated and will raise a MergeError in a future version.\n",
      "  df = pd.merge(df, gsm.table, on='ID_REF')\n"
     ]
    },
    {
     "name": "stdout",
     "output_type": "stream",
     "text": [
      "Name:  GSM1101637\n",
      "Name:  GSM1101638\n",
      "Name:  GSM1101639\n"
     ]
    },
    {
     "name": "stderr",
     "output_type": "stream",
     "text": [
      "/var/folders/_1/dc2yd0kn325bph09grgy33lr0000gn/T/ipykernel_13719/3268267448.py:19: FutureWarning: Passing 'suffixes' which cause duplicate columns {'VALUE_x'} in the result is deprecated and will raise a MergeError in a future version.\n",
      "  df = pd.merge(df, gsm.table, on='ID_REF')\n"
     ]
    },
    {
     "name": "stdout",
     "output_type": "stream",
     "text": [
      "Name:  GSM1101640\n",
      "Name:  GSM1101641\n"
     ]
    },
    {
     "name": "stderr",
     "output_type": "stream",
     "text": [
      "/var/folders/_1/dc2yd0kn325bph09grgy33lr0000gn/T/ipykernel_13719/3268267448.py:19: FutureWarning: Passing 'suffixes' which cause duplicate columns {'VALUE_x'} in the result is deprecated and will raise a MergeError in a future version.\n",
      "  df = pd.merge(df, gsm.table, on='ID_REF')\n"
     ]
    },
    {
     "name": "stdout",
     "output_type": "stream",
     "text": [
      "Name:  GSM1101642\n",
      "Name:  GSM1101643\n"
     ]
    },
    {
     "name": "stderr",
     "output_type": "stream",
     "text": [
      "/var/folders/_1/dc2yd0kn325bph09grgy33lr0000gn/T/ipykernel_13719/3268267448.py:19: FutureWarning: Passing 'suffixes' which cause duplicate columns {'VALUE_x'} in the result is deprecated and will raise a MergeError in a future version.\n",
      "  df = pd.merge(df, gsm.table, on='ID_REF')\n"
     ]
    },
    {
     "name": "stdout",
     "output_type": "stream",
     "text": [
      "Name:  GSM1101644\n"
     ]
    },
    {
     "name": "stderr",
     "output_type": "stream",
     "text": [
      "/var/folders/_1/dc2yd0kn325bph09grgy33lr0000gn/T/ipykernel_13719/3268267448.py:19: FutureWarning: Passing 'suffixes' which cause duplicate columns {'VALUE_x'} in the result is deprecated and will raise a MergeError in a future version.\n",
      "  df = pd.merge(df, gsm.table, on='ID_REF')\n"
     ]
    },
    {
     "name": "stdout",
     "output_type": "stream",
     "text": [
      "Name:  GSM1101645\n",
      "Name:  GSM1101646\n"
     ]
    },
    {
     "name": "stderr",
     "output_type": "stream",
     "text": [
      "/var/folders/_1/dc2yd0kn325bph09grgy33lr0000gn/T/ipykernel_13719/3268267448.py:19: FutureWarning: Passing 'suffixes' which cause duplicate columns {'VALUE_x'} in the result is deprecated and will raise a MergeError in a future version.\n",
      "  df = pd.merge(df, gsm.table, on='ID_REF')\n"
     ]
    },
    {
     "name": "stdout",
     "output_type": "stream",
     "text": [
      "Name:  GSM1101647\n",
      "805\n"
     ]
    }
   ],
   "source": [
    "print(\"GSM example:\")\n",
    "count = 0 \n",
    "N = None # number of samples \n",
    "df_tag = False \n",
    "for gsm_name, gsm in gse.gsms.items():\n",
    "    print(\"Name: \", gsm_name)\n",
    "    count+=1 \n",
    "    if not df_tag: \n",
    "        df = gsm.table \n",
    "        df_tag = True \n",
    "    else: \n",
    "        df = pd.merge(df, gsm.table, on='ID_REF') \n",
    "    if N is not None: \n",
    "        if count==N:\n",
    "            break \n",
    "print(count) "
   ]
  },
  {
   "cell_type": "code",
   "execution_count": 72,
   "id": "e37b4ffb",
   "metadata": {},
   "outputs": [
    {
     "data": {
      "text/html": [
       "<div>\n",
       "<style scoped>\n",
       "    .dataframe tbody tr th:only-of-type {\n",
       "        vertical-align: middle;\n",
       "    }\n",
       "\n",
       "    .dataframe tbody tr th {\n",
       "        vertical-align: top;\n",
       "    }\n",
       "\n",
       "    .dataframe thead th {\n",
       "        text-align: right;\n",
       "    }\n",
       "</style>\n",
       "<table border=\"1\" class=\"dataframe\">\n",
       "  <thead>\n",
       "    <tr style=\"text-align: right;\">\n",
       "      <th></th>\n",
       "      <th>ID_REF</th>\n",
       "      <th>Sample 1</th>\n",
       "      <th>Sample 2</th>\n",
       "      <th>Sample 3</th>\n",
       "      <th>Sample 4</th>\n",
       "      <th>Sample 5</th>\n",
       "      <th>Sample 6</th>\n",
       "      <th>Sample 7</th>\n",
       "      <th>Sample 8</th>\n",
       "      <th>Sample 9</th>\n",
       "      <th>...</th>\n",
       "      <th>Sample 796</th>\n",
       "      <th>Sample 797</th>\n",
       "      <th>Sample 798</th>\n",
       "      <th>Sample 799</th>\n",
       "      <th>Sample 800</th>\n",
       "      <th>Sample 801</th>\n",
       "      <th>Sample 802</th>\n",
       "      <th>Sample 803</th>\n",
       "      <th>Sample 804</th>\n",
       "      <th>Sample 805</th>\n",
       "    </tr>\n",
       "  </thead>\n",
       "  <tbody>\n",
       "    <tr>\n",
       "      <th>0</th>\n",
       "      <td>1007_PM_s_at</td>\n",
       "      <td>3.537552</td>\n",
       "      <td>3.249034</td>\n",
       "      <td>3.619226</td>\n",
       "      <td>3.632301</td>\n",
       "      <td>3.122761</td>\n",
       "      <td>2.834079</td>\n",
       "      <td>2.940208</td>\n",
       "      <td>2.990906</td>\n",
       "      <td>2.881942</td>\n",
       "      <td>...</td>\n",
       "      <td>3.229832</td>\n",
       "      <td>4.204281</td>\n",
       "      <td>3.749044</td>\n",
       "      <td>4.235812</td>\n",
       "      <td>4.264865</td>\n",
       "      <td>3.987187</td>\n",
       "      <td>4.066013</td>\n",
       "      <td>3.951750</td>\n",
       "      <td>3.473654</td>\n",
       "      <td>4.310494</td>\n",
       "    </tr>\n",
       "    <tr>\n",
       "      <th>1</th>\n",
       "      <td>1053_PM_at</td>\n",
       "      <td>5.463634</td>\n",
       "      <td>5.649695</td>\n",
       "      <td>5.251240</td>\n",
       "      <td>5.293127</td>\n",
       "      <td>5.501780</td>\n",
       "      <td>5.712752</td>\n",
       "      <td>6.270448</td>\n",
       "      <td>6.231601</td>\n",
       "      <td>5.918056</td>\n",
       "      <td>...</td>\n",
       "      <td>8.312935</td>\n",
       "      <td>8.039649</td>\n",
       "      <td>7.091779</td>\n",
       "      <td>7.175162</td>\n",
       "      <td>8.169330</td>\n",
       "      <td>7.758577</td>\n",
       "      <td>8.095759</td>\n",
       "      <td>7.503990</td>\n",
       "      <td>6.838982</td>\n",
       "      <td>7.100653</td>\n",
       "    </tr>\n",
       "    <tr>\n",
       "      <th>2</th>\n",
       "      <td>117_PM_at</td>\n",
       "      <td>9.742706</td>\n",
       "      <td>10.141563</td>\n",
       "      <td>10.007534</td>\n",
       "      <td>9.238588</td>\n",
       "      <td>9.687890</td>\n",
       "      <td>9.909333</td>\n",
       "      <td>9.060148</td>\n",
       "      <td>10.781097</td>\n",
       "      <td>8.955839</td>\n",
       "      <td>...</td>\n",
       "      <td>12.065630</td>\n",
       "      <td>11.762132</td>\n",
       "      <td>11.820712</td>\n",
       "      <td>11.504243</td>\n",
       "      <td>12.439893</td>\n",
       "      <td>11.846952</td>\n",
       "      <td>12.169529</td>\n",
       "      <td>11.808146</td>\n",
       "      <td>11.659724</td>\n",
       "      <td>11.171605</td>\n",
       "    </tr>\n",
       "    <tr>\n",
       "      <th>3</th>\n",
       "      <td>121_PM_at</td>\n",
       "      <td>2.929835</td>\n",
       "      <td>2.917571</td>\n",
       "      <td>3.038868</td>\n",
       "      <td>3.043550</td>\n",
       "      <td>3.225661</td>\n",
       "      <td>2.972903</td>\n",
       "      <td>2.915651</td>\n",
       "      <td>2.916912</td>\n",
       "      <td>2.726514</td>\n",
       "      <td>...</td>\n",
       "      <td>3.909385</td>\n",
       "      <td>4.087602</td>\n",
       "      <td>4.145250</td>\n",
       "      <td>3.893075</td>\n",
       "      <td>3.841426</td>\n",
       "      <td>3.909806</td>\n",
       "      <td>4.036336</td>\n",
       "      <td>3.717988</td>\n",
       "      <td>3.846171</td>\n",
       "      <td>3.995356</td>\n",
       "    </tr>\n",
       "    <tr>\n",
       "      <th>4</th>\n",
       "      <td>1255_PM_g_at</td>\n",
       "      <td>2.298061</td>\n",
       "      <td>2.298061</td>\n",
       "      <td>2.298061</td>\n",
       "      <td>2.298061</td>\n",
       "      <td>2.298061</td>\n",
       "      <td>2.298061</td>\n",
       "      <td>2.298061</td>\n",
       "      <td>2.298061</td>\n",
       "      <td>2.298061</td>\n",
       "      <td>...</td>\n",
       "      <td>2.227028</td>\n",
       "      <td>2.227028</td>\n",
       "      <td>2.227028</td>\n",
       "      <td>2.227028</td>\n",
       "      <td>2.227028</td>\n",
       "      <td>2.227028</td>\n",
       "      <td>2.227028</td>\n",
       "      <td>2.224344</td>\n",
       "      <td>2.227028</td>\n",
       "      <td>2.227028</td>\n",
       "    </tr>\n",
       "  </tbody>\n",
       "</table>\n",
       "<p>5 rows × 806 columns</p>\n",
       "</div>"
      ],
      "text/plain": [
       "         ID_REF  Sample 1   Sample 2   Sample 3  Sample 4  Sample 5  Sample 6  \\\n",
       "0  1007_PM_s_at  3.537552   3.249034   3.619226  3.632301  3.122761  2.834079   \n",
       "1    1053_PM_at  5.463634   5.649695   5.251240  5.293127  5.501780  5.712752   \n",
       "2     117_PM_at  9.742706  10.141563  10.007534  9.238588  9.687890  9.909333   \n",
       "3     121_PM_at  2.929835   2.917571   3.038868  3.043550  3.225661  2.972903   \n",
       "4  1255_PM_g_at  2.298061   2.298061   2.298061  2.298061  2.298061  2.298061   \n",
       "\n",
       "   Sample 7   Sample 8  Sample 9  ...  Sample 796  Sample 797  Sample 798  \\\n",
       "0  2.940208   2.990906  2.881942  ...    3.229832    4.204281    3.749044   \n",
       "1  6.270448   6.231601  5.918056  ...    8.312935    8.039649    7.091779   \n",
       "2  9.060148  10.781097  8.955839  ...   12.065630   11.762132   11.820712   \n",
       "3  2.915651   2.916912  2.726514  ...    3.909385    4.087602    4.145250   \n",
       "4  2.298061   2.298061  2.298061  ...    2.227028    2.227028    2.227028   \n",
       "\n",
       "   Sample 799  Sample 800  Sample 801  Sample 802  Sample 803  Sample 804  \\\n",
       "0    4.235812    4.264865    3.987187    4.066013    3.951750    3.473654   \n",
       "1    7.175162    8.169330    7.758577    8.095759    7.503990    6.838982   \n",
       "2   11.504243   12.439893   11.846952   12.169529   11.808146   11.659724   \n",
       "3    3.893075    3.841426    3.909806    4.036336    3.717988    3.846171   \n",
       "4    2.227028    2.227028    2.227028    2.227028    2.224344    2.227028   \n",
       "\n",
       "   Sample 805  \n",
       "0    4.310494  \n",
       "1    7.100653  \n",
       "2   11.171605  \n",
       "3    3.995356  \n",
       "4    2.227028  \n",
       "\n",
       "[5 rows x 806 columns]"
      ]
     },
     "execution_count": 72,
     "metadata": {},
     "output_type": "execute_result"
    }
   ],
   "source": [
    "cols=[\"Sample \"+str(i) for i in range(1, len(list(df.columns)))] \n",
    "cols.insert(0, \"ID_REF\") \n",
    "df.columns = cols \n",
    "df.head()"
   ]
  },
  {
   "cell_type": "code",
   "execution_count": 73,
   "id": "11b197b5",
   "metadata": {},
   "outputs": [
    {
     "data": {
      "text/plain": [
       "(54715, 806)"
      ]
     },
     "execution_count": 73,
     "metadata": {},
     "output_type": "execute_result"
    }
   ],
   "source": [
    "df.shape "
   ]
  },
  {
   "cell_type": "code",
   "execution_count": 76,
   "id": "3f77d64c",
   "metadata": {},
   "outputs": [
    {
     "name": "stdout",
     "output_type": "stream",
     "text": [
      "[17639.58637215  1568.56797869]\n"
     ]
    },
    {
     "data": {
      "text/plain": [
       "(2, 805)"
      ]
     },
     "execution_count": 76,
     "metadata": {},
     "output_type": "execute_result"
    }
   ],
   "source": [
    "from sklearn.decomposition import PCA \n",
    "n_components = 2 \n",
    "pca = PCA(n_components=n_components) \n",
    "pca.fit(df.drop(['ID_REF'], axis=1)) \n",
    "# print(pca.explained_variance_ratio_) \n",
    "print(pca.singular_values_) \n",
    "\n",
    "pca.components_.shape"
   ]
  },
  {
   "cell_type": "code",
   "execution_count": 78,
   "id": "91eea906",
   "metadata": {},
   "outputs": [
    {
     "data": {
      "image/png": "[encoded data removed]",
      "text/plain": [
       "<Figure size 432x288 with 1 Axes>"
      ]
     },
     "metadata": {
      "needs_background": "light"
     },
     "output_type": "display_data"
    }
   ],
   "source": [
    "x = pca.components_[0] \n",
    "y = pca.components_[1] \n",
    "if n_components==2: \n",
    "    plt.scatter(x, y) \n",
    "elif n_components==3: \n",
    "    z = pca.components_[2] \n",
    "    plt.scatter(x, y, c=z) \n",
    "    plt.colorbar() "
   ]
  },
  {
   "cell_type": "code",
   "execution_count": null,
   "id": "c296f7f6",
   "metadata": {},
   "outputs": [],
   "source": []
  }
 ],
 "metadata": {
  "kernelspec": {
   "display_name": "Python 3 (ipykernel)",
   "language": "python",
   "name": "python3"
  },
  "language_info": {
   "codemirror_mode": {
    "name": "ipython",
    "version": 3
   },
   "file_extension": ".py",
   "mimetype": "text/x-python",
   "name": "python",
   "nbconvert_exporter": "python",
   "pygments_lexer": "ipython3",
   "version": "3.9.13"
  }
 },
 "nbformat": 4,
 "nbformat_minor": 5
}
